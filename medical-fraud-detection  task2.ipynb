{
 "cells": [
  {
   "cell_type": "code",
   "execution_count": 1,
   "metadata": {
    "_cell_guid": "b1076dfc-b9ad-4769-8c92-a6c4dae69d19",
    "_uuid": "8f2839f25d086af736a60e9eeb907d3b93b6e0e5",
    "execution": {
     "iopub.execute_input": "2024-03-09T08:45:18.985586Z",
     "iopub.status.busy": "2024-03-09T08:45:18.985230Z",
     "iopub.status.idle": "2024-03-09T08:45:19.002328Z",
     "shell.execute_reply": "2024-03-09T08:45:19.001140Z",
     "shell.execute_reply.started": "2024-03-09T08:45:18.985559Z"
    }
   },
   "outputs": [],
   "source": [
    "import numpy as np\n",
    "import pandas as pd"
   ]
  },
  {
   "cell_type": "code",
   "execution_count": 2,
   "metadata": {
    "execution": {
     "iopub.execute_input": "2024-03-09T08:45:19.005284Z",
     "iopub.status.busy": "2024-03-09T08:45:19.004895Z",
     "iopub.status.idle": "2024-03-09T08:45:19.013773Z",
     "shell.execute_reply": "2024-03-09T08:45:19.012764Z",
     "shell.execute_reply.started": "2024-03-09T08:45:19.005253Z"
    }
   },
   "outputs": [],
   "source": [
    "import datetime as dt\n",
    "import matplotlib.pyplot as plt\n",
    "import seaborn as sns\n",
    "from sklearn.decomposition import PCA\n",
    "from sklearn.pipeline import Pipeline\n",
    "#from sklearn import neighborssum\n",
    "from sklearn import metrics\n",
    "from sklearn import model_selection\n",
    "from sklearn.model_selection import train_test_split as tts\n",
    "from sklearn.preprocessing import LabelEncoder, StandardScaler\n",
    "\n",
    "\n",
    "%matplotlib inline\n",
    "\n",
    "\n",
    "#building the Random Forest Classifier\n",
    "from sklearn.ensemble import RandomForestClassifier "
   ]
  },
  {
   "cell_type": "markdown",
   "metadata": {},
   "source": [
    "## 🩺 Background of this notebook:\n",
    "The healthcare insurance system in the United States primarily consists of two parts: social insurance and commercial insurance. Social insurance mainly provides free medical insurance for the elderly, low-income groups, and retired veterans. For the majority of the general population, purchasing commercial insurance is the only option. In 2021, healthcare expenditure in the United States accounted for approximately 18% of the GDP, and the immense volume makes the healthcare system a target for fraud.\n",
    "\n"
   ]
  },
  {
   "cell_type": "markdown",
   "metadata": {},
   "source": [
    "Medical insurance fraud results in significant economic losses, reduces the efficiency of the healthcare system, and affects the quality of medical services. This issue has become one of the biggest challenges in the U.S. healthcare system.\n",
    "\n",
    "Traditional manual methods of identifying medical insurance fraud have high thresholds and are inefficient. Therefore, there is a need to reduce costs and improve efficiency in fraud identification, as well as better handling claims and identifying potential fraudulent activities.\n",
    "\n",
    "Medical insurance fraud can be caused by multiple entities, including patients (or beneficiaries), healthcare service providers, and insurance providers. In this case study, our focus is primarily on fraudulent activities caused by providers in the insurance claims submitted to insurance agencies.\n",
    "\n",
    "We can build a machine learning model to determine whether claim records exhibit fraudulent behavior. Regarding the model, it is essential to ensure interpretability of the results, providing appropriate reasons for identifying cases as fraudulent. In terms of errors, a higher false positive rate may be acceptable, but efforts should be made to minimize false negative rates. There is no strict requirement on computational speed."
   ]
  },
  {
   "cell_type": "markdown",
   "metadata": {},
   "source": [
    "## Read the data"
   ]
  },
  {
   "cell_type": "code",
   "execution_count": 3,
   "metadata": {
    "execution": {
     "iopub.execute_input": "2024-03-09T08:45:19.015221Z",
     "iopub.status.busy": "2024-03-09T08:45:19.014909Z",
     "iopub.status.idle": "2024-03-09T08:45:21.454030Z",
     "shell.execute_reply": "2024-03-09T08:45:21.452999Z",
     "shell.execute_reply.started": "2024-03-09T08:45:19.015193Z"
    }
   },
   "outputs": [],
   "source": [
    "# beneficiary data\n",
    "bene_train = pd.read_csv(r'C:\\Users\\hp\\Downloads\\Train_Beneficiarydata-1542865627584.csv')\n",
    "bene_test= pd.read_csv(r'C:\\Users\\hp\\Downloads\\Test_Beneficiarydata-1542969243754.csv')\n",
    "\n",
    "# inpatient data\n",
    "inp_test = pd.read_csv(r'C:\\Users\\hp\\Downloads\\Test_Inpatientdata-1542969243754.csv')\n",
    "inp_train = pd.read_csv(r'C:\\Users\\hp\\Downloads\\Train_Inpatientdata-1542865627584.csv')\n",
    "\n",
    "# outpatient data\n",
    "outp_test= pd.read_csv(r'C:\\Users\\hp\\Downloads\\Test_Outpatientdata-1542969243754.csv')\n",
    "outp_train = pd.read_csv(r'C:\\Users\\hp\\Downloads\\Train_Outpatientdata-1542865627584.csv')\n",
    "\n",
    "#label data\n",
    "label_train = pd.read_csv(r'C:\\Users\\hp\\Downloads\\Train-1542865627584.csv')\n",
    "label_test = pd.read_csv(r'C:\\Users\\hp\\Downloads\\Test-1542969243754.csv')\n"
   ]
  },
  {
   "cell_type": "markdown",
   "metadata": {},
   "source": [
    "## Beneficiary data"
   ]
  },
  {
   "cell_type": "code",
   "execution_count": 4,
   "metadata": {
    "execution": {
     "iopub.execute_input": "2024-03-09T08:45:21.456493Z",
     "iopub.status.busy": "2024-03-09T08:45:21.456183Z",
     "iopub.status.idle": "2024-03-09T08:45:21.488800Z",
     "shell.execute_reply": "2024-03-09T08:45:21.487349Z",
     "shell.execute_reply.started": "2024-03-09T08:45:21.456468Z"
    }
   },
   "outputs": [
    {
     "name": "stdout",
     "output_type": "stream",
     "text": [
      "<class 'pandas.core.frame.DataFrame'>\n",
      "RangeIndex: 138556 entries, 0 to 138555\n",
      "Data columns (total 25 columns):\n",
      " #   Column                           Non-Null Count   Dtype \n",
      "---  ------                           --------------   ----- \n",
      " 0   BeneID                           138556 non-null  object\n",
      " 1   DOB                              138556 non-null  object\n",
      " 2   DOD                              1421 non-null    object\n",
      " 3   Gender                           138556 non-null  int64 \n",
      " 4   Race                             138556 non-null  int64 \n",
      " 5   RenalDiseaseIndicator            138556 non-null  object\n",
      " 6   State                            138556 non-null  int64 \n",
      " 7   County                           138556 non-null  int64 \n",
      " 8   NoOfMonths_PartACov              138556 non-null  int64 \n",
      " 9   NoOfMonths_PartBCov              138556 non-null  int64 \n",
      " 10  ChronicCond_Alzheimer            138556 non-null  int64 \n",
      " 11  ChronicCond_Heartfailure         138556 non-null  int64 \n",
      " 12  ChronicCond_KidneyDisease        138556 non-null  int64 \n",
      " 13  ChronicCond_Cancer               138556 non-null  int64 \n",
      " 14  ChronicCond_ObstrPulmonary       138556 non-null  int64 \n",
      " 15  ChronicCond_Depression           138556 non-null  int64 \n",
      " 16  ChronicCond_Diabetes             138556 non-null  int64 \n",
      " 17  ChronicCond_IschemicHeart        138556 non-null  int64 \n",
      " 18  ChronicCond_Osteoporasis         138556 non-null  int64 \n",
      " 19  ChronicCond_rheumatoidarthritis  138556 non-null  int64 \n",
      " 20  ChronicCond_stroke               138556 non-null  int64 \n",
      " 21  IPAnnualReimbursementAmt         138556 non-null  int64 \n",
      " 22  IPAnnualDeductibleAmt            138556 non-null  int64 \n",
      " 23  OPAnnualReimbursementAmt         138556 non-null  int64 \n",
      " 24  OPAnnualDeductibleAmt            138556 non-null  int64 \n",
      "dtypes: int64(21), object(4)\n",
      "memory usage: 26.4+ MB\n"
     ]
    }
   ],
   "source": [
    "bene_train.info()"
   ]
  },
  {
   "cell_type": "markdown",
   "metadata": {},
   "source": [
    "## EDA of the beneficiary data (the train set)"
   ]
  },
  {
   "cell_type": "code",
   "execution_count": 5,
   "metadata": {
    "execution": {
     "iopub.execute_input": "2024-03-09T08:45:21.490935Z",
     "iopub.status.busy": "2024-03-09T08:45:21.490476Z",
     "iopub.status.idle": "2024-03-09T08:45:21.497837Z",
     "shell.execute_reply": "2024-03-09T08:45:21.496522Z",
     "shell.execute_reply.started": "2024-03-09T08:45:21.490906Z"
    }
   },
   "outputs": [
    {
     "data": {
      "text/plain": [
       "((138556, 25), (63968, 25))"
      ]
     },
     "execution_count": 5,
     "metadata": {},
     "output_type": "execute_result"
    }
   ],
   "source": [
    "bene_train.shape, bene_test.shape"
   ]
  },
  {
   "cell_type": "code",
   "execution_count": 6,
   "metadata": {
    "execution": {
     "iopub.execute_input": "2024-03-09T08:45:21.500313Z",
     "iopub.status.busy": "2024-03-09T08:45:21.499141Z",
     "iopub.status.idle": "2024-03-09T08:45:21.510933Z",
     "shell.execute_reply": "2024-03-09T08:45:21.509657Z",
     "shell.execute_reply.started": "2024-03-09T08:45:21.500267Z"
    }
   },
   "outputs": [
    {
     "data": {
      "text/plain": [
       "Index(['BeneID', 'DOB', 'DOD', 'Gender', 'Race', 'RenalDiseaseIndicator',\n",
       "       'State', 'County', 'NoOfMonths_PartACov', 'NoOfMonths_PartBCov',\n",
       "       'ChronicCond_Alzheimer', 'ChronicCond_Heartfailure',\n",
       "       'ChronicCond_KidneyDisease', 'ChronicCond_Cancer',\n",
       "       'ChronicCond_ObstrPulmonary', 'ChronicCond_Depression',\n",
       "       'ChronicCond_Diabetes', 'ChronicCond_IschemicHeart',\n",
       "       'ChronicCond_Osteoporasis', 'ChronicCond_rheumatoidarthritis',\n",
       "       'ChronicCond_stroke', 'IPAnnualReimbursementAmt',\n",
       "       'IPAnnualDeductibleAmt', 'OPAnnualReimbursementAmt',\n",
       "       'OPAnnualDeductibleAmt'],\n",
       "      dtype='object')"
      ]
     },
     "execution_count": 6,
     "metadata": {},
     "output_type": "execute_result"
    }
   ],
   "source": [
    "bene_train.columns"
   ]
  },
  {
   "cell_type": "markdown",
   "metadata": {},
   "source": [
    "**Gender distribution of the data**"
   ]
  },
  {
   "cell_type": "code",
   "execution_count": 7,
   "metadata": {
    "execution": {
     "iopub.execute_input": "2024-03-09T08:45:21.512133Z",
     "iopub.status.busy": "2024-03-09T08:45:21.511861Z",
     "iopub.status.idle": "2024-03-09T08:45:21.668595Z",
     "shell.execute_reply": "2024-03-09T08:45:21.667542Z",
     "shell.execute_reply.started": "2024-03-09T08:45:21.512111Z"
    }
   },
   "outputs": [
    {
     "data": {
      "image/png": "[encoded data removed]",
      "text/plain": [
       "<Figure size 800x600 with 1 Axes>"
      ]
     },
     "metadata": {},
     "output_type": "display_data"
    }
   ],
   "source": [
    "def func(pct, allvalues):\n",
    "    absolute = int(pct / 100.*np.sum(allvalues))\n",
    "    return \"{:.1f}%\".format(pct, absolute)\n",
    "\n",
    "plt.figure(figsize=(8,6),dpi=100)\n",
    "\n",
    "data=bene_train.groupby('Gender').count().BeneID\n",
    "fig = plt.pie(data,\n",
    "              labels=data.index,\n",
    "              autopct = lambda pct: func(pct, data.values),)\n",
    "plt.title(\"gender distribution among beneficiary data\")\n",
    "\n",
    "fig = plt.pie(data)"
   ]
  },
  {
   "cell_type": "markdown",
   "metadata": {},
   "source": [
    "## Adding new feature and dropping features that are irrelevent"
   ]
  },
  {
   "cell_type": "code",
   "execution_count": 8,
   "metadata": {
    "execution": {
     "iopub.execute_input": "2024-03-09T08:45:21.670274Z",
     "iopub.status.busy": "2024-03-09T08:45:21.669983Z",
     "iopub.status.idle": "2024-03-09T08:45:21.678369Z",
     "shell.execute_reply": "2024-03-09T08:45:21.677584Z",
     "shell.execute_reply.started": "2024-03-09T08:45:21.670241Z"
    }
   },
   "outputs": [
    {
     "data": {
      "text/plain": [
       "0    0\n",
       "1    0\n",
       "2    0\n",
       "3    0\n",
       "4    0\n",
       "5    0\n",
       "6    0\n",
       "7    0\n",
       "8    Y\n",
       "9    0\n",
       "Name: RenalDiseaseIndicator, dtype: object"
      ]
     },
     "execution_count": 8,
     "metadata": {},
     "output_type": "execute_result"
    }
   ],
   "source": [
    "bene_train['RenalDiseaseIndicator'][:10]"
   ]
  },
  {
   "cell_type": "code",
   "execution_count": 9,
   "metadata": {
    "execution": {
     "iopub.execute_input": "2024-03-09T08:45:21.683061Z",
     "iopub.status.busy": "2024-03-09T08:45:21.682290Z",
     "iopub.status.idle": "2024-03-09T08:45:21.730585Z",
     "shell.execute_reply": "2024-03-09T08:45:21.729811Z",
     "shell.execute_reply.started": "2024-03-09T08:45:21.683033Z"
    }
   },
   "outputs": [],
   "source": [
    "# this value indicates whether the beneficiary has renal disease\n",
    "bene_train['RenalDiseaseIndicator'].replace('Y','1',inplace=True)\n",
    "bene_train['RenalDiseaseIndicator'] = bene_train['RenalDiseaseIndicator'].astype(int)   \n",
    "bene_test['RenalDiseaseIndicator'].replace('Y','1',inplace=True)\n",
    "bene_test['RenalDiseaseIndicator'] = bene_test['RenalDiseaseIndicator'].astype(int)\n",
    "    "
   ]
  },
  {
   "cell_type": "markdown",
   "metadata": {},
   "source": [
    "### Data Reduction: Delete DOD DOB and change it into new feature 'Age' and 'Alive'"
   ]
  },
  {
   "cell_type": "code",
   "execution_count": 10,
   "metadata": {
    "execution": {
     "iopub.execute_input": "2024-03-09T08:45:21.732830Z",
     "iopub.status.busy": "2024-03-09T08:45:21.731903Z",
     "iopub.status.idle": "2024-03-09T08:45:21.805489Z",
     "shell.execute_reply": "2024-03-09T08:45:21.804482Z",
     "shell.execute_reply.started": "2024-03-09T08:45:21.732797Z"
    }
   },
   "outputs": [],
   "source": [
    "for col in ['DOB','DOD']:  \n",
    "    bene_train[col] = pd.to_datetime(bene_train[col])\n",
    "    bene_test[col] = pd.to_datetime(bene_test[col])\n",
    "\n",
    "\n",
    "bene_train['BirthYear'] = bene_train['DOB'].dt.year\n",
    "bene_test['BirthYear'] = bene_test['DOB'].dt.year\n",
    "\n",
    "\n",
    "# Greatest Date of Death in the TRAIN set for beneficiaries\n",
    "max_bene_DOD = max(bene_train['DOD'].unique()[1:])\n",
    "# For all NAN DODs filling the greatest Date of Death\n",
    "bene_train['DOD'].fillna(value=max_bene_DOD, inplace=True)\n",
    "\n",
    "# Same thing for the test set\n",
    "max_bene_DOD = max(bene_test['DOD'].unique()[1:])\n",
    "# For all NAN DODs filling the greatest Date of Death\n",
    "bene_test['DOD'].fillna(value=max_bene_DOD, inplace=True)\n",
    "\n",
    "\n",
    "bene_train['Age'] = round(((bene_train['DOD'] - bene_train['DOB']).dt.days)/365,0)\n",
    "bene_test['Age'] = round(((bene_test['DOD'] - bene_test['DOB']).dt.days)/365,0)"
   ]
  },
  {
   "cell_type": "code",
   "execution_count": 11,
   "metadata": {
    "execution": {
     "iopub.execute_input": "2024-03-09T08:45:21.806858Z",
     "iopub.status.busy": "2024-03-09T08:45:21.806596Z",
     "iopub.status.idle": "2024-03-09T08:45:22.266311Z",
     "shell.execute_reply": "2024-03-09T08:45:22.264947Z",
     "shell.execute_reply.started": "2024-03-09T08:45:21.806836Z"
    }
   },
   "outputs": [],
   "source": [
    "bene_train['Alive'] = bene_train['DOD'].apply(lambda x: 1 if x != x else 0)\n",
    "bene_test['Alive'] = bene_test['DOD'].apply(lambda x: 1 if x != x else 0)"
   ]
  },
  {
   "cell_type": "code",
   "execution_count": 12,
   "metadata": {
    "execution": {
     "iopub.execute_input": "2024-03-09T08:45:22.267877Z",
     "iopub.status.busy": "2024-03-09T08:45:22.267588Z",
     "iopub.status.idle": "2024-03-09T08:45:22.847515Z",
     "shell.execute_reply": "2024-03-09T08:45:22.846346Z",
     "shell.execute_reply.started": "2024-03-09T08:45:22.267850Z"
    }
   },
   "outputs": [
    {
     "data": {
      "image/png": "[encoded data removed]",
      "text/plain": [
       "<Figure size 1500x600 with 1 Axes>"
      ]
     },
     "metadata": {},
     "output_type": "display_data"
    }
   ],
   "source": [
    "fig, ax = plt.subplots(figsize=(15,6),dpi=100)\n",
    "\n",
    "sns.histplot(data=bene_train,x='BirthYear',hue='Alive',legend=False,ax=ax)\n",
    "plt.legend(['Alive','Dead'])\n",
    "plt.title('Birth year distibution of the beneficiary')\n",
    "#fig = plt.bar(x=bene_train['BirthYear'].value_counts().index, height = bene_train['BirthYear'].value_counts())\n",
    "plt.tight_layout()\n",
    "plt.show()"
   ]
  },
  {
   "cell_type": "code",
   "execution_count": 13,
   "metadata": {
    "execution": {
     "iopub.execute_input": "2024-03-09T08:45:22.849011Z",
     "iopub.status.busy": "2024-03-09T08:45:22.848739Z",
     "iopub.status.idle": "2024-03-09T08:45:23.068555Z",
     "shell.execute_reply": "2024-03-09T08:45:23.067600Z",
     "shell.execute_reply.started": "2024-03-09T08:45:22.848988Z"
    }
   },
   "outputs": [
    {
     "data": {
      "image/png": "[encoded data removed]",
      "text/plain": [
       "<Figure size 800x600 with 1 Axes>"
      ]
     },
     "metadata": {},
     "output_type": "display_data"
    }
   ],
   "source": [
    "plt.figure(figsize=(8,6))\n",
    "\n",
    "fig = plt.bar(x=bene_train['Alive'].value_counts().index, height = bene_train['Alive'].value_counts())\n",
    "plt.title('the distribution between Alive and not')\n",
    "label = ['alive','dead']\n",
    "# plt.xticks()\n",
    "cnt = 0\n",
    "for p in fig.patches:\n",
    "    height = p.get_height()\n",
    "    width = p.get_width()\n",
    "    x, y = p.get_xy()\n",
    "    plt.annotate(label[cnt],(x+width/3.35,y+height+280),ha='center')\n",
    "    plt.annotate(f'{str(round((100*height)/(bene_train[\"Alive\"].shape[0]),2))+\"%\"}',(x+width/2,y+height+280),ha='center')\n",
    "    cnt+=1\n",
    "\n",
    "plt.show()"
   ]
  },
  {
   "cell_type": "code",
   "execution_count": 14,
   "metadata": {
    "execution": {
     "iopub.execute_input": "2024-03-09T08:45:23.069760Z",
     "iopub.status.busy": "2024-03-09T08:45:23.069552Z",
     "iopub.status.idle": "2024-03-09T08:45:23.429605Z",
     "shell.execute_reply": "2024-03-09T08:45:23.428765Z",
     "shell.execute_reply.started": "2024-03-09T08:45:23.069740Z"
    }
   },
   "outputs": [
    {
     "data": {
      "image/png": "[encoded data removed]",
      "text/plain": [
       "<Figure size 1500x400 with 1 Axes>"
      ]
     },
     "metadata": {},
     "output_type": "display_data"
    }
   ],
   "source": [
    "fig, ax = plt.subplots(figsize=(15,4),dpi=100)\n",
    "ax.grid( linestyle=\"--\", color='lightgrey')\n",
    "plt.title('Age distibution between beneficiaries')\n",
    "\n",
    "sns.histplot(data=bene_train,x='Age',hue='Alive',legend=False,ax=ax,bins=50) #bins=5\n",
    "plt.legend(['Alive','Dead'])\n",
    "#fig = plt.bar(x=bene_train['BirthYear'].value_counts().index, height = bene_train['BirthYear'].value_counts())\n",
    "\n",
    "plt.show()"
   ]
  },
  {
   "cell_type": "code",
   "execution_count": 15,
   "metadata": {
    "execution": {
     "iopub.execute_input": "2024-03-09T08:45:23.430710Z",
     "iopub.status.busy": "2024-03-09T08:45:23.430470Z",
     "iopub.status.idle": "2024-03-09T08:45:23.446979Z",
     "shell.execute_reply": "2024-03-09T08:45:23.446023Z",
     "shell.execute_reply.started": "2024-03-09T08:45:23.430689Z"
    }
   },
   "outputs": [],
   "source": [
    "bene_train.drop(labels=['DOD','BirthYear'],axis=1,inplace=True)\n",
    "bene_test.drop(labels=['DOD','BirthYear'],axis=1,inplace=True)"
   ]
  },
  {
   "cell_type": "markdown",
   "metadata": {},
   "source": [
    "### NoOfMonths_PartACOV and NoOfMonths_PartBCOV"
   ]
  },
  {
   "cell_type": "code",
   "execution_count": 16,
   "metadata": {
    "execution": {
     "iopub.execute_input": "2024-03-09T08:45:23.449425Z",
     "iopub.status.busy": "2024-03-09T08:45:23.448432Z",
     "iopub.status.idle": "2024-03-09T08:45:23.495370Z",
     "shell.execute_reply": "2024-03-09T08:45:23.494564Z",
     "shell.execute_reply.started": "2024-03-09T08:45:23.449389Z"
    }
   },
   "outputs": [
    {
     "data": {
      "text/html": [
       "<div>\n",
       "<style scoped>\n",
       "    .dataframe tbody tr th:only-of-type {\n",
       "        vertical-align: middle;\n",
       "    }\n",
       "\n",
       "    .dataframe tbody tr th {\n",
       "        vertical-align: top;\n",
       "    }\n",
       "\n",
       "    .dataframe thead th {\n",
       "        text-align: right;\n",
       "    }\n",
       "</style>\n",
       "<table border=\"1\" class=\"dataframe\">\n",
       "  <thead>\n",
       "    <tr style=\"text-align: right;\">\n",
       "      <th></th>\n",
       "      <th>BeneID</th>\n",
       "      <th>DOB</th>\n",
       "      <th>Gender</th>\n",
       "      <th>Race</th>\n",
       "      <th>RenalDiseaseIndicator</th>\n",
       "      <th>State</th>\n",
       "      <th>County</th>\n",
       "      <th>NoOfMonths_PartBCov</th>\n",
       "      <th>ChronicCond_Alzheimer</th>\n",
       "      <th>ChronicCond_Heartfailure</th>\n",
       "      <th>...</th>\n",
       "      <th>ChronicCond_IschemicHeart</th>\n",
       "      <th>ChronicCond_Osteoporasis</th>\n",
       "      <th>ChronicCond_rheumatoidarthritis</th>\n",
       "      <th>ChronicCond_stroke</th>\n",
       "      <th>IPAnnualReimbursementAmt</th>\n",
       "      <th>IPAnnualDeductibleAmt</th>\n",
       "      <th>OPAnnualReimbursementAmt</th>\n",
       "      <th>OPAnnualDeductibleAmt</th>\n",
       "      <th>Age</th>\n",
       "      <th>Alive</th>\n",
       "    </tr>\n",
       "    <tr>\n",
       "      <th>NoOfMonths_PartACov</th>\n",
       "      <th></th>\n",
       "      <th></th>\n",
       "      <th></th>\n",
       "      <th></th>\n",
       "      <th></th>\n",
       "      <th></th>\n",
       "      <th></th>\n",
       "      <th></th>\n",
       "      <th></th>\n",
       "      <th></th>\n",
       "      <th></th>\n",
       "      <th></th>\n",
       "      <th></th>\n",
       "      <th></th>\n",
       "      <th></th>\n",
       "      <th></th>\n",
       "      <th></th>\n",
       "      <th></th>\n",
       "      <th></th>\n",
       "      <th></th>\n",
       "      <th></th>\n",
       "    </tr>\n",
       "  </thead>\n",
       "  <tbody>\n",
       "    <tr>\n",
       "      <th>0</th>\n",
       "      <td>1000</td>\n",
       "      <td>1000</td>\n",
       "      <td>1000</td>\n",
       "      <td>1000</td>\n",
       "      <td>1000</td>\n",
       "      <td>1000</td>\n",
       "      <td>1000</td>\n",
       "      <td>1000</td>\n",
       "      <td>1000</td>\n",
       "      <td>1000</td>\n",
       "      <td>...</td>\n",
       "      <td>1000</td>\n",
       "      <td>1000</td>\n",
       "      <td>1000</td>\n",
       "      <td>1000</td>\n",
       "      <td>1000</td>\n",
       "      <td>1000</td>\n",
       "      <td>1000</td>\n",
       "      <td>1000</td>\n",
       "      <td>1000</td>\n",
       "      <td>1000</td>\n",
       "    </tr>\n",
       "    <tr>\n",
       "      <th>1</th>\n",
       "      <td>3</td>\n",
       "      <td>3</td>\n",
       "      <td>3</td>\n",
       "      <td>3</td>\n",
       "      <td>3</td>\n",
       "      <td>3</td>\n",
       "      <td>3</td>\n",
       "      <td>3</td>\n",
       "      <td>3</td>\n",
       "      <td>3</td>\n",
       "      <td>...</td>\n",
       "      <td>3</td>\n",
       "      <td>3</td>\n",
       "      <td>3</td>\n",
       "      <td>3</td>\n",
       "      <td>3</td>\n",
       "      <td>3</td>\n",
       "      <td>3</td>\n",
       "      <td>3</td>\n",
       "      <td>3</td>\n",
       "      <td>3</td>\n",
       "    </tr>\n",
       "    <tr>\n",
       "      <th>2</th>\n",
       "      <td>5</td>\n",
       "      <td>5</td>\n",
       "      <td>5</td>\n",
       "      <td>5</td>\n",
       "      <td>5</td>\n",
       "      <td>5</td>\n",
       "      <td>5</td>\n",
       "      <td>5</td>\n",
       "      <td>5</td>\n",
       "      <td>5</td>\n",
       "      <td>...</td>\n",
       "      <td>5</td>\n",
       "      <td>5</td>\n",
       "      <td>5</td>\n",
       "      <td>5</td>\n",
       "      <td>5</td>\n",
       "      <td>5</td>\n",
       "      <td>5</td>\n",
       "      <td>5</td>\n",
       "      <td>5</td>\n",
       "      <td>5</td>\n",
       "    </tr>\n",
       "    <tr>\n",
       "      <th>3</th>\n",
       "      <td>5</td>\n",
       "      <td>5</td>\n",
       "      <td>5</td>\n",
       "      <td>5</td>\n",
       "      <td>5</td>\n",
       "      <td>5</td>\n",
       "      <td>5</td>\n",
       "      <td>5</td>\n",
       "      <td>5</td>\n",
       "      <td>5</td>\n",
       "      <td>...</td>\n",
       "      <td>5</td>\n",
       "      <td>5</td>\n",
       "      <td>5</td>\n",
       "      <td>5</td>\n",
       "      <td>5</td>\n",
       "      <td>5</td>\n",
       "      <td>5</td>\n",
       "      <td>5</td>\n",
       "      <td>5</td>\n",
       "      <td>5</td>\n",
       "    </tr>\n",
       "    <tr>\n",
       "      <th>4</th>\n",
       "      <td>13</td>\n",
       "      <td>13</td>\n",
       "      <td>13</td>\n",
       "      <td>13</td>\n",
       "      <td>13</td>\n",
       "      <td>13</td>\n",
       "      <td>13</td>\n",
       "      <td>13</td>\n",
       "      <td>13</td>\n",
       "      <td>13</td>\n",
       "      <td>...</td>\n",
       "      <td>13</td>\n",
       "      <td>13</td>\n",
       "      <td>13</td>\n",
       "      <td>13</td>\n",
       "      <td>13</td>\n",
       "      <td>13</td>\n",
       "      <td>13</td>\n",
       "      <td>13</td>\n",
       "      <td>13</td>\n",
       "      <td>13</td>\n",
       "    </tr>\n",
       "    <tr>\n",
       "      <th>5</th>\n",
       "      <td>8</td>\n",
       "      <td>8</td>\n",
       "      <td>8</td>\n",
       "      <td>8</td>\n",
       "      <td>8</td>\n",
       "      <td>8</td>\n",
       "      <td>8</td>\n",
       "      <td>8</td>\n",
       "      <td>8</td>\n",
       "      <td>8</td>\n",
       "      <td>...</td>\n",
       "      <td>8</td>\n",
       "      <td>8</td>\n",
       "      <td>8</td>\n",
       "      <td>8</td>\n",
       "      <td>8</td>\n",
       "      <td>8</td>\n",
       "      <td>8</td>\n",
       "      <td>8</td>\n",
       "      <td>8</td>\n",
       "      <td>8</td>\n",
       "    </tr>\n",
       "    <tr>\n",
       "      <th>6</th>\n",
       "      <td>38</td>\n",
       "      <td>38</td>\n",
       "      <td>38</td>\n",
       "      <td>38</td>\n",
       "      <td>38</td>\n",
       "      <td>38</td>\n",
       "      <td>38</td>\n",
       "      <td>38</td>\n",
       "      <td>38</td>\n",
       "      <td>38</td>\n",
       "      <td>...</td>\n",
       "      <td>38</td>\n",
       "      <td>38</td>\n",
       "      <td>38</td>\n",
       "      <td>38</td>\n",
       "      <td>38</td>\n",
       "      <td>38</td>\n",
       "      <td>38</td>\n",
       "      <td>38</td>\n",
       "      <td>38</td>\n",
       "      <td>38</td>\n",
       "    </tr>\n",
       "    <tr>\n",
       "      <th>7</th>\n",
       "      <td>16</td>\n",
       "      <td>16</td>\n",
       "      <td>16</td>\n",
       "      <td>16</td>\n",
       "      <td>16</td>\n",
       "      <td>16</td>\n",
       "      <td>16</td>\n",
       "      <td>16</td>\n",
       "      <td>16</td>\n",
       "      <td>16</td>\n",
       "      <td>...</td>\n",
       "      <td>16</td>\n",
       "      <td>16</td>\n",
       "      <td>16</td>\n",
       "      <td>16</td>\n",
       "      <td>16</td>\n",
       "      <td>16</td>\n",
       "      <td>16</td>\n",
       "      <td>16</td>\n",
       "      <td>16</td>\n",
       "      <td>16</td>\n",
       "    </tr>\n",
       "    <tr>\n",
       "      <th>8</th>\n",
       "      <td>26</td>\n",
       "      <td>26</td>\n",
       "      <td>26</td>\n",
       "      <td>26</td>\n",
       "      <td>26</td>\n",
       "      <td>26</td>\n",
       "      <td>26</td>\n",
       "      <td>26</td>\n",
       "      <td>26</td>\n",
       "      <td>26</td>\n",
       "      <td>...</td>\n",
       "      <td>26</td>\n",
       "      <td>26</td>\n",
       "      <td>26</td>\n",
       "      <td>26</td>\n",
       "      <td>26</td>\n",
       "      <td>26</td>\n",
       "      <td>26</td>\n",
       "      <td>26</td>\n",
       "      <td>26</td>\n",
       "      <td>26</td>\n",
       "    </tr>\n",
       "    <tr>\n",
       "      <th>9</th>\n",
       "      <td>7</td>\n",
       "      <td>7</td>\n",
       "      <td>7</td>\n",
       "      <td>7</td>\n",
       "      <td>7</td>\n",
       "      <td>7</td>\n",
       "      <td>7</td>\n",
       "      <td>7</td>\n",
       "      <td>7</td>\n",
       "      <td>7</td>\n",
       "      <td>...</td>\n",
       "      <td>7</td>\n",
       "      <td>7</td>\n",
       "      <td>7</td>\n",
       "      <td>7</td>\n",
       "      <td>7</td>\n",
       "      <td>7</td>\n",
       "      <td>7</td>\n",
       "      <td>7</td>\n",
       "      <td>7</td>\n",
       "      <td>7</td>\n",
       "    </tr>\n",
       "    <tr>\n",
       "      <th>10</th>\n",
       "      <td>18</td>\n",
       "      <td>18</td>\n",
       "      <td>18</td>\n",
       "      <td>18</td>\n",
       "      <td>18</td>\n",
       "      <td>18</td>\n",
       "      <td>18</td>\n",
       "      <td>18</td>\n",
       "      <td>18</td>\n",
       "      <td>18</td>\n",
       "      <td>...</td>\n",
       "      <td>18</td>\n",
       "      <td>18</td>\n",
       "      <td>18</td>\n",
       "      <td>18</td>\n",
       "      <td>18</td>\n",
       "      <td>18</td>\n",
       "      <td>18</td>\n",
       "      <td>18</td>\n",
       "      <td>18</td>\n",
       "      <td>18</td>\n",
       "    </tr>\n",
       "    <tr>\n",
       "      <th>11</th>\n",
       "      <td>28</td>\n",
       "      <td>28</td>\n",
       "      <td>28</td>\n",
       "      <td>28</td>\n",
       "      <td>28</td>\n",
       "      <td>28</td>\n",
       "      <td>28</td>\n",
       "      <td>28</td>\n",
       "      <td>28</td>\n",
       "      <td>28</td>\n",
       "      <td>...</td>\n",
       "      <td>28</td>\n",
       "      <td>28</td>\n",
       "      <td>28</td>\n",
       "      <td>28</td>\n",
       "      <td>28</td>\n",
       "      <td>28</td>\n",
       "      <td>28</td>\n",
       "      <td>28</td>\n",
       "      <td>28</td>\n",
       "      <td>28</td>\n",
       "    </tr>\n",
       "    <tr>\n",
       "      <th>12</th>\n",
       "      <td>137389</td>\n",
       "      <td>137389</td>\n",
       "      <td>137389</td>\n",
       "      <td>137389</td>\n",
       "      <td>137389</td>\n",
       "      <td>137389</td>\n",
       "      <td>137389</td>\n",
       "      <td>137389</td>\n",
       "      <td>137389</td>\n",
       "      <td>137389</td>\n",
       "      <td>...</td>\n",
       "      <td>137389</td>\n",
       "      <td>137389</td>\n",
       "      <td>137389</td>\n",
       "      <td>137389</td>\n",
       "      <td>137389</td>\n",
       "      <td>137389</td>\n",
       "      <td>137389</td>\n",
       "      <td>137389</td>\n",
       "      <td>137389</td>\n",
       "      <td>137389</td>\n",
       "    </tr>\n",
       "  </tbody>\n",
       "</table>\n",
       "<p>13 rows × 25 columns</p>\n",
       "</div>"
      ],
      "text/plain": [
       "                     BeneID     DOB  Gender    Race  RenalDiseaseIndicator  \\\n",
       "NoOfMonths_PartACov                                                          \n",
       "0                      1000    1000    1000    1000                   1000   \n",
       "1                         3       3       3       3                      3   \n",
       "2                         5       5       5       5                      5   \n",
       "3                         5       5       5       5                      5   \n",
       "4                        13      13      13      13                     13   \n",
       "5                         8       8       8       8                      8   \n",
       "6                        38      38      38      38                     38   \n",
       "7                        16      16      16      16                     16   \n",
       "8                        26      26      26      26                     26   \n",
       "9                         7       7       7       7                      7   \n",
       "10                       18      18      18      18                     18   \n",
       "11                       28      28      28      28                     28   \n",
       "12                   137389  137389  137389  137389                 137389   \n",
       "\n",
       "                      State  County  NoOfMonths_PartBCov  \\\n",
       "NoOfMonths_PartACov                                        \n",
       "0                      1000    1000                 1000   \n",
       "1                         3       3                    3   \n",
       "2                         5       5                    5   \n",
       "3                         5       5                    5   \n",
       "4                        13      13                   13   \n",
       "5                         8       8                    8   \n",
       "6                        38      38                   38   \n",
       "7                        16      16                   16   \n",
       "8                        26      26                   26   \n",
       "9                         7       7                    7   \n",
       "10                       18      18                   18   \n",
       "11                       28      28                   28   \n",
       "12                   137389  137389               137389   \n",
       "\n",
       "                     ChronicCond_Alzheimer  ChronicCond_Heartfailure  ...  \\\n",
       "NoOfMonths_PartACov                                                   ...   \n",
       "0                                     1000                      1000  ...   \n",
       "1                                        3                         3  ...   \n",
       "2                                        5                         5  ...   \n",
       "3                                        5                         5  ...   \n",
       "4                                       13                        13  ...   \n",
       "5                                        8                         8  ...   \n",
       "6                                       38                        38  ...   \n",
       "7                                       16                        16  ...   \n",
       "8                                       26                        26  ...   \n",
       "9                                        7                         7  ...   \n",
       "10                                      18                        18  ...   \n",
       "11                                      28                        28  ...   \n",
       "12                                  137389                    137389  ...   \n",
       "\n",
       "                     ChronicCond_IschemicHeart  ChronicCond_Osteoporasis  \\\n",
       "NoOfMonths_PartACov                                                        \n",
       "0                                         1000                      1000   \n",
       "1                                            3                         3   \n",
       "2                                            5                         5   \n",
       "3                                            5                         5   \n",
       "4                                           13                        13   \n",
       "5                                            8                         8   \n",
       "6                                           38                        38   \n",
       "7                                           16                        16   \n",
       "8                                           26                        26   \n",
       "9                                            7                         7   \n",
       "10                                          18                        18   \n",
       "11                                          28                        28   \n",
       "12                                      137389                    137389   \n",
       "\n",
       "                     ChronicCond_rheumatoidarthritis  ChronicCond_stroke  \\\n",
       "NoOfMonths_PartACov                                                        \n",
       "0                                               1000                1000   \n",
       "1                                                  3                   3   \n",
       "2                                                  5                   5   \n",
       "3                                                  5                   5   \n",
       "4                                                 13                  13   \n",
       "5                                                  8                   8   \n",
       "6                                                 38                  38   \n",
       "7                                                 16                  16   \n",
       "8                                                 26                  26   \n",
       "9                                                  7                   7   \n",
       "10                                                18                  18   \n",
       "11                                                28                  28   \n",
       "12                                            137389              137389   \n",
       "\n",
       "                     IPAnnualReimbursementAmt  IPAnnualDeductibleAmt  \\\n",
       "NoOfMonths_PartACov                                                    \n",
       "0                                        1000                   1000   \n",
       "1                                           3                      3   \n",
       "2                                           5                      5   \n",
       "3                                           5                      5   \n",
       "4                                          13                     13   \n",
       "5                                           8                      8   \n",
       "6                                          38                     38   \n",
       "7                                          16                     16   \n",
       "8                                          26                     26   \n",
       "9                                           7                      7   \n",
       "10                                         18                     18   \n",
       "11                                         28                     28   \n",
       "12                                     137389                 137389   \n",
       "\n",
       "                     OPAnnualReimbursementAmt  OPAnnualDeductibleAmt     Age  \\\n",
       "NoOfMonths_PartACov                                                            \n",
       "0                                        1000                   1000    1000   \n",
       "1                                           3                      3       3   \n",
       "2                                           5                      5       5   \n",
       "3                                           5                      5       5   \n",
       "4                                          13                     13      13   \n",
       "5                                           8                      8       8   \n",
       "6                                          38                     38      38   \n",
       "7                                          16                     16      16   \n",
       "8                                          26                     26      26   \n",
       "9                                           7                      7       7   \n",
       "10                                         18                     18      18   \n",
       "11                                         28                     28      28   \n",
       "12                                     137389                 137389  137389   \n",
       "\n",
       "                      Alive  \n",
       "NoOfMonths_PartACov          \n",
       "0                      1000  \n",
       "1                         3  \n",
       "2                         5  \n",
       "3                         5  \n",
       "4                        13  \n",
       "5                         8  \n",
       "6                        38  \n",
       "7                        16  \n",
       "8                        26  \n",
       "9                         7  \n",
       "10                       18  \n",
       "11                       28  \n",
       "12                   137389  \n",
       "\n",
       "[13 rows x 25 columns]"
      ]
     },
     "execution_count": 16,
     "metadata": {},
     "output_type": "execute_result"
    }
   ],
   "source": [
    "bene_train.groupby('NoOfMonths_PartACov').count()"
   ]
  },
  {
   "cell_type": "code",
   "execution_count": 17,
   "metadata": {
    "execution": {
     "iopub.execute_input": "2024-03-09T08:45:23.496555Z",
     "iopub.status.busy": "2024-03-09T08:45:23.496343Z",
     "iopub.status.idle": "2024-03-09T08:45:23.541276Z",
     "shell.execute_reply": "2024-03-09T08:45:23.540129Z",
     "shell.execute_reply.started": "2024-03-09T08:45:23.496535Z"
    }
   },
   "outputs": [
    {
     "data": {
      "text/html": [
       "<div>\n",
       "<style scoped>\n",
       "    .dataframe tbody tr th:only-of-type {\n",
       "        vertical-align: middle;\n",
       "    }\n",
       "\n",
       "    .dataframe tbody tr th {\n",
       "        vertical-align: top;\n",
       "    }\n",
       "\n",
       "    .dataframe thead th {\n",
       "        text-align: right;\n",
       "    }\n",
       "</style>\n",
       "<table border=\"1\" class=\"dataframe\">\n",
       "  <thead>\n",
       "    <tr style=\"text-align: right;\">\n",
       "      <th></th>\n",
       "      <th>BeneID</th>\n",
       "      <th>DOB</th>\n",
       "      <th>Gender</th>\n",
       "      <th>Race</th>\n",
       "      <th>RenalDiseaseIndicator</th>\n",
       "      <th>State</th>\n",
       "      <th>County</th>\n",
       "      <th>NoOfMonths_PartACov</th>\n",
       "      <th>ChronicCond_Alzheimer</th>\n",
       "      <th>ChronicCond_Heartfailure</th>\n",
       "      <th>...</th>\n",
       "      <th>ChronicCond_IschemicHeart</th>\n",
       "      <th>ChronicCond_Osteoporasis</th>\n",
       "      <th>ChronicCond_rheumatoidarthritis</th>\n",
       "      <th>ChronicCond_stroke</th>\n",
       "      <th>IPAnnualReimbursementAmt</th>\n",
       "      <th>IPAnnualDeductibleAmt</th>\n",
       "      <th>OPAnnualReimbursementAmt</th>\n",
       "      <th>OPAnnualDeductibleAmt</th>\n",
       "      <th>Age</th>\n",
       "      <th>Alive</th>\n",
       "    </tr>\n",
       "    <tr>\n",
       "      <th>NoOfMonths_PartBCov</th>\n",
       "      <th></th>\n",
       "      <th></th>\n",
       "      <th></th>\n",
       "      <th></th>\n",
       "      <th></th>\n",
       "      <th></th>\n",
       "      <th></th>\n",
       "      <th></th>\n",
       "      <th></th>\n",
       "      <th></th>\n",
       "      <th></th>\n",
       "      <th></th>\n",
       "      <th></th>\n",
       "      <th></th>\n",
       "      <th></th>\n",
       "      <th></th>\n",
       "      <th></th>\n",
       "      <th></th>\n",
       "      <th></th>\n",
       "      <th></th>\n",
       "      <th></th>\n",
       "    </tr>\n",
       "  </thead>\n",
       "  <tbody>\n",
       "    <tr>\n",
       "      <th>0</th>\n",
       "      <td>675</td>\n",
       "      <td>675</td>\n",
       "      <td>675</td>\n",
       "      <td>675</td>\n",
       "      <td>675</td>\n",
       "      <td>675</td>\n",
       "      <td>675</td>\n",
       "      <td>675</td>\n",
       "      <td>675</td>\n",
       "      <td>675</td>\n",
       "      <td>...</td>\n",
       "      <td>675</td>\n",
       "      <td>675</td>\n",
       "      <td>675</td>\n",
       "      <td>675</td>\n",
       "      <td>675</td>\n",
       "      <td>675</td>\n",
       "      <td>675</td>\n",
       "      <td>675</td>\n",
       "      <td>675</td>\n",
       "      <td>675</td>\n",
       "    </tr>\n",
       "    <tr>\n",
       "      <th>1</th>\n",
       "      <td>17</td>\n",
       "      <td>17</td>\n",
       "      <td>17</td>\n",
       "      <td>17</td>\n",
       "      <td>17</td>\n",
       "      <td>17</td>\n",
       "      <td>17</td>\n",
       "      <td>17</td>\n",
       "      <td>17</td>\n",
       "      <td>17</td>\n",
       "      <td>...</td>\n",
       "      <td>17</td>\n",
       "      <td>17</td>\n",
       "      <td>17</td>\n",
       "      <td>17</td>\n",
       "      <td>17</td>\n",
       "      <td>17</td>\n",
       "      <td>17</td>\n",
       "      <td>17</td>\n",
       "      <td>17</td>\n",
       "      <td>17</td>\n",
       "    </tr>\n",
       "    <tr>\n",
       "      <th>2</th>\n",
       "      <td>19</td>\n",
       "      <td>19</td>\n",
       "      <td>19</td>\n",
       "      <td>19</td>\n",
       "      <td>19</td>\n",
       "      <td>19</td>\n",
       "      <td>19</td>\n",
       "      <td>19</td>\n",
       "      <td>19</td>\n",
       "      <td>19</td>\n",
       "      <td>...</td>\n",
       "      <td>19</td>\n",
       "      <td>19</td>\n",
       "      <td>19</td>\n",
       "      <td>19</td>\n",
       "      <td>19</td>\n",
       "      <td>19</td>\n",
       "      <td>19</td>\n",
       "      <td>19</td>\n",
       "      <td>19</td>\n",
       "      <td>19</td>\n",
       "    </tr>\n",
       "    <tr>\n",
       "      <th>3</th>\n",
       "      <td>27</td>\n",
       "      <td>27</td>\n",
       "      <td>27</td>\n",
       "      <td>27</td>\n",
       "      <td>27</td>\n",
       "      <td>27</td>\n",
       "      <td>27</td>\n",
       "      <td>27</td>\n",
       "      <td>27</td>\n",
       "      <td>27</td>\n",
       "      <td>...</td>\n",
       "      <td>27</td>\n",
       "      <td>27</td>\n",
       "      <td>27</td>\n",
       "      <td>27</td>\n",
       "      <td>27</td>\n",
       "      <td>27</td>\n",
       "      <td>27</td>\n",
       "      <td>27</td>\n",
       "      <td>27</td>\n",
       "      <td>27</td>\n",
       "    </tr>\n",
       "    <tr>\n",
       "      <th>4</th>\n",
       "      <td>35</td>\n",
       "      <td>35</td>\n",
       "      <td>35</td>\n",
       "      <td>35</td>\n",
       "      <td>35</td>\n",
       "      <td>35</td>\n",
       "      <td>35</td>\n",
       "      <td>35</td>\n",
       "      <td>35</td>\n",
       "      <td>35</td>\n",
       "      <td>...</td>\n",
       "      <td>35</td>\n",
       "      <td>35</td>\n",
       "      <td>35</td>\n",
       "      <td>35</td>\n",
       "      <td>35</td>\n",
       "      <td>35</td>\n",
       "      <td>35</td>\n",
       "      <td>35</td>\n",
       "      <td>35</td>\n",
       "      <td>35</td>\n",
       "    </tr>\n",
       "    <tr>\n",
       "      <th>5</th>\n",
       "      <td>50</td>\n",
       "      <td>50</td>\n",
       "      <td>50</td>\n",
       "      <td>50</td>\n",
       "      <td>50</td>\n",
       "      <td>50</td>\n",
       "      <td>50</td>\n",
       "      <td>50</td>\n",
       "      <td>50</td>\n",
       "      <td>50</td>\n",
       "      <td>...</td>\n",
       "      <td>50</td>\n",
       "      <td>50</td>\n",
       "      <td>50</td>\n",
       "      <td>50</td>\n",
       "      <td>50</td>\n",
       "      <td>50</td>\n",
       "      <td>50</td>\n",
       "      <td>50</td>\n",
       "      <td>50</td>\n",
       "      <td>50</td>\n",
       "    </tr>\n",
       "    <tr>\n",
       "      <th>6</th>\n",
       "      <td>282</td>\n",
       "      <td>282</td>\n",
       "      <td>282</td>\n",
       "      <td>282</td>\n",
       "      <td>282</td>\n",
       "      <td>282</td>\n",
       "      <td>282</td>\n",
       "      <td>282</td>\n",
       "      <td>282</td>\n",
       "      <td>282</td>\n",
       "      <td>...</td>\n",
       "      <td>282</td>\n",
       "      <td>282</td>\n",
       "      <td>282</td>\n",
       "      <td>282</td>\n",
       "      <td>282</td>\n",
       "      <td>282</td>\n",
       "      <td>282</td>\n",
       "      <td>282</td>\n",
       "      <td>282</td>\n",
       "      <td>282</td>\n",
       "    </tr>\n",
       "    <tr>\n",
       "      <th>7</th>\n",
       "      <td>63</td>\n",
       "      <td>63</td>\n",
       "      <td>63</td>\n",
       "      <td>63</td>\n",
       "      <td>63</td>\n",
       "      <td>63</td>\n",
       "      <td>63</td>\n",
       "      <td>63</td>\n",
       "      <td>63</td>\n",
       "      <td>63</td>\n",
       "      <td>...</td>\n",
       "      <td>63</td>\n",
       "      <td>63</td>\n",
       "      <td>63</td>\n",
       "      <td>63</td>\n",
       "      <td>63</td>\n",
       "      <td>63</td>\n",
       "      <td>63</td>\n",
       "      <td>63</td>\n",
       "      <td>63</td>\n",
       "      <td>63</td>\n",
       "    </tr>\n",
       "    <tr>\n",
       "      <th>8</th>\n",
       "      <td>71</td>\n",
       "      <td>71</td>\n",
       "      <td>71</td>\n",
       "      <td>71</td>\n",
       "      <td>71</td>\n",
       "      <td>71</td>\n",
       "      <td>71</td>\n",
       "      <td>71</td>\n",
       "      <td>71</td>\n",
       "      <td>71</td>\n",
       "      <td>...</td>\n",
       "      <td>71</td>\n",
       "      <td>71</td>\n",
       "      <td>71</td>\n",
       "      <td>71</td>\n",
       "      <td>71</td>\n",
       "      <td>71</td>\n",
       "      <td>71</td>\n",
       "      <td>71</td>\n",
       "      <td>71</td>\n",
       "      <td>71</td>\n",
       "    </tr>\n",
       "    <tr>\n",
       "      <th>9</th>\n",
       "      <td>122</td>\n",
       "      <td>122</td>\n",
       "      <td>122</td>\n",
       "      <td>122</td>\n",
       "      <td>122</td>\n",
       "      <td>122</td>\n",
       "      <td>122</td>\n",
       "      <td>122</td>\n",
       "      <td>122</td>\n",
       "      <td>122</td>\n",
       "      <td>...</td>\n",
       "      <td>122</td>\n",
       "      <td>122</td>\n",
       "      <td>122</td>\n",
       "      <td>122</td>\n",
       "      <td>122</td>\n",
       "      <td>122</td>\n",
       "      <td>122</td>\n",
       "      <td>122</td>\n",
       "      <td>122</td>\n",
       "      <td>122</td>\n",
       "    </tr>\n",
       "    <tr>\n",
       "      <th>10</th>\n",
       "      <td>150</td>\n",
       "      <td>150</td>\n",
       "      <td>150</td>\n",
       "      <td>150</td>\n",
       "      <td>150</td>\n",
       "      <td>150</td>\n",
       "      <td>150</td>\n",
       "      <td>150</td>\n",
       "      <td>150</td>\n",
       "      <td>150</td>\n",
       "      <td>...</td>\n",
       "      <td>150</td>\n",
       "      <td>150</td>\n",
       "      <td>150</td>\n",
       "      <td>150</td>\n",
       "      <td>150</td>\n",
       "      <td>150</td>\n",
       "      <td>150</td>\n",
       "      <td>150</td>\n",
       "      <td>150</td>\n",
       "      <td>150</td>\n",
       "    </tr>\n",
       "    <tr>\n",
       "      <th>11</th>\n",
       "      <td>143</td>\n",
       "      <td>143</td>\n",
       "      <td>143</td>\n",
       "      <td>143</td>\n",
       "      <td>143</td>\n",
       "      <td>143</td>\n",
       "      <td>143</td>\n",
       "      <td>143</td>\n",
       "      <td>143</td>\n",
       "      <td>143</td>\n",
       "      <td>...</td>\n",
       "      <td>143</td>\n",
       "      <td>143</td>\n",
       "      <td>143</td>\n",
       "      <td>143</td>\n",
       "      <td>143</td>\n",
       "      <td>143</td>\n",
       "      <td>143</td>\n",
       "      <td>143</td>\n",
       "      <td>143</td>\n",
       "      <td>143</td>\n",
       "    </tr>\n",
       "    <tr>\n",
       "      <th>12</th>\n",
       "      <td>136902</td>\n",
       "      <td>136902</td>\n",
       "      <td>136902</td>\n",
       "      <td>136902</td>\n",
       "      <td>136902</td>\n",
       "      <td>136902</td>\n",
       "      <td>136902</td>\n",
       "      <td>136902</td>\n",
       "      <td>136902</td>\n",
       "      <td>136902</td>\n",
       "      <td>...</td>\n",
       "      <td>136902</td>\n",
       "      <td>136902</td>\n",
       "      <td>136902</td>\n",
       "      <td>136902</td>\n",
       "      <td>136902</td>\n",
       "      <td>136902</td>\n",
       "      <td>136902</td>\n",
       "      <td>136902</td>\n",
       "      <td>136902</td>\n",
       "      <td>136902</td>\n",
       "    </tr>\n",
       "  </tbody>\n",
       "</table>\n",
       "<p>13 rows × 25 columns</p>\n",
       "</div>"
      ],
      "text/plain": [
       "                     BeneID     DOB  Gender    Race  RenalDiseaseIndicator  \\\n",
       "NoOfMonths_PartBCov                                                          \n",
       "0                       675     675     675     675                    675   \n",
       "1                        17      17      17      17                     17   \n",
       "2                        19      19      19      19                     19   \n",
       "3                        27      27      27      27                     27   \n",
       "4                        35      35      35      35                     35   \n",
       "5                        50      50      50      50                     50   \n",
       "6                       282     282     282     282                    282   \n",
       "7                        63      63      63      63                     63   \n",
       "8                        71      71      71      71                     71   \n",
       "9                       122     122     122     122                    122   \n",
       "10                      150     150     150     150                    150   \n",
       "11                      143     143     143     143                    143   \n",
       "12                   136902  136902  136902  136902                 136902   \n",
       "\n",
       "                      State  County  NoOfMonths_PartACov  \\\n",
       "NoOfMonths_PartBCov                                        \n",
       "0                       675     675                  675   \n",
       "1                        17      17                   17   \n",
       "2                        19      19                   19   \n",
       "3                        27      27                   27   \n",
       "4                        35      35                   35   \n",
       "5                        50      50                   50   \n",
       "6                       282     282                  282   \n",
       "7                        63      63                   63   \n",
       "8                        71      71                   71   \n",
       "9                       122     122                  122   \n",
       "10                      150     150                  150   \n",
       "11                      143     143                  143   \n",
       "12                   136902  136902               136902   \n",
       "\n",
       "                     ChronicCond_Alzheimer  ChronicCond_Heartfailure  ...  \\\n",
       "NoOfMonths_PartBCov                                                   ...   \n",
       "0                                      675                       675  ...   \n",
       "1                                       17                        17  ...   \n",
       "2                                       19                        19  ...   \n",
       "3                                       27                        27  ...   \n",
       "4                                       35                        35  ...   \n",
       "5                                       50                        50  ...   \n",
       "6                                      282                       282  ...   \n",
       "7                                       63                        63  ...   \n",
       "8                                       71                        71  ...   \n",
       "9                                      122                       122  ...   \n",
       "10                                     150                       150  ...   \n",
       "11                                     143                       143  ...   \n",
       "12                                  136902                    136902  ...   \n",
       "\n",
       "                     ChronicCond_IschemicHeart  ChronicCond_Osteoporasis  \\\n",
       "NoOfMonths_PartBCov                                                        \n",
       "0                                          675                       675   \n",
       "1                                           17                        17   \n",
       "2                                           19                        19   \n",
       "3                                           27                        27   \n",
       "4                                           35                        35   \n",
       "5                                           50                        50   \n",
       "6                                          282                       282   \n",
       "7                                           63                        63   \n",
       "8                                           71                        71   \n",
       "9                                          122                       122   \n",
       "10                                         150                       150   \n",
       "11                                         143                       143   \n",
       "12                                      136902                    136902   \n",
       "\n",
       "                     ChronicCond_rheumatoidarthritis  ChronicCond_stroke  \\\n",
       "NoOfMonths_PartBCov                                                        \n",
       "0                                                675                 675   \n",
       "1                                                 17                  17   \n",
       "2                                                 19                  19   \n",
       "3                                                 27                  27   \n",
       "4                                                 35                  35   \n",
       "5                                                 50                  50   \n",
       "6                                                282                 282   \n",
       "7                                                 63                  63   \n",
       "8                                                 71                  71   \n",
       "9                                                122                 122   \n",
       "10                                               150                 150   \n",
       "11                                               143                 143   \n",
       "12                                            136902              136902   \n",
       "\n",
       "                     IPAnnualReimbursementAmt  IPAnnualDeductibleAmt  \\\n",
       "NoOfMonths_PartBCov                                                    \n",
       "0                                         675                    675   \n",
       "1                                          17                     17   \n",
       "2                                          19                     19   \n",
       "3                                          27                     27   \n",
       "4                                          35                     35   \n",
       "5                                          50                     50   \n",
       "6                                         282                    282   \n",
       "7                                          63                     63   \n",
       "8                                          71                     71   \n",
       "9                                         122                    122   \n",
       "10                                        150                    150   \n",
       "11                                        143                    143   \n",
       "12                                     136902                 136902   \n",
       "\n",
       "                     OPAnnualReimbursementAmt  OPAnnualDeductibleAmt     Age  \\\n",
       "NoOfMonths_PartBCov                                                            \n",
       "0                                         675                    675     675   \n",
       "1                                          17                     17      17   \n",
       "2                                          19                     19      19   \n",
       "3                                          27                     27      27   \n",
       "4                                          35                     35      35   \n",
       "5                                          50                     50      50   \n",
       "6                                         282                    282     282   \n",
       "7                                          63                     63      63   \n",
       "8                                          71                     71      71   \n",
       "9                                         122                    122     122   \n",
       "10                                        150                    150     150   \n",
       "11                                        143                    143     143   \n",
       "12                                     136902                 136902  136902   \n",
       "\n",
       "                      Alive  \n",
       "NoOfMonths_PartBCov          \n",
       "0                       675  \n",
       "1                        17  \n",
       "2                        19  \n",
       "3                        27  \n",
       "4                        35  \n",
       "5                        50  \n",
       "6                       282  \n",
       "7                        63  \n",
       "8                        71  \n",
       "9                       122  \n",
       "10                      150  \n",
       "11                      143  \n",
       "12                   136902  \n",
       "\n",
       "[13 rows x 25 columns]"
      ]
     },
     "execution_count": 17,
     "metadata": {},
     "output_type": "execute_result"
    }
   ],
   "source": [
    "bene_train.groupby('NoOfMonths_PartBCov').count()"
   ]
  },
  {
   "cell_type": "markdown",
   "metadata": {},
   "source": [
    "I found that there are a lot of feature describing whether this beneficaiary has choronic disease, "
   ]
  },
  {
   "cell_type": "code",
   "execution_count": 18,
   "metadata": {
    "execution": {
     "iopub.execute_input": "2024-03-09T08:45:23.543164Z",
     "iopub.status.busy": "2024-03-09T08:45:23.542555Z",
     "iopub.status.idle": "2024-03-09T08:45:23.547805Z",
     "shell.execute_reply": "2024-03-09T08:45:23.546841Z",
     "shell.execute_reply.started": "2024-03-09T08:45:23.543133Z"
    }
   },
   "outputs": [],
   "source": [
    "diseases = ['ChronicCond_Alzheimer','ChronicCond_Heartfailure',\n",
    "           'ChronicCond_KidneyDisease','ChronicCond_Cancer','ChronicCond_ObstrPulmonary',\n",
    "          'ChronicCond_Depression','ChronicCond_Diabetes','ChronicCond_IschemicHeart','ChronicCond_Osteoporasis',\n",
    "           'ChronicCond_rheumatoidarthritis','ChronicCond_stroke']\n"
   ]
  },
  {
   "cell_type": "code",
   "execution_count": 19,
   "metadata": {
    "execution": {
     "iopub.execute_input": "2024-03-09T08:45:23.550064Z",
     "iopub.status.busy": "2024-03-09T08:45:23.549452Z",
     "iopub.status.idle": "2024-03-09T08:45:23.571063Z",
     "shell.execute_reply": "2024-03-09T08:45:23.570136Z",
     "shell.execute_reply.started": "2024-03-09T08:45:23.550033Z"
    }
   },
   "outputs": [],
   "source": [
    "df_train = bene_train.copy()\n",
    "df_test = bene_test.copy()"
   ]
  },
  {
   "cell_type": "code",
   "execution_count": 20,
   "metadata": {
    "execution": {
     "iopub.execute_input": "2024-03-09T08:45:23.572301Z",
     "iopub.status.busy": "2024-03-09T08:45:23.572037Z",
     "iopub.status.idle": "2024-03-09T08:45:23.577191Z",
     "shell.execute_reply": "2024-03-09T08:45:23.576450Z",
     "shell.execute_reply.started": "2024-03-09T08:45:23.572280Z"
    }
   },
   "outputs": [
    {
     "data": {
      "text/plain": [
       "(138556, 26)"
      ]
     },
     "execution_count": 20,
     "metadata": {},
     "output_type": "execute_result"
    }
   ],
   "source": [
    "df_train.shape"
   ]
  },
  {
   "cell_type": "code",
   "execution_count": 21,
   "metadata": {
    "execution": {
     "iopub.execute_input": "2024-03-09T08:45:23.578550Z",
     "iopub.status.busy": "2024-03-09T08:45:23.578157Z",
     "iopub.status.idle": "2024-03-09T08:45:23.587765Z",
     "shell.execute_reply": "2024-03-09T08:45:23.586938Z",
     "shell.execute_reply.started": "2024-03-09T08:45:23.578529Z"
    }
   },
   "outputs": [
    {
     "data": {
      "text/plain": [
       "(63968, 26)"
      ]
     },
     "execution_count": 21,
     "metadata": {},
     "output_type": "execute_result"
    }
   ],
   "source": [
    "df_test.shape"
   ]
  },
  {
   "cell_type": "code",
   "execution_count": 22,
   "metadata": {
    "execution": {
     "iopub.execute_input": "2024-03-09T08:45:23.590638Z",
     "iopub.status.busy": "2024-03-09T08:45:23.590439Z",
     "iopub.status.idle": "2024-03-09T08:46:36.768050Z",
     "shell.execute_reply": "2024-03-09T08:46:36.766897Z",
     "shell.execute_reply.started": "2024-03-09T08:45:23.590620Z"
    }
   },
   "outputs": [],
   "source": [
    "for df in [df_train, df_test]:\n",
    "    for i in range(df.shape[0]):#\n",
    "        chronicDCnt = 0\n",
    "        for disease in diseases:\n",
    "            if df_train.loc[i,disease] > 1:\n",
    "                 chronicDCnt+=1\n",
    "            else:\n",
    "                 continue\n",
    "        df.loc[i,'ChronicDiseaseIndex'] = chronicDCnt\n"
   ]
  },
  {
   "cell_type": "code",
   "execution_count": 23,
   "metadata": {
    "execution": {
     "iopub.execute_input": "2024-03-09T08:46:36.769600Z",
     "iopub.status.busy": "2024-03-09T08:46:36.769321Z",
     "iopub.status.idle": "2024-03-09T08:46:36.848498Z",
     "shell.execute_reply": "2024-03-09T08:46:36.847128Z",
     "shell.execute_reply.started": "2024-03-09T08:46:36.769575Z"
    }
   },
   "outputs": [],
   "source": [
    "df_train.drop(diseases,inplace=True,axis=1)\n",
    "df_test.drop(diseases,inplace=True,axis=1)"
   ]
  },
  {
   "cell_type": "code",
   "execution_count": 24,
   "metadata": {
    "execution": {
     "iopub.execute_input": "2024-03-09T08:46:36.854843Z",
     "iopub.status.busy": "2024-03-09T08:46:36.854250Z",
     "iopub.status.idle": "2024-03-09T08:46:36.874262Z",
     "shell.execute_reply": "2024-03-09T08:46:36.873171Z",
     "shell.execute_reply.started": "2024-03-09T08:46:36.854815Z"
    }
   },
   "outputs": [
    {
     "data": {
      "text/html": [
       "<div>\n",
       "<style scoped>\n",
       "    .dataframe tbody tr th:only-of-type {\n",
       "        vertical-align: middle;\n",
       "    }\n",
       "\n",
       "    .dataframe tbody tr th {\n",
       "        vertical-align: top;\n",
       "    }\n",
       "\n",
       "    .dataframe thead th {\n",
       "        text-align: right;\n",
       "    }\n",
       "</style>\n",
       "<table border=\"1\" class=\"dataframe\">\n",
       "  <thead>\n",
       "    <tr style=\"text-align: right;\">\n",
       "      <th></th>\n",
       "      <th>BeneID</th>\n",
       "      <th>DOB</th>\n",
       "      <th>Gender</th>\n",
       "      <th>Race</th>\n",
       "      <th>RenalDiseaseIndicator</th>\n",
       "      <th>State</th>\n",
       "      <th>County</th>\n",
       "      <th>NoOfMonths_PartACov</th>\n",
       "      <th>NoOfMonths_PartBCov</th>\n",
       "      <th>IPAnnualReimbursementAmt</th>\n",
       "      <th>IPAnnualDeductibleAmt</th>\n",
       "      <th>OPAnnualReimbursementAmt</th>\n",
       "      <th>OPAnnualDeductibleAmt</th>\n",
       "      <th>Age</th>\n",
       "      <th>Alive</th>\n",
       "      <th>ChronicDiseaseIndex</th>\n",
       "    </tr>\n",
       "  </thead>\n",
       "  <tbody>\n",
       "    <tr>\n",
       "      <th>0</th>\n",
       "      <td>BENE11001</td>\n",
       "      <td>1943-01-01</td>\n",
       "      <td>1</td>\n",
       "      <td>1</td>\n",
       "      <td>0</td>\n",
       "      <td>39</td>\n",
       "      <td>230</td>\n",
       "      <td>12</td>\n",
       "      <td>12</td>\n",
       "      <td>36000</td>\n",
       "      <td>3204</td>\n",
       "      <td>60</td>\n",
       "      <td>70</td>\n",
       "      <td>67.0</td>\n",
       "      <td>0</td>\n",
       "      <td>4.0</td>\n",
       "    </tr>\n",
       "    <tr>\n",
       "      <th>1</th>\n",
       "      <td>BENE11002</td>\n",
       "      <td>1936-09-01</td>\n",
       "      <td>2</td>\n",
       "      <td>1</td>\n",
       "      <td>0</td>\n",
       "      <td>39</td>\n",
       "      <td>280</td>\n",
       "      <td>12</td>\n",
       "      <td>12</td>\n",
       "      <td>0</td>\n",
       "      <td>0</td>\n",
       "      <td>30</td>\n",
       "      <td>50</td>\n",
       "      <td>73.0</td>\n",
       "      <td>0</td>\n",
       "      <td>11.0</td>\n",
       "    </tr>\n",
       "    <tr>\n",
       "      <th>2</th>\n",
       "      <td>BENE11003</td>\n",
       "      <td>1936-08-01</td>\n",
       "      <td>1</td>\n",
       "      <td>1</td>\n",
       "      <td>0</td>\n",
       "      <td>52</td>\n",
       "      <td>590</td>\n",
       "      <td>12</td>\n",
       "      <td>12</td>\n",
       "      <td>0</td>\n",
       "      <td>0</td>\n",
       "      <td>90</td>\n",
       "      <td>40</td>\n",
       "      <td>73.0</td>\n",
       "      <td>0</td>\n",
       "      <td>9.0</td>\n",
       "    </tr>\n",
       "    <tr>\n",
       "      <th>3</th>\n",
       "      <td>BENE11004</td>\n",
       "      <td>1922-07-01</td>\n",
       "      <td>1</td>\n",
       "      <td>1</td>\n",
       "      <td>0</td>\n",
       "      <td>39</td>\n",
       "      <td>270</td>\n",
       "      <td>12</td>\n",
       "      <td>12</td>\n",
       "      <td>0</td>\n",
       "      <td>0</td>\n",
       "      <td>1810</td>\n",
       "      <td>760</td>\n",
       "      <td>87.0</td>\n",
       "      <td>0</td>\n",
       "      <td>5.0</td>\n",
       "    </tr>\n",
       "    <tr>\n",
       "      <th>4</th>\n",
       "      <td>BENE11005</td>\n",
       "      <td>1935-09-01</td>\n",
       "      <td>1</td>\n",
       "      <td>1</td>\n",
       "      <td>0</td>\n",
       "      <td>24</td>\n",
       "      <td>680</td>\n",
       "      <td>12</td>\n",
       "      <td>12</td>\n",
       "      <td>0</td>\n",
       "      <td>0</td>\n",
       "      <td>1790</td>\n",
       "      <td>1200</td>\n",
       "      <td>74.0</td>\n",
       "      <td>0</td>\n",
       "      <td>9.0</td>\n",
       "    </tr>\n",
       "    <tr>\n",
       "      <th>...</th>\n",
       "      <td>...</td>\n",
       "      <td>...</td>\n",
       "      <td>...</td>\n",
       "      <td>...</td>\n",
       "      <td>...</td>\n",
       "      <td>...</td>\n",
       "      <td>...</td>\n",
       "      <td>...</td>\n",
       "      <td>...</td>\n",
       "      <td>...</td>\n",
       "      <td>...</td>\n",
       "      <td>...</td>\n",
       "      <td>...</td>\n",
       "      <td>...</td>\n",
       "      <td>...</td>\n",
       "      <td>...</td>\n",
       "    </tr>\n",
       "    <tr>\n",
       "      <th>138551</th>\n",
       "      <td>BENE159194</td>\n",
       "      <td>1939-07-01</td>\n",
       "      <td>1</td>\n",
       "      <td>1</td>\n",
       "      <td>0</td>\n",
       "      <td>39</td>\n",
       "      <td>140</td>\n",
       "      <td>12</td>\n",
       "      <td>12</td>\n",
       "      <td>0</td>\n",
       "      <td>0</td>\n",
       "      <td>430</td>\n",
       "      <td>460</td>\n",
       "      <td>70.0</td>\n",
       "      <td>0</td>\n",
       "      <td>10.0</td>\n",
       "    </tr>\n",
       "    <tr>\n",
       "      <th>138552</th>\n",
       "      <td>BENE159195</td>\n",
       "      <td>1938-12-01</td>\n",
       "      <td>2</td>\n",
       "      <td>1</td>\n",
       "      <td>0</td>\n",
       "      <td>49</td>\n",
       "      <td>530</td>\n",
       "      <td>12</td>\n",
       "      <td>12</td>\n",
       "      <td>0</td>\n",
       "      <td>0</td>\n",
       "      <td>880</td>\n",
       "      <td>100</td>\n",
       "      <td>71.0</td>\n",
       "      <td>0</td>\n",
       "      <td>9.0</td>\n",
       "    </tr>\n",
       "    <tr>\n",
       "      <th>138553</th>\n",
       "      <td>BENE159196</td>\n",
       "      <td>1916-06-01</td>\n",
       "      <td>2</td>\n",
       "      <td>1</td>\n",
       "      <td>0</td>\n",
       "      <td>6</td>\n",
       "      <td>150</td>\n",
       "      <td>12</td>\n",
       "      <td>12</td>\n",
       "      <td>2000</td>\n",
       "      <td>1068</td>\n",
       "      <td>3240</td>\n",
       "      <td>1390</td>\n",
       "      <td>94.0</td>\n",
       "      <td>0</td>\n",
       "      <td>5.0</td>\n",
       "    </tr>\n",
       "    <tr>\n",
       "      <th>138554</th>\n",
       "      <td>BENE159197</td>\n",
       "      <td>1930-01-01</td>\n",
       "      <td>1</td>\n",
       "      <td>1</td>\n",
       "      <td>0</td>\n",
       "      <td>16</td>\n",
       "      <td>560</td>\n",
       "      <td>12</td>\n",
       "      <td>12</td>\n",
       "      <td>0</td>\n",
       "      <td>0</td>\n",
       "      <td>2650</td>\n",
       "      <td>10</td>\n",
       "      <td>80.0</td>\n",
       "      <td>0</td>\n",
       "      <td>8.0</td>\n",
       "    </tr>\n",
       "    <tr>\n",
       "      <th>138555</th>\n",
       "      <td>BENE159198</td>\n",
       "      <td>1952-04-01</td>\n",
       "      <td>2</td>\n",
       "      <td>1</td>\n",
       "      <td>0</td>\n",
       "      <td>21</td>\n",
       "      <td>20</td>\n",
       "      <td>12</td>\n",
       "      <td>12</td>\n",
       "      <td>0</td>\n",
       "      <td>0</td>\n",
       "      <td>5470</td>\n",
       "      <td>1870</td>\n",
       "      <td>58.0</td>\n",
       "      <td>0</td>\n",
       "      <td>6.0</td>\n",
       "    </tr>\n",
       "  </tbody>\n",
       "</table>\n",
       "<p>138556 rows × 16 columns</p>\n",
       "</div>"
      ],
      "text/plain": [
       "            BeneID        DOB  Gender  Race  RenalDiseaseIndicator  State  \\\n",
       "0        BENE11001 1943-01-01       1     1                      0     39   \n",
       "1        BENE11002 1936-09-01       2     1                      0     39   \n",
       "2        BENE11003 1936-08-01       1     1                      0     52   \n",
       "3        BENE11004 1922-07-01       1     1                      0     39   \n",
       "4        BENE11005 1935-09-01       1     1                      0     24   \n",
       "...            ...        ...     ...   ...                    ...    ...   \n",
       "138551  BENE159194 1939-07-01       1     1                      0     39   \n",
       "138552  BENE159195 1938-12-01       2     1                      0     49   \n",
       "138553  BENE159196 1916-06-01       2     1                      0      6   \n",
       "138554  BENE159197 1930-01-01       1     1                      0     16   \n",
       "138555  BENE159198 1952-04-01       2     1                      0     21   \n",
       "\n",
       "        County  NoOfMonths_PartACov  NoOfMonths_PartBCov  \\\n",
       "0          230                   12                   12   \n",
       "1          280                   12                   12   \n",
       "2          590                   12                   12   \n",
       "3          270                   12                   12   \n",
       "4          680                   12                   12   \n",
       "...        ...                  ...                  ...   \n",
       "138551     140                   12                   12   \n",
       "138552     530                   12                   12   \n",
       "138553     150                   12                   12   \n",
       "138554     560                   12                   12   \n",
       "138555      20                   12                   12   \n",
       "\n",
       "        IPAnnualReimbursementAmt  IPAnnualDeductibleAmt  \\\n",
       "0                          36000                   3204   \n",
       "1                              0                      0   \n",
       "2                              0                      0   \n",
       "3                              0                      0   \n",
       "4                              0                      0   \n",
       "...                          ...                    ...   \n",
       "138551                         0                      0   \n",
       "138552                         0                      0   \n",
       "138553                      2000                   1068   \n",
       "138554                         0                      0   \n",
       "138555                         0                      0   \n",
       "\n",
       "        OPAnnualReimbursementAmt  OPAnnualDeductibleAmt   Age  Alive  \\\n",
       "0                             60                     70  67.0      0   \n",
       "1                             30                     50  73.0      0   \n",
       "2                             90                     40  73.0      0   \n",
       "3                           1810                    760  87.0      0   \n",
       "4                           1790                   1200  74.0      0   \n",
       "...                          ...                    ...   ...    ...   \n",
       "138551                       430                    460  70.0      0   \n",
       "138552                       880                    100  71.0      0   \n",
       "138553                      3240                   1390  94.0      0   \n",
       "138554                      2650                     10  80.0      0   \n",
       "138555                      5470                   1870  58.0      0   \n",
       "\n",
       "        ChronicDiseaseIndex  \n",
       "0                       4.0  \n",
       "1                      11.0  \n",
       "2                       9.0  \n",
       "3                       5.0  \n",
       "4                       9.0  \n",
       "...                     ...  \n",
       "138551                 10.0  \n",
       "138552                  9.0  \n",
       "138553                  5.0  \n",
       "138554                  8.0  \n",
       "138555                  6.0  \n",
       "\n",
       "[138556 rows x 16 columns]"
      ]
     },
     "execution_count": 24,
     "metadata": {},
     "output_type": "execute_result"
    }
   ],
   "source": [
    "df_train"
   ]
  },
  {
   "cell_type": "code",
   "execution_count": 25,
   "metadata": {
    "execution": {
     "iopub.execute_input": "2024-03-09T08:46:36.875972Z",
     "iopub.status.busy": "2024-03-09T08:46:36.875408Z",
     "iopub.status.idle": "2024-03-09T08:46:37.124316Z",
     "shell.execute_reply": "2024-03-09T08:46:37.122644Z",
     "shell.execute_reply.started": "2024-03-09T08:46:36.875945Z"
    }
   },
   "outputs": [
    {
     "data": {
      "image/png": "[encoded data removed]",
      "text/plain": [
       "<Figure size 1000x400 with 1 Axes>"
      ]
     },
     "metadata": {},
     "output_type": "display_data"
    }
   ],
   "source": [
    "fig, ax = plt.subplots(figsize=(10,4),dpi=100)\n",
    "data = df_train.groupby('ChronicDiseaseIndex').count().BeneID\n",
    "plt.title('the dsitribution of ChronicDisease Index')\n",
    "plt.bar(x=data.index,height=data,color='navy')\n",
    "plt.xticks(np.arange(0,12,1))\n",
    "plt.show()"
   ]
  },
  {
   "cell_type": "code",
   "execution_count": 26,
   "metadata": {
    "execution": {
     "iopub.execute_input": "2024-03-09T08:46:37.126766Z",
     "iopub.status.busy": "2024-03-09T08:46:37.125428Z",
     "iopub.status.idle": "2024-03-09T08:46:37.138788Z",
     "shell.execute_reply": "2024-03-09T08:46:37.137806Z",
     "shell.execute_reply.started": "2024-03-09T08:46:37.126739Z"
    }
   },
   "outputs": [],
   "source": [
    "bene_train = df_train.copy()\n",
    "bene_test = df_train.copy()\n"
   ]
  },
  {
   "cell_type": "code",
   "execution_count": 27,
   "metadata": {
    "execution": {
     "iopub.execute_input": "2024-03-09T08:46:37.140128Z",
     "iopub.status.busy": "2024-03-09T08:46:37.139865Z",
     "iopub.status.idle": "2024-03-09T08:46:37.182857Z",
     "shell.execute_reply": "2024-03-09T08:46:37.182001Z",
     "shell.execute_reply.started": "2024-03-09T08:46:37.140102Z"
    }
   },
   "outputs": [],
   "source": [
    "#labelencoder = LabelEncoder()\n",
    "\n",
    "for df in [bene_train,bene_test]:\n",
    "    for col in ['Race','State','County']:\n",
    "        df[col] = LabelEncoder().fit_transform(df[col])\n"
   ]
  },
  {
   "cell_type": "code",
   "execution_count": 28,
   "metadata": {
    "execution": {
     "iopub.execute_input": "2024-03-09T08:46:37.184100Z",
     "iopub.status.busy": "2024-03-09T08:46:37.183872Z",
     "iopub.status.idle": "2024-03-09T08:46:37.190109Z",
     "shell.execute_reply": "2024-03-09T08:46:37.189126Z",
     "shell.execute_reply.started": "2024-03-09T08:46:37.184067Z"
    }
   },
   "outputs": [
    {
     "data": {
      "text/plain": [
       "Index(['BeneID', 'DOB', 'Gender', 'Race', 'RenalDiseaseIndicator', 'State',\n",
       "       'County', 'NoOfMonths_PartACov', 'NoOfMonths_PartBCov',\n",
       "       'IPAnnualReimbursementAmt', 'IPAnnualDeductibleAmt',\n",
       "       'OPAnnualReimbursementAmt', 'OPAnnualDeductibleAmt', 'Age', 'Alive',\n",
       "       'ChronicDiseaseIndex'],\n",
       "      dtype='object')"
      ]
     },
     "execution_count": 28,
     "metadata": {},
     "output_type": "execute_result"
    }
   ],
   "source": [
    "#bene_train.drop(diseases,axis=1,inplace=True)\n",
    "bene_train.columns"
   ]
  },
  {
   "cell_type": "markdown",
   "metadata": {},
   "source": [
    "#  Inpatient data and Outpatient data"
   ]
  },
  {
   "cell_type": "code",
   "execution_count": 29,
   "metadata": {
    "execution": {
     "iopub.execute_input": "2024-03-09T08:46:37.191463Z",
     "iopub.status.busy": "2024-03-09T08:46:37.191199Z",
     "iopub.status.idle": "2024-03-09T08:46:37.215571Z",
     "shell.execute_reply": "2024-03-09T08:46:37.214629Z",
     "shell.execute_reply.started": "2024-03-09T08:46:37.191442Z"
    }
   },
   "outputs": [
    {
     "data": {
      "text/html": [
       "<div>\n",
       "<style scoped>\n",
       "    .dataframe tbody tr th:only-of-type {\n",
       "        vertical-align: middle;\n",
       "    }\n",
       "\n",
       "    .dataframe tbody tr th {\n",
       "        vertical-align: top;\n",
       "    }\n",
       "\n",
       "    .dataframe thead th {\n",
       "        text-align: right;\n",
       "    }\n",
       "</style>\n",
       "<table border=\"1\" class=\"dataframe\">\n",
       "  <thead>\n",
       "    <tr style=\"text-align: right;\">\n",
       "      <th></th>\n",
       "      <th>BeneID</th>\n",
       "      <th>ClaimID</th>\n",
       "      <th>ClaimStartDt</th>\n",
       "      <th>ClaimEndDt</th>\n",
       "      <th>Provider</th>\n",
       "      <th>InscClaimAmtReimbursed</th>\n",
       "      <th>AttendingPhysician</th>\n",
       "      <th>OperatingPhysician</th>\n",
       "      <th>OtherPhysician</th>\n",
       "      <th>AdmissionDt</th>\n",
       "      <th>...</th>\n",
       "      <th>ClmDiagnosisCode_7</th>\n",
       "      <th>ClmDiagnosisCode_8</th>\n",
       "      <th>ClmDiagnosisCode_9</th>\n",
       "      <th>ClmDiagnosisCode_10</th>\n",
       "      <th>ClmProcedureCode_1</th>\n",
       "      <th>ClmProcedureCode_2</th>\n",
       "      <th>ClmProcedureCode_3</th>\n",
       "      <th>ClmProcedureCode_4</th>\n",
       "      <th>ClmProcedureCode_5</th>\n",
       "      <th>ClmProcedureCode_6</th>\n",
       "    </tr>\n",
       "  </thead>\n",
       "  <tbody>\n",
       "    <tr>\n",
       "      <th>0</th>\n",
       "      <td>BENE11001</td>\n",
       "      <td>CLM46614</td>\n",
       "      <td>2009-04-12</td>\n",
       "      <td>2009-04-18</td>\n",
       "      <td>PRV55912</td>\n",
       "      <td>26000</td>\n",
       "      <td>PHY390922</td>\n",
       "      <td>NaN</td>\n",
       "      <td>NaN</td>\n",
       "      <td>2009-04-12</td>\n",
       "      <td>...</td>\n",
       "      <td>2724</td>\n",
       "      <td>19889</td>\n",
       "      <td>5849</td>\n",
       "      <td>NaN</td>\n",
       "      <td>NaN</td>\n",
       "      <td>NaN</td>\n",
       "      <td>NaN</td>\n",
       "      <td>NaN</td>\n",
       "      <td>NaN</td>\n",
       "      <td>NaN</td>\n",
       "    </tr>\n",
       "    <tr>\n",
       "      <th>1</th>\n",
       "      <td>BENE11001</td>\n",
       "      <td>CLM66048</td>\n",
       "      <td>2009-08-31</td>\n",
       "      <td>2009-09-02</td>\n",
       "      <td>PRV55907</td>\n",
       "      <td>5000</td>\n",
       "      <td>PHY318495</td>\n",
       "      <td>PHY318495</td>\n",
       "      <td>NaN</td>\n",
       "      <td>2009-08-31</td>\n",
       "      <td>...</td>\n",
       "      <td>NaN</td>\n",
       "      <td>NaN</td>\n",
       "      <td>NaN</td>\n",
       "      <td>NaN</td>\n",
       "      <td>7092.0</td>\n",
       "      <td>NaN</td>\n",
       "      <td>NaN</td>\n",
       "      <td>NaN</td>\n",
       "      <td>NaN</td>\n",
       "      <td>NaN</td>\n",
       "    </tr>\n",
       "    <tr>\n",
       "      <th>2</th>\n",
       "      <td>BENE11001</td>\n",
       "      <td>CLM68358</td>\n",
       "      <td>2009-09-17</td>\n",
       "      <td>2009-09-20</td>\n",
       "      <td>PRV56046</td>\n",
       "      <td>5000</td>\n",
       "      <td>PHY372395</td>\n",
       "      <td>NaN</td>\n",
       "      <td>PHY324689</td>\n",
       "      <td>2009-09-17</td>\n",
       "      <td>...</td>\n",
       "      <td>NaN</td>\n",
       "      <td>NaN</td>\n",
       "      <td>NaN</td>\n",
       "      <td>NaN</td>\n",
       "      <td>NaN</td>\n",
       "      <td>NaN</td>\n",
       "      <td>NaN</td>\n",
       "      <td>NaN</td>\n",
       "      <td>NaN</td>\n",
       "      <td>NaN</td>\n",
       "    </tr>\n",
       "    <tr>\n",
       "      <th>3</th>\n",
       "      <td>BENE11011</td>\n",
       "      <td>CLM38412</td>\n",
       "      <td>2009-02-14</td>\n",
       "      <td>2009-02-22</td>\n",
       "      <td>PRV52405</td>\n",
       "      <td>5000</td>\n",
       "      <td>PHY369659</td>\n",
       "      <td>PHY392961</td>\n",
       "      <td>PHY349768</td>\n",
       "      <td>2009-02-14</td>\n",
       "      <td>...</td>\n",
       "      <td>25062</td>\n",
       "      <td>40390</td>\n",
       "      <td>4019</td>\n",
       "      <td>NaN</td>\n",
       "      <td>331.0</td>\n",
       "      <td>NaN</td>\n",
       "      <td>NaN</td>\n",
       "      <td>NaN</td>\n",
       "      <td>NaN</td>\n",
       "      <td>NaN</td>\n",
       "    </tr>\n",
       "    <tr>\n",
       "      <th>4</th>\n",
       "      <td>BENE11014</td>\n",
       "      <td>CLM63689</td>\n",
       "      <td>2009-08-13</td>\n",
       "      <td>2009-08-30</td>\n",
       "      <td>PRV56614</td>\n",
       "      <td>10000</td>\n",
       "      <td>PHY379376</td>\n",
       "      <td>PHY398258</td>\n",
       "      <td>NaN</td>\n",
       "      <td>2009-08-13</td>\n",
       "      <td>...</td>\n",
       "      <td>5119</td>\n",
       "      <td>29620</td>\n",
       "      <td>20300</td>\n",
       "      <td>NaN</td>\n",
       "      <td>3893.0</td>\n",
       "      <td>NaN</td>\n",
       "      <td>NaN</td>\n",
       "      <td>NaN</td>\n",
       "      <td>NaN</td>\n",
       "      <td>NaN</td>\n",
       "    </tr>\n",
       "  </tbody>\n",
       "</table>\n",
       "<p>5 rows × 30 columns</p>\n",
       "</div>"
      ],
      "text/plain": [
       "      BeneID   ClaimID ClaimStartDt  ClaimEndDt  Provider  \\\n",
       "0  BENE11001  CLM46614   2009-04-12  2009-04-18  PRV55912   \n",
       "1  BENE11001  CLM66048   2009-08-31  2009-09-02  PRV55907   \n",
       "2  BENE11001  CLM68358   2009-09-17  2009-09-20  PRV56046   \n",
       "3  BENE11011  CLM38412   2009-02-14  2009-02-22  PRV52405   \n",
       "4  BENE11014  CLM63689   2009-08-13  2009-08-30  PRV56614   \n",
       "\n",
       "   InscClaimAmtReimbursed AttendingPhysician OperatingPhysician  \\\n",
       "0                   26000          PHY390922                NaN   \n",
       "1                    5000          PHY318495          PHY318495   \n",
       "2                    5000          PHY372395                NaN   \n",
       "3                    5000          PHY369659          PHY392961   \n",
       "4                   10000          PHY379376          PHY398258   \n",
       "\n",
       "  OtherPhysician AdmissionDt  ... ClmDiagnosisCode_7  ClmDiagnosisCode_8  \\\n",
       "0            NaN  2009-04-12  ...               2724               19889   \n",
       "1            NaN  2009-08-31  ...                NaN                 NaN   \n",
       "2      PHY324689  2009-09-17  ...                NaN                 NaN   \n",
       "3      PHY349768  2009-02-14  ...              25062               40390   \n",
       "4            NaN  2009-08-13  ...               5119               29620   \n",
       "\n",
       "  ClmDiagnosisCode_9 ClmDiagnosisCode_10 ClmProcedureCode_1  \\\n",
       "0               5849                 NaN                NaN   \n",
       "1                NaN                 NaN             7092.0   \n",
       "2                NaN                 NaN                NaN   \n",
       "3               4019                 NaN              331.0   \n",
       "4              20300                 NaN             3893.0   \n",
       "\n",
       "  ClmProcedureCode_2 ClmProcedureCode_3 ClmProcedureCode_4 ClmProcedureCode_5  \\\n",
       "0                NaN                NaN                NaN                NaN   \n",
       "1                NaN                NaN                NaN                NaN   \n",
       "2                NaN                NaN                NaN                NaN   \n",
       "3                NaN                NaN                NaN                NaN   \n",
       "4                NaN                NaN                NaN                NaN   \n",
       "\n",
       "  ClmProcedureCode_6  \n",
       "0                NaN  \n",
       "1                NaN  \n",
       "2                NaN  \n",
       "3                NaN  \n",
       "4                NaN  \n",
       "\n",
       "[5 rows x 30 columns]"
      ]
     },
     "execution_count": 29,
     "metadata": {},
     "output_type": "execute_result"
    }
   ],
   "source": [
    "inp_train.head()"
   ]
  },
  {
   "cell_type": "markdown",
   "metadata": {},
   "source": [
    "### ClaimStartDt  ClaimEndDt\n"
   ]
  },
  {
   "cell_type": "code",
   "execution_count": 30,
   "metadata": {
    "execution": {
     "iopub.execute_input": "2024-03-09T08:46:37.216901Z",
     "iopub.status.busy": "2024-03-09T08:46:37.216641Z",
     "iopub.status.idle": "2024-03-09T08:46:37.458631Z",
     "shell.execute_reply": "2024-03-09T08:46:37.457763Z",
     "shell.execute_reply.started": "2024-03-09T08:46:37.216872Z"
    }
   },
   "outputs": [],
   "source": [
    "for df in [inp_train,inp_test,outp_test,outp_train]:  \n",
    "        for col in ['ClaimStartDt','ClaimEndDt']:\n",
    "            df[col] = pd.to_datetime(df[col])\n",
    "            \n",
    "        df['ClaimPeriod'] =  round(((df.ClaimEndDt - df.ClaimStartDt).dt.days),0)\n",
    "        \n",
    "\n",
    "            \n",
    "for df in [inp_train,inp_test]:\n",
    "            df.AdmissionDt = pd.to_datetime(df.AdmissionDt)\n",
    "            df.DischargeDt = pd.to_datetime(df.DischargeDt)\n",
    "            ### 住院案例DischargeDt和AdmissionDt字段通过相减获得住院时间字段。并且删除原本字段。\n",
    "            df['TimeInHptal'] =  round(((df.DischargeDt - df.AdmissionDt).dt.days),0)\n",
    "            df.drop(['DischargeDt','AdmissionDt'],axis=1,inplace=True)\n",
    "#             delta = df.DischargeDt - df.AdmissionDt\n",
    "#             delta_as_time_obj = time.gmtime(delta.total_seconds())\n",
    "#             df['TimeInHptal'] = time.strftime('%d', delta_as_time_obj)\n",
    "            \n",
    "            \n"
   ]
  },
  {
   "cell_type": "code",
   "execution_count": null,
   "metadata": {},
   "outputs": [],
   "source": []
  },
  {
   "cell_type": "markdown",
   "metadata": {},
   "source": [
    "\n",
    "We create a new\n",
    " DischargeDt AdmissionDt\n"
   ]
  },
  {
   "cell_type": "code",
   "execution_count": 31,
   "metadata": {
    "execution": {
     "iopub.execute_input": "2024-03-09T08:46:37.461548Z",
     "iopub.status.busy": "2024-03-09T08:46:37.460912Z",
     "iopub.status.idle": "2024-03-09T08:46:37.722541Z",
     "shell.execute_reply": "2024-03-09T08:46:37.721724Z",
     "shell.execute_reply.started": "2024-03-09T08:46:37.461518Z"
    }
   },
   "outputs": [
    {
     "data": {
      "image/png": "[encoded data removed]",
      "text/plain": [
       "<Figure size 640x480 with 1 Axes>"
      ]
     },
     "metadata": {},
     "output_type": "display_data"
    }
   ],
   "source": [
    "data = inp_train.groupby('TimeInHptal').count().BeneID\n",
    "plt.title(\"the dsitribution of inpatient's time in Hospital\")\n",
    "plt.bar(x=data.index,height=data,color='navy')\n",
    "plt.xticks(np.arange(0,12,1))\n",
    "plt.show()"
   ]
  },
  {
   "cell_type": "markdown",
   "metadata": {},
   "source": [
    "ClmDiagnosisCode 1ClmDiagnosisCode 10DiagnosisIndex，ClmDiagnosisCode 1ClmDiagnosisCode 2~ClmDiagnosisCode 10\n"
   ]
  },
  {
   "cell_type": "code",
   "execution_count": 32,
   "metadata": {
    "execution": {
     "iopub.execute_input": "2024-03-09T08:46:37.724168Z",
     "iopub.status.busy": "2024-03-09T08:46:37.723672Z",
     "iopub.status.idle": "2024-03-09T08:46:37.729174Z",
     "shell.execute_reply": "2024-03-09T08:46:37.727708Z",
     "shell.execute_reply.started": "2024-03-09T08:46:37.724137Z"
    }
   },
   "outputs": [],
   "source": [
    "ClmProcedureCode = ['ClmProcedureCode_1', 'ClmProcedureCode_2', 'ClmProcedureCode_3',\n",
    "        'ClmProcedureCode_4', 'ClmProcedureCode_5', 'ClmProcedureCode_6',]"
   ]
  },
  {
   "cell_type": "code",
   "execution_count": 33,
   "metadata": {
    "execution": {
     "iopub.execute_input": "2024-03-09T08:46:37.732708Z",
     "iopub.status.busy": "2024-03-09T08:46:37.731499Z",
     "iopub.status.idle": "2024-03-09T08:46:37.741054Z",
     "shell.execute_reply": "2024-03-09T08:46:37.740138Z",
     "shell.execute_reply.started": "2024-03-09T08:46:37.732680Z"
    }
   },
   "outputs": [],
   "source": [
    "ClmDiagnosisCode = ['ClmDiagnosisCode_1',\n",
    "       'ClmDiagnosisCode_2', 'ClmDiagnosisCode_3', 'ClmDiagnosisCode_4',\n",
    "       'ClmDiagnosisCode_5', 'ClmDiagnosisCode_6', 'ClmDiagnosisCode_7',\n",
    "       'ClmDiagnosisCode_8', 'ClmDiagnosisCode_9', 'ClmDiagnosisCode_10']"
   ]
  },
  {
   "cell_type": "code",
   "execution_count": 34,
   "metadata": {
    "execution": {
     "iopub.execute_input": "2024-03-09T08:46:37.743414Z",
     "iopub.status.busy": "2024-03-09T08:46:37.742510Z",
     "iopub.status.idle": "2024-03-09T08:46:41.872148Z",
     "shell.execute_reply": "2024-03-09T08:46:41.871247Z",
     "shell.execute_reply.started": "2024-03-09T08:46:37.743384Z"
    }
   },
   "outputs": [],
   "source": [
    "for code in ClmDiagnosisCode:\n",
    "    inp_train.fillna('-1',inplace=True)\n",
    "    outp_train.fillna('-1',inplace=True)"
   ]
  },
  {
   "cell_type": "code",
   "execution_count": 35,
   "metadata": {
    "execution": {
     "iopub.execute_input": "2024-03-09T08:46:41.874021Z",
     "iopub.status.busy": "2024-03-09T08:46:41.873473Z",
     "iopub.status.idle": "2024-03-09T08:46:41.878075Z",
     "shell.execute_reply": "2024-03-09T08:46:41.877437Z",
     "shell.execute_reply.started": "2024-03-09T08:46:41.873999Z"
    }
   },
   "outputs": [],
   "source": [
    "def CountingIndex(df,codeList,indexName):    \n",
    "    for i in range(df.shape[0]):#\n",
    "        DiagnosisCnt = 0\n",
    "        for code in codeList:\n",
    "            if df.loc[i,code]== '-1':               \n",
    "                continue                 \n",
    "            else:\n",
    "                 DiagnosisCnt+=1\n",
    "        df.loc[i,indexName] = DiagnosisCnt"
   ]
  },
  {
   "cell_type": "code",
   "execution_count": 36,
   "metadata": {
    "execution": {
     "iopub.execute_input": "2024-03-09T08:46:41.879874Z",
     "iopub.status.busy": "2024-03-09T08:46:41.878876Z",
     "iopub.status.idle": "2024-03-09T08:46:58.710624Z",
     "shell.execute_reply": "2024-03-09T08:46:58.709555Z",
     "shell.execute_reply.started": "2024-03-09T08:46:41.879822Z"
    }
   },
   "outputs": [],
   "source": [
    "CountingIndex(inp_train,ClmDiagnosisCode,'DiagnosisIndex')"
   ]
  },
  {
   "cell_type": "code",
   "execution_count": 37,
   "metadata": {
    "execution": {
     "iopub.execute_input": "2024-03-09T08:46:58.712422Z",
     "iopub.status.busy": "2024-03-09T08:46:58.712052Z",
     "iopub.status.idle": "2024-03-09T08:50:31.582450Z",
     "shell.execute_reply": "2024-03-09T08:50:31.581742Z",
     "shell.execute_reply.started": "2024-03-09T08:46:58.712394Z"
    }
   },
   "outputs": [],
   "source": [
    "CountingIndex(outp_train,ClmDiagnosisCode,'DiagnosisIndex')"
   ]
  },
  {
   "cell_type": "code",
   "execution_count": 38,
   "metadata": {
    "execution": {
     "iopub.execute_input": "2024-03-09T08:50:31.583975Z",
     "iopub.status.busy": "2024-03-09T08:50:31.583363Z",
     "iopub.status.idle": "2024-03-09T08:50:42.827568Z",
     "shell.execute_reply": "2024-03-09T08:50:42.826045Z",
     "shell.execute_reply.started": "2024-03-09T08:50:31.583953Z"
    }
   },
   "outputs": [],
   "source": [
    "CountingIndex(inp_train,ClmProcedureCode,'ProcedureIndex')\n"
   ]
  },
  {
   "cell_type": "code",
   "execution_count": 39,
   "metadata": {
    "execution": {
     "iopub.execute_input": "2024-03-09T08:50:42.829414Z",
     "iopub.status.busy": "2024-03-09T08:50:42.829046Z",
     "iopub.status.idle": "2024-03-09T08:53:13.190324Z",
     "shell.execute_reply": "2024-03-09T08:53:13.189474Z",
     "shell.execute_reply.started": "2024-03-09T08:50:42.829384Z"
    }
   },
   "outputs": [],
   "source": [
    "CountingIndex(outp_train,ClmProcedureCode,'ProcedureIndex')"
   ]
  },
  {
   "cell_type": "code",
   "execution_count": 40,
   "metadata": {
    "execution": {
     "iopub.execute_input": "2024-03-09T08:53:13.191982Z",
     "iopub.status.busy": "2024-03-09T08:53:13.191618Z",
     "iopub.status.idle": "2024-03-09T08:53:13.213689Z",
     "shell.execute_reply": "2024-03-09T08:53:13.212745Z",
     "shell.execute_reply.started": "2024-03-09T08:53:13.191961Z"
    }
   },
   "outputs": [
    {
     "data": {
      "text/html": [
       "<div>\n",
       "<style scoped>\n",
       "    .dataframe tbody tr th:only-of-type {\n",
       "        vertical-align: middle;\n",
       "    }\n",
       "\n",
       "    .dataframe tbody tr th {\n",
       "        vertical-align: top;\n",
       "    }\n",
       "\n",
       "    .dataframe thead th {\n",
       "        text-align: right;\n",
       "    }\n",
       "</style>\n",
       "<table border=\"1\" class=\"dataframe\">\n",
       "  <thead>\n",
       "    <tr style=\"text-align: right;\">\n",
       "      <th></th>\n",
       "      <th>BeneID</th>\n",
       "      <th>ClaimID</th>\n",
       "      <th>ClaimStartDt</th>\n",
       "      <th>ClaimEndDt</th>\n",
       "      <th>Provider</th>\n",
       "      <th>InscClaimAmtReimbursed</th>\n",
       "      <th>AttendingPhysician</th>\n",
       "      <th>OperatingPhysician</th>\n",
       "      <th>OtherPhysician</th>\n",
       "      <th>ClmAdmitDiagnosisCode</th>\n",
       "      <th>...</th>\n",
       "      <th>ClmProcedureCode_1</th>\n",
       "      <th>ClmProcedureCode_2</th>\n",
       "      <th>ClmProcedureCode_3</th>\n",
       "      <th>ClmProcedureCode_4</th>\n",
       "      <th>ClmProcedureCode_5</th>\n",
       "      <th>ClmProcedureCode_6</th>\n",
       "      <th>ClaimPeriod</th>\n",
       "      <th>TimeInHptal</th>\n",
       "      <th>DiagnosisIndex</th>\n",
       "      <th>ProcedureIndex</th>\n",
       "    </tr>\n",
       "  </thead>\n",
       "  <tbody>\n",
       "    <tr>\n",
       "      <th>0</th>\n",
       "      <td>BENE11001</td>\n",
       "      <td>CLM46614</td>\n",
       "      <td>2009-04-12</td>\n",
       "      <td>2009-04-18</td>\n",
       "      <td>PRV55912</td>\n",
       "      <td>26000</td>\n",
       "      <td>PHY390922</td>\n",
       "      <td>-1</td>\n",
       "      <td>-1</td>\n",
       "      <td>7866</td>\n",
       "      <td>...</td>\n",
       "      <td>-1</td>\n",
       "      <td>-1</td>\n",
       "      <td>-1</td>\n",
       "      <td>-1</td>\n",
       "      <td>-1</td>\n",
       "      <td>-1</td>\n",
       "      <td>6</td>\n",
       "      <td>6</td>\n",
       "      <td>9.0</td>\n",
       "      <td>0.0</td>\n",
       "    </tr>\n",
       "    <tr>\n",
       "      <th>1</th>\n",
       "      <td>BENE11001</td>\n",
       "      <td>CLM66048</td>\n",
       "      <td>2009-08-31</td>\n",
       "      <td>2009-09-02</td>\n",
       "      <td>PRV55907</td>\n",
       "      <td>5000</td>\n",
       "      <td>PHY318495</td>\n",
       "      <td>PHY318495</td>\n",
       "      <td>-1</td>\n",
       "      <td>6186</td>\n",
       "      <td>...</td>\n",
       "      <td>7092.0</td>\n",
       "      <td>-1</td>\n",
       "      <td>-1</td>\n",
       "      <td>-1</td>\n",
       "      <td>-1</td>\n",
       "      <td>-1</td>\n",
       "      <td>2</td>\n",
       "      <td>2</td>\n",
       "      <td>3.0</td>\n",
       "      <td>1.0</td>\n",
       "    </tr>\n",
       "    <tr>\n",
       "      <th>2</th>\n",
       "      <td>BENE11001</td>\n",
       "      <td>CLM68358</td>\n",
       "      <td>2009-09-17</td>\n",
       "      <td>2009-09-20</td>\n",
       "      <td>PRV56046</td>\n",
       "      <td>5000</td>\n",
       "      <td>PHY372395</td>\n",
       "      <td>-1</td>\n",
       "      <td>PHY324689</td>\n",
       "      <td>29590</td>\n",
       "      <td>...</td>\n",
       "      <td>-1</td>\n",
       "      <td>-1</td>\n",
       "      <td>-1</td>\n",
       "      <td>-1</td>\n",
       "      <td>-1</td>\n",
       "      <td>-1</td>\n",
       "      <td>3</td>\n",
       "      <td>3</td>\n",
       "      <td>6.0</td>\n",
       "      <td>0.0</td>\n",
       "    </tr>\n",
       "    <tr>\n",
       "      <th>3</th>\n",
       "      <td>BENE11011</td>\n",
       "      <td>CLM38412</td>\n",
       "      <td>2009-02-14</td>\n",
       "      <td>2009-02-22</td>\n",
       "      <td>PRV52405</td>\n",
       "      <td>5000</td>\n",
       "      <td>PHY369659</td>\n",
       "      <td>PHY392961</td>\n",
       "      <td>PHY349768</td>\n",
       "      <td>431</td>\n",
       "      <td>...</td>\n",
       "      <td>331.0</td>\n",
       "      <td>-1</td>\n",
       "      <td>-1</td>\n",
       "      <td>-1</td>\n",
       "      <td>-1</td>\n",
       "      <td>-1</td>\n",
       "      <td>8</td>\n",
       "      <td>8</td>\n",
       "      <td>9.0</td>\n",
       "      <td>1.0</td>\n",
       "    </tr>\n",
       "    <tr>\n",
       "      <th>4</th>\n",
       "      <td>BENE11014</td>\n",
       "      <td>CLM63689</td>\n",
       "      <td>2009-08-13</td>\n",
       "      <td>2009-08-30</td>\n",
       "      <td>PRV56614</td>\n",
       "      <td>10000</td>\n",
       "      <td>PHY379376</td>\n",
       "      <td>PHY398258</td>\n",
       "      <td>-1</td>\n",
       "      <td>78321</td>\n",
       "      <td>...</td>\n",
       "      <td>3893.0</td>\n",
       "      <td>-1</td>\n",
       "      <td>-1</td>\n",
       "      <td>-1</td>\n",
       "      <td>-1</td>\n",
       "      <td>-1</td>\n",
       "      <td>17</td>\n",
       "      <td>17</td>\n",
       "      <td>9.0</td>\n",
       "      <td>1.0</td>\n",
       "    </tr>\n",
       "  </tbody>\n",
       "</table>\n",
       "<p>5 rows × 32 columns</p>\n",
       "</div>"
      ],
      "text/plain": [
       "      BeneID   ClaimID ClaimStartDt ClaimEndDt  Provider  \\\n",
       "0  BENE11001  CLM46614   2009-04-12 2009-04-18  PRV55912   \n",
       "1  BENE11001  CLM66048   2009-08-31 2009-09-02  PRV55907   \n",
       "2  BENE11001  CLM68358   2009-09-17 2009-09-20  PRV56046   \n",
       "3  BENE11011  CLM38412   2009-02-14 2009-02-22  PRV52405   \n",
       "4  BENE11014  CLM63689   2009-08-13 2009-08-30  PRV56614   \n",
       "\n",
       "   InscClaimAmtReimbursed AttendingPhysician OperatingPhysician  \\\n",
       "0                   26000          PHY390922                 -1   \n",
       "1                    5000          PHY318495          PHY318495   \n",
       "2                    5000          PHY372395                 -1   \n",
       "3                    5000          PHY369659          PHY392961   \n",
       "4                   10000          PHY379376          PHY398258   \n",
       "\n",
       "  OtherPhysician ClmAdmitDiagnosisCode  ... ClmProcedureCode_1  \\\n",
       "0             -1                  7866  ...                 -1   \n",
       "1             -1                  6186  ...             7092.0   \n",
       "2      PHY324689                 29590  ...                 -1   \n",
       "3      PHY349768                   431  ...              331.0   \n",
       "4             -1                 78321  ...             3893.0   \n",
       "\n",
       "  ClmProcedureCode_2 ClmProcedureCode_3 ClmProcedureCode_4 ClmProcedureCode_5  \\\n",
       "0                 -1                 -1                 -1                 -1   \n",
       "1                 -1                 -1                 -1                 -1   \n",
       "2                 -1                 -1                 -1                 -1   \n",
       "3                 -1                 -1                 -1                 -1   \n",
       "4                 -1                 -1                 -1                 -1   \n",
       "\n",
       "  ClmProcedureCode_6 ClaimPeriod TimeInHptal DiagnosisIndex ProcedureIndex  \n",
       "0                 -1           6           6            9.0            0.0  \n",
       "1                 -1           2           2            3.0            1.0  \n",
       "2                 -1           3           3            6.0            0.0  \n",
       "3                 -1           8           8            9.0            1.0  \n",
       "4                 -1          17          17            9.0            1.0  \n",
       "\n",
       "[5 rows x 32 columns]"
      ]
     },
     "execution_count": 40,
     "metadata": {},
     "output_type": "execute_result"
    }
   ],
   "source": [
    "ClmDiagnosisCode.remove('ClmDiagnosisCode_1') \n",
    "inp_train.head()"
   ]
  },
  {
   "cell_type": "code",
   "execution_count": 41,
   "metadata": {
    "execution": {
     "iopub.execute_input": "2024-03-09T08:53:13.216976Z",
     "iopub.status.busy": "2024-03-09T08:53:13.215911Z",
     "iopub.status.idle": "2024-03-09T08:54:47.265421Z",
     "shell.execute_reply": "2024-03-09T08:54:47.264623Z",
     "shell.execute_reply.started": "2024-03-09T08:53:13.216926Z"
    }
   },
   "outputs": [],
   "source": [
    "CountingIndex(inp_test,ClmProcedureCode,'ProcedureIndex')\n",
    "CountingIndex(inp_test,ClmDiagnosisCode,'DiagnosisIndex')\n",
    "\n",
    "CountingIndex(outp_test,ClmProcedureCode,'ProcedureIndex')\n",
    "CountingIndex(outp_test,ClmDiagnosisCode,'DiagnosisIndex')\n",
    "       "
   ]
  },
  {
   "cell_type": "code",
   "execution_count": 42,
   "metadata": {
    "execution": {
     "iopub.execute_input": "2024-03-09T08:54:47.266497Z",
     "iopub.status.busy": "2024-03-09T08:54:47.266282Z",
     "iopub.status.idle": "2024-03-09T08:54:47.324436Z",
     "shell.execute_reply": "2024-03-09T08:54:47.323610Z",
     "shell.execute_reply.started": "2024-03-09T08:54:47.266477Z"
    }
   },
   "outputs": [
    {
     "data": {
      "text/html": [
       "<div>\n",
       "<style scoped>\n",
       "    .dataframe tbody tr th:only-of-type {\n",
       "        vertical-align: middle;\n",
       "    }\n",
       "\n",
       "    .dataframe tbody tr th {\n",
       "        vertical-align: top;\n",
       "    }\n",
       "\n",
       "    .dataframe thead th {\n",
       "        text-align: right;\n",
       "    }\n",
       "</style>\n",
       "<table border=\"1\" class=\"dataframe\">\n",
       "  <thead>\n",
       "    <tr style=\"text-align: right;\">\n",
       "      <th></th>\n",
       "      <th>BeneID</th>\n",
       "      <th>ClaimID</th>\n",
       "      <th>ClaimStartDt</th>\n",
       "      <th>ClaimEndDt</th>\n",
       "      <th>Provider</th>\n",
       "      <th>InscClaimAmtReimbursed</th>\n",
       "      <th>AttendingPhysician</th>\n",
       "      <th>OperatingPhysician</th>\n",
       "      <th>OtherPhysician</th>\n",
       "      <th>ClmAdmitDiagnosisCode</th>\n",
       "      <th>...</th>\n",
       "      <th>ClmDiagnosisCode_10</th>\n",
       "      <th>ClmProcedureCode_1</th>\n",
       "      <th>ClmProcedureCode_2</th>\n",
       "      <th>ClmProcedureCode_3</th>\n",
       "      <th>ClmProcedureCode_4</th>\n",
       "      <th>ClmProcedureCode_5</th>\n",
       "      <th>ClmProcedureCode_6</th>\n",
       "      <th>ClaimPeriod</th>\n",
       "      <th>TimeInHptal</th>\n",
       "      <th>ProcedureIndex</th>\n",
       "    </tr>\n",
       "    <tr>\n",
       "      <th>DiagnosisIndex</th>\n",
       "      <th></th>\n",
       "      <th></th>\n",
       "      <th></th>\n",
       "      <th></th>\n",
       "      <th></th>\n",
       "      <th></th>\n",
       "      <th></th>\n",
       "      <th></th>\n",
       "      <th></th>\n",
       "      <th></th>\n",
       "      <th></th>\n",
       "      <th></th>\n",
       "      <th></th>\n",
       "      <th></th>\n",
       "      <th></th>\n",
       "      <th></th>\n",
       "      <th></th>\n",
       "      <th></th>\n",
       "      <th></th>\n",
       "      <th></th>\n",
       "      <th></th>\n",
       "    </tr>\n",
       "  </thead>\n",
       "  <tbody>\n",
       "    <tr>\n",
       "      <th>1.0</th>\n",
       "      <td>226</td>\n",
       "      <td>226</td>\n",
       "      <td>226</td>\n",
       "      <td>226</td>\n",
       "      <td>226</td>\n",
       "      <td>226</td>\n",
       "      <td>226</td>\n",
       "      <td>226</td>\n",
       "      <td>226</td>\n",
       "      <td>226</td>\n",
       "      <td>...</td>\n",
       "      <td>226</td>\n",
       "      <td>226</td>\n",
       "      <td>226</td>\n",
       "      <td>226</td>\n",
       "      <td>226</td>\n",
       "      <td>226</td>\n",
       "      <td>226</td>\n",
       "      <td>226</td>\n",
       "      <td>226</td>\n",
       "      <td>226</td>\n",
       "    </tr>\n",
       "    <tr>\n",
       "      <th>2.0</th>\n",
       "      <td>450</td>\n",
       "      <td>450</td>\n",
       "      <td>450</td>\n",
       "      <td>450</td>\n",
       "      <td>450</td>\n",
       "      <td>450</td>\n",
       "      <td>450</td>\n",
       "      <td>450</td>\n",
       "      <td>450</td>\n",
       "      <td>450</td>\n",
       "      <td>...</td>\n",
       "      <td>450</td>\n",
       "      <td>450</td>\n",
       "      <td>450</td>\n",
       "      <td>450</td>\n",
       "      <td>450</td>\n",
       "      <td>450</td>\n",
       "      <td>450</td>\n",
       "      <td>450</td>\n",
       "      <td>450</td>\n",
       "      <td>450</td>\n",
       "    </tr>\n",
       "    <tr>\n",
       "      <th>3.0</th>\n",
       "      <td>858</td>\n",
       "      <td>858</td>\n",
       "      <td>858</td>\n",
       "      <td>858</td>\n",
       "      <td>858</td>\n",
       "      <td>858</td>\n",
       "      <td>858</td>\n",
       "      <td>858</td>\n",
       "      <td>858</td>\n",
       "      <td>858</td>\n",
       "      <td>...</td>\n",
       "      <td>858</td>\n",
       "      <td>858</td>\n",
       "      <td>858</td>\n",
       "      <td>858</td>\n",
       "      <td>858</td>\n",
       "      <td>858</td>\n",
       "      <td>858</td>\n",
       "      <td>858</td>\n",
       "      <td>858</td>\n",
       "      <td>858</td>\n",
       "    </tr>\n",
       "    <tr>\n",
       "      <th>4.0</th>\n",
       "      <td>1360</td>\n",
       "      <td>1360</td>\n",
       "      <td>1360</td>\n",
       "      <td>1360</td>\n",
       "      <td>1360</td>\n",
       "      <td>1360</td>\n",
       "      <td>1360</td>\n",
       "      <td>1360</td>\n",
       "      <td>1360</td>\n",
       "      <td>1360</td>\n",
       "      <td>...</td>\n",
       "      <td>1360</td>\n",
       "      <td>1360</td>\n",
       "      <td>1360</td>\n",
       "      <td>1360</td>\n",
       "      <td>1360</td>\n",
       "      <td>1360</td>\n",
       "      <td>1360</td>\n",
       "      <td>1360</td>\n",
       "      <td>1360</td>\n",
       "      <td>1360</td>\n",
       "    </tr>\n",
       "    <tr>\n",
       "      <th>5.0</th>\n",
       "      <td>1944</td>\n",
       "      <td>1944</td>\n",
       "      <td>1944</td>\n",
       "      <td>1944</td>\n",
       "      <td>1944</td>\n",
       "      <td>1944</td>\n",
       "      <td>1944</td>\n",
       "      <td>1944</td>\n",
       "      <td>1944</td>\n",
       "      <td>1944</td>\n",
       "      <td>...</td>\n",
       "      <td>1944</td>\n",
       "      <td>1944</td>\n",
       "      <td>1944</td>\n",
       "      <td>1944</td>\n",
       "      <td>1944</td>\n",
       "      <td>1944</td>\n",
       "      <td>1944</td>\n",
       "      <td>1944</td>\n",
       "      <td>1944</td>\n",
       "      <td>1944</td>\n",
       "    </tr>\n",
       "    <tr>\n",
       "      <th>6.0</th>\n",
       "      <td>2420</td>\n",
       "      <td>2420</td>\n",
       "      <td>2420</td>\n",
       "      <td>2420</td>\n",
       "      <td>2420</td>\n",
       "      <td>2420</td>\n",
       "      <td>2420</td>\n",
       "      <td>2420</td>\n",
       "      <td>2420</td>\n",
       "      <td>2420</td>\n",
       "      <td>...</td>\n",
       "      <td>2420</td>\n",
       "      <td>2420</td>\n",
       "      <td>2420</td>\n",
       "      <td>2420</td>\n",
       "      <td>2420</td>\n",
       "      <td>2420</td>\n",
       "      <td>2420</td>\n",
       "      <td>2420</td>\n",
       "      <td>2420</td>\n",
       "      <td>2420</td>\n",
       "    </tr>\n",
       "    <tr>\n",
       "      <th>7.0</th>\n",
       "      <td>2684</td>\n",
       "      <td>2684</td>\n",
       "      <td>2684</td>\n",
       "      <td>2684</td>\n",
       "      <td>2684</td>\n",
       "      <td>2684</td>\n",
       "      <td>2684</td>\n",
       "      <td>2684</td>\n",
       "      <td>2684</td>\n",
       "      <td>2684</td>\n",
       "      <td>...</td>\n",
       "      <td>2684</td>\n",
       "      <td>2684</td>\n",
       "      <td>2684</td>\n",
       "      <td>2684</td>\n",
       "      <td>2684</td>\n",
       "      <td>2684</td>\n",
       "      <td>2684</td>\n",
       "      <td>2684</td>\n",
       "      <td>2684</td>\n",
       "      <td>2684</td>\n",
       "    </tr>\n",
       "    <tr>\n",
       "      <th>8.0</th>\n",
       "      <td>3555</td>\n",
       "      <td>3555</td>\n",
       "      <td>3555</td>\n",
       "      <td>3555</td>\n",
       "      <td>3555</td>\n",
       "      <td>3555</td>\n",
       "      <td>3555</td>\n",
       "      <td>3555</td>\n",
       "      <td>3555</td>\n",
       "      <td>3555</td>\n",
       "      <td>...</td>\n",
       "      <td>3555</td>\n",
       "      <td>3555</td>\n",
       "      <td>3555</td>\n",
       "      <td>3555</td>\n",
       "      <td>3555</td>\n",
       "      <td>3555</td>\n",
       "      <td>3555</td>\n",
       "      <td>3555</td>\n",
       "      <td>3555</td>\n",
       "      <td>3555</td>\n",
       "    </tr>\n",
       "    <tr>\n",
       "      <th>9.0</th>\n",
       "      <td>23050</td>\n",
       "      <td>23050</td>\n",
       "      <td>23050</td>\n",
       "      <td>23050</td>\n",
       "      <td>23050</td>\n",
       "      <td>23050</td>\n",
       "      <td>23050</td>\n",
       "      <td>23050</td>\n",
       "      <td>23050</td>\n",
       "      <td>23050</td>\n",
       "      <td>...</td>\n",
       "      <td>23050</td>\n",
       "      <td>23050</td>\n",
       "      <td>23050</td>\n",
       "      <td>23050</td>\n",
       "      <td>23050</td>\n",
       "      <td>23050</td>\n",
       "      <td>23050</td>\n",
       "      <td>23050</td>\n",
       "      <td>23050</td>\n",
       "      <td>23050</td>\n",
       "    </tr>\n",
       "    <tr>\n",
       "      <th>10.0</th>\n",
       "      <td>3927</td>\n",
       "      <td>3927</td>\n",
       "      <td>3927</td>\n",
       "      <td>3927</td>\n",
       "      <td>3927</td>\n",
       "      <td>3927</td>\n",
       "      <td>3927</td>\n",
       "      <td>3927</td>\n",
       "      <td>3927</td>\n",
       "      <td>3927</td>\n",
       "      <td>...</td>\n",
       "      <td>3927</td>\n",
       "      <td>3927</td>\n",
       "      <td>3927</td>\n",
       "      <td>3927</td>\n",
       "      <td>3927</td>\n",
       "      <td>3927</td>\n",
       "      <td>3927</td>\n",
       "      <td>3927</td>\n",
       "      <td>3927</td>\n",
       "      <td>3927</td>\n",
       "    </tr>\n",
       "  </tbody>\n",
       "</table>\n",
       "<p>10 rows × 31 columns</p>\n",
       "</div>"
      ],
      "text/plain": [
       "                BeneID  ClaimID  ClaimStartDt  ClaimEndDt  Provider  \\\n",
       "DiagnosisIndex                                                        \n",
       "1.0                226      226           226         226       226   \n",
       "2.0                450      450           450         450       450   \n",
       "3.0                858      858           858         858       858   \n",
       "4.0               1360     1360          1360        1360      1360   \n",
       "5.0               1944     1944          1944        1944      1944   \n",
       "6.0               2420     2420          2420        2420      2420   \n",
       "7.0               2684     2684          2684        2684      2684   \n",
       "8.0               3555     3555          3555        3555      3555   \n",
       "9.0              23050    23050         23050       23050     23050   \n",
       "10.0              3927     3927          3927        3927      3927   \n",
       "\n",
       "                InscClaimAmtReimbursed  AttendingPhysician  \\\n",
       "DiagnosisIndex                                               \n",
       "1.0                                226                 226   \n",
       "2.0                                450                 450   \n",
       "3.0                                858                 858   \n",
       "4.0                               1360                1360   \n",
       "5.0                               1944                1944   \n",
       "6.0                               2420                2420   \n",
       "7.0                               2684                2684   \n",
       "8.0                               3555                3555   \n",
       "9.0                              23050               23050   \n",
       "10.0                              3927                3927   \n",
       "\n",
       "                OperatingPhysician  OtherPhysician  ClmAdmitDiagnosisCode  \\\n",
       "DiagnosisIndex                                                              \n",
       "1.0                            226             226                    226   \n",
       "2.0                            450             450                    450   \n",
       "3.0                            858             858                    858   \n",
       "4.0                           1360            1360                   1360   \n",
       "5.0                           1944            1944                   1944   \n",
       "6.0                           2420            2420                   2420   \n",
       "7.0                           2684            2684                   2684   \n",
       "8.0                           3555            3555                   3555   \n",
       "9.0                          23050           23050                  23050   \n",
       "10.0                          3927            3927                   3927   \n",
       "\n",
       "                ...  ClmDiagnosisCode_10  ClmProcedureCode_1  \\\n",
       "DiagnosisIndex  ...                                            \n",
       "1.0             ...                  226                 226   \n",
       "2.0             ...                  450                 450   \n",
       "3.0             ...                  858                 858   \n",
       "4.0             ...                 1360                1360   \n",
       "5.0             ...                 1944                1944   \n",
       "6.0             ...                 2420                2420   \n",
       "7.0             ...                 2684                2684   \n",
       "8.0             ...                 3555                3555   \n",
       "9.0             ...                23050               23050   \n",
       "10.0            ...                 3927                3927   \n",
       "\n",
       "                ClmProcedureCode_2  ClmProcedureCode_3  ClmProcedureCode_4  \\\n",
       "DiagnosisIndex                                                               \n",
       "1.0                            226                 226                 226   \n",
       "2.0                            450                 450                 450   \n",
       "3.0                            858                 858                 858   \n",
       "4.0                           1360                1360                1360   \n",
       "5.0                           1944                1944                1944   \n",
       "6.0                           2420                2420                2420   \n",
       "7.0                           2684                2684                2684   \n",
       "8.0                           3555                3555                3555   \n",
       "9.0                          23050               23050               23050   \n",
       "10.0                          3927                3927                3927   \n",
       "\n",
       "                ClmProcedureCode_5  ClmProcedureCode_6  ClaimPeriod  \\\n",
       "DiagnosisIndex                                                        \n",
       "1.0                            226                 226          226   \n",
       "2.0                            450                 450          450   \n",
       "3.0                            858                 858          858   \n",
       "4.0                           1360                1360         1360   \n",
       "5.0                           1944                1944         1944   \n",
       "6.0                           2420                2420         2420   \n",
       "7.0                           2684                2684         2684   \n",
       "8.0                           3555                3555         3555   \n",
       "9.0                          23050               23050        23050   \n",
       "10.0                          3927                3927         3927   \n",
       "\n",
       "                TimeInHptal  ProcedureIndex  \n",
       "DiagnosisIndex                               \n",
       "1.0                     226             226  \n",
       "2.0                     450             450  \n",
       "3.0                     858             858  \n",
       "4.0                    1360            1360  \n",
       "5.0                    1944            1944  \n",
       "6.0                    2420            2420  \n",
       "7.0                    2684            2684  \n",
       "8.0                    3555            3555  \n",
       "9.0                   23050           23050  \n",
       "10.0                   3927            3927  \n",
       "\n",
       "[10 rows x 31 columns]"
      ]
     },
     "execution_count": 42,
     "metadata": {},
     "output_type": "execute_result"
    }
   ],
   "source": [
    "inp_train.groupby('DiagnosisIndex').count()"
   ]
  },
  {
   "cell_type": "code",
   "execution_count": 43,
   "metadata": {
    "execution": {
     "iopub.execute_input": "2024-03-09T08:54:47.325644Z",
     "iopub.status.busy": "2024-03-09T08:54:47.325400Z",
     "iopub.status.idle": "2024-03-09T08:54:47.523971Z",
     "shell.execute_reply": "2024-03-09T08:54:47.522979Z",
     "shell.execute_reply.started": "2024-03-09T08:54:47.325622Z"
    }
   },
   "outputs": [
    {
     "data": {
      "image/png": "[encoded data removed]",
      "text/plain": [
       "<Figure size 800x600 with 1 Axes>"
      ]
     },
     "metadata": {},
     "output_type": "display_data"
    }
   ],
   "source": [
    "plt.figure(figsize=(8,6),dpi=100)\n",
    "\n",
    "data = inp_train.groupby('DiagnosisIndex').count().BeneID\n",
    "\n",
    "fig = plt.pie(data,\n",
    "              labels=data.index,\n",
    "              autopct = lambda pct: func(pct, data.values),)\n",
    "plt.title('DiagnosisIndex in outpatient data')\n",
    "\n",
    "plt.title('DiagnosisIndex in inp_train data')\n",
    "\n",
    "\n",
    "plt.show()"
   ]
  },
  {
   "cell_type": "code",
   "execution_count": 44,
   "metadata": {
    "execution": {
     "iopub.execute_input": "2024-03-09T08:54:47.528877Z",
     "iopub.status.busy": "2024-03-09T08:54:47.525030Z",
     "iopub.status.idle": "2024-03-09T08:54:48.122612Z",
     "shell.execute_reply": "2024-03-09T08:54:48.121579Z",
     "shell.execute_reply.started": "2024-03-09T08:54:47.528831Z"
    }
   },
   "outputs": [
    {
     "data": {
      "image/png": "[encoded data removed]",
      "text/plain": [
       "<Figure size 800x600 with 1 Axes>"
      ]
     },
     "metadata": {},
     "output_type": "display_data"
    }
   ],
   "source": [
    "plt.figure(figsize=(8,6),dpi=100)\n",
    "data = outp_train.groupby('DiagnosisIndex').count().BeneID\n",
    "\n",
    "\n",
    "\n",
    "\n",
    "fig = plt.pie(data,\n",
    "              labels=data.index,\n",
    "              autopct = lambda pct: func(pct, data.values),)\n",
    "plt.title('DiagnosisIndex in outpatient data')\n",
    "\n",
    "\n",
    "plt.show()"
   ]
  },
  {
   "cell_type": "code",
   "execution_count": 45,
   "metadata": {
    "execution": {
     "iopub.execute_input": "2024-03-09T08:54:48.123963Z",
     "iopub.status.busy": "2024-03-09T08:54:48.123717Z",
     "iopub.status.idle": "2024-03-09T08:54:48.130650Z",
     "shell.execute_reply": "2024-03-09T08:54:48.129716Z",
     "shell.execute_reply.started": "2024-03-09T08:54:48.123940Z"
    }
   },
   "outputs": [
    {
     "data": {
      "text/plain": [
       "Index(['BeneID', 'ClaimID', 'ClaimStartDt', 'ClaimEndDt', 'Provider',\n",
       "       'InscClaimAmtReimbursed', 'AttendingPhysician', 'OperatingPhysician',\n",
       "       'OtherPhysician', 'ClmAdmitDiagnosisCode', 'DeductibleAmtPaid',\n",
       "       'DiagnosisGroupCode', 'ClmDiagnosisCode_1', 'ClmDiagnosisCode_2',\n",
       "       'ClmDiagnosisCode_3', 'ClmDiagnosisCode_4', 'ClmDiagnosisCode_5',\n",
       "       'ClmDiagnosisCode_6', 'ClmDiagnosisCode_7', 'ClmDiagnosisCode_8',\n",
       "       'ClmDiagnosisCode_9', 'ClmDiagnosisCode_10', 'ClmProcedureCode_1',\n",
       "       'ClmProcedureCode_2', 'ClmProcedureCode_3', 'ClmProcedureCode_4',\n",
       "       'ClmProcedureCode_5', 'ClmProcedureCode_6', 'ClaimPeriod',\n",
       "       'TimeInHptal', 'DiagnosisIndex', 'ProcedureIndex'],\n",
       "      dtype='object')"
      ]
     },
     "execution_count": 45,
     "metadata": {},
     "output_type": "execute_result"
    }
   ],
   "source": [
    "inp_train.columns"
   ]
  },
  {
   "cell_type": "markdown",
   "metadata": {},
   "source": [
    "We create a new feature: SameApplicant, it is 1 if the attending physician and the operating physician in this patient data are the same person and 0 if not"
   ]
  },
  {
   "cell_type": "code",
   "execution_count": 46,
   "metadata": {
    "execution": {
     "iopub.execute_input": "2024-03-09T08:54:48.131932Z",
     "iopub.status.busy": "2024-03-09T08:54:48.131694Z",
     "iopub.status.idle": "2024-03-09T08:54:48.140008Z",
     "shell.execute_reply": "2024-03-09T08:54:48.138693Z",
     "shell.execute_reply.started": "2024-03-09T08:54:48.131910Z"
    }
   },
   "outputs": [],
   "source": [
    "def isSamePhysician(df):\n",
    "    for i in range(0,df.shape[0]):\n",
    "\n",
    "        if  df.loc[i,['AttendingPhysician']][0] == df.loc[i,['OperatingPhysician']][0]:\n",
    "            df.loc[i,'SamePhysician'] = 1\n",
    "        else:\n",
    "            df.loc[i,'SamePhysician'] = 0\n"
   ]
  },
  {
   "cell_type": "code",
   "execution_count": 47,
   "metadata": {
    "execution": {
     "iopub.execute_input": "2024-03-09T08:54:48.142006Z",
     "iopub.status.busy": "2024-03-09T08:54:48.141386Z",
     "iopub.status.idle": "2024-03-09T08:54:48.178035Z",
     "shell.execute_reply": "2024-03-09T08:54:48.177313Z",
     "shell.execute_reply.started": "2024-03-09T08:54:48.141953Z"
    }
   },
   "outputs": [],
   "source": [
    "inp_train.OtherPhysician.fillna(0,inplace=True)\n",
    "outp_train.OtherPhysician.fillna(0,inplace=True)"
   ]
  },
  {
   "cell_type": "code",
   "execution_count": 48,
   "metadata": {
    "execution": {
     "iopub.execute_input": "2024-03-09T08:54:48.179834Z",
     "iopub.status.busy": "2024-03-09T08:54:48.179367Z",
     "iopub.status.idle": "2024-03-09T08:54:48.192522Z",
     "shell.execute_reply": "2024-03-09T08:54:48.191650Z",
     "shell.execute_reply.started": "2024-03-09T08:54:48.179807Z"
    }
   },
   "outputs": [],
   "source": [
    "inp_test.OtherPhysician.fillna(0,inplace=True)\n",
    "outp_test.OtherPhysician.fillna(0,inplace=True)"
   ]
  },
  {
   "cell_type": "code",
   "execution_count": 49,
   "metadata": {
    "execution": {
     "iopub.execute_input": "2024-03-09T08:54:48.193948Z",
     "iopub.status.busy": "2024-03-09T08:54:48.193693Z",
     "iopub.status.idle": "2024-03-09T08:54:48.299632Z",
     "shell.execute_reply": "2024-03-09T08:54:48.298758Z",
     "shell.execute_reply.started": "2024-03-09T08:54:48.193926Z"
    }
   },
   "outputs": [],
   "source": [
    "for df in [inp_train,outp_train,inp_test,outp_train]:\n",
    "    for col in ['AttendingPhysician','OperatingPhysician']:\n",
    "        df[col].dropna(inplace=True)"
   ]
  },
  {
   "cell_type": "code",
   "execution_count": 50,
   "metadata": {
    "execution": {
     "iopub.execute_input": "2024-03-09T08:54:48.301209Z",
     "iopub.status.busy": "2024-03-09T08:54:48.300869Z",
     "iopub.status.idle": "2024-03-09T09:05:55.573870Z",
     "shell.execute_reply": "2024-03-09T09:05:55.572942Z",
     "shell.execute_reply.started": "2024-03-09T08:54:48.301182Z"
    }
   },
   "outputs": [],
   "source": [
    "isSamePhysician(inp_train)\n",
    "isSamePhysician(outp_train)"
   ]
  },
  {
   "cell_type": "code",
   "execution_count": 51,
   "metadata": {
    "execution": {
     "iopub.execute_input": "2024-03-09T09:05:55.576472Z",
     "iopub.status.busy": "2024-03-09T09:05:55.576102Z",
     "iopub.status.idle": "2024-03-09T09:08:34.716106Z",
     "shell.execute_reply": "2024-03-09T09:08:34.715227Z",
     "shell.execute_reply.started": "2024-03-09T09:05:55.576444Z"
    }
   },
   "outputs": [],
   "source": [
    "isSamePhysician(inp_test)\n",
    "isSamePhysician(outp_test)"
   ]
  },
  {
   "cell_type": "code",
   "execution_count": 52,
   "metadata": {
    "execution": {
     "iopub.execute_input": "2024-03-09T09:08:34.717296Z",
     "iopub.status.busy": "2024-03-09T09:08:34.717037Z",
     "iopub.status.idle": "2024-03-09T09:08:35.373622Z",
     "shell.execute_reply": "2024-03-09T09:08:35.372431Z",
     "shell.execute_reply.started": "2024-03-09T09:08:34.717275Z"
    }
   },
   "outputs": [],
   "source": [
    "bene_train.to_csv('bene_train.csv' ,sep='\\t', encoding='utf-8')"
   ]
  },
  {
   "cell_type": "code",
   "execution_count": 53,
   "metadata": {
    "execution": {
     "iopub.execute_input": "2024-03-09T09:08:35.374960Z",
     "iopub.status.busy": "2024-03-09T09:08:35.374693Z",
     "iopub.status.idle": "2024-03-09T09:08:35.378866Z",
     "shell.execute_reply": "2024-03-09T09:08:35.378078Z",
     "shell.execute_reply.started": "2024-03-09T09:08:35.374931Z"
    }
   },
   "outputs": [],
   "source": [
    "#train_df.drop([ 'BeneID', 'DOB'],axis=1,inplace=True)  #'NoOfMonths_PartACov', 'NoOfMonths_PartBCov'"
   ]
  },
  {
   "cell_type": "markdown",
   "metadata": {},
   "source": [
    "## Provider and the frauds"
   ]
  },
  {
   "cell_type": "code",
   "execution_count": 54,
   "metadata": {
    "execution": {
     "iopub.execute_input": "2024-03-09T09:08:35.379843Z",
     "iopub.status.busy": "2024-03-09T09:08:35.379624Z",
     "iopub.status.idle": "2024-03-09T09:08:35.395640Z",
     "shell.execute_reply": "2024-03-09T09:08:35.394715Z",
     "shell.execute_reply.started": "2024-03-09T09:08:35.379824Z"
    }
   },
   "outputs": [
    {
     "data": {
      "text/html": [
       "<div>\n",
       "<style scoped>\n",
       "    .dataframe tbody tr th:only-of-type {\n",
       "        vertical-align: middle;\n",
       "    }\n",
       "\n",
       "    .dataframe tbody tr th {\n",
       "        vertical-align: top;\n",
       "    }\n",
       "\n",
       "    .dataframe thead th {\n",
       "        text-align: right;\n",
       "    }\n",
       "</style>\n",
       "<table border=\"1\" class=\"dataframe\">\n",
       "  <thead>\n",
       "    <tr style=\"text-align: right;\">\n",
       "      <th></th>\n",
       "      <th>Provider</th>\n",
       "      <th>PotentialFraud</th>\n",
       "    </tr>\n",
       "  </thead>\n",
       "  <tbody>\n",
       "    <tr>\n",
       "      <th>0</th>\n",
       "      <td>PRV51001</td>\n",
       "      <td>No</td>\n",
       "    </tr>\n",
       "    <tr>\n",
       "      <th>1</th>\n",
       "      <td>PRV51003</td>\n",
       "      <td>Yes</td>\n",
       "    </tr>\n",
       "    <tr>\n",
       "      <th>2</th>\n",
       "      <td>PRV51004</td>\n",
       "      <td>No</td>\n",
       "    </tr>\n",
       "    <tr>\n",
       "      <th>3</th>\n",
       "      <td>PRV51005</td>\n",
       "      <td>Yes</td>\n",
       "    </tr>\n",
       "    <tr>\n",
       "      <th>4</th>\n",
       "      <td>PRV51007</td>\n",
       "      <td>No</td>\n",
       "    </tr>\n",
       "    <tr>\n",
       "      <th>...</th>\n",
       "      <td>...</td>\n",
       "      <td>...</td>\n",
       "    </tr>\n",
       "    <tr>\n",
       "      <th>5405</th>\n",
       "      <td>PRV57759</td>\n",
       "      <td>No</td>\n",
       "    </tr>\n",
       "    <tr>\n",
       "      <th>5406</th>\n",
       "      <td>PRV57760</td>\n",
       "      <td>No</td>\n",
       "    </tr>\n",
       "    <tr>\n",
       "      <th>5407</th>\n",
       "      <td>PRV57761</td>\n",
       "      <td>No</td>\n",
       "    </tr>\n",
       "    <tr>\n",
       "      <th>5408</th>\n",
       "      <td>PRV57762</td>\n",
       "      <td>No</td>\n",
       "    </tr>\n",
       "    <tr>\n",
       "      <th>5409</th>\n",
       "      <td>PRV57763</td>\n",
       "      <td>No</td>\n",
       "    </tr>\n",
       "  </tbody>\n",
       "</table>\n",
       "<p>5410 rows × 2 columns</p>\n",
       "</div>"
      ],
      "text/plain": [
       "      Provider PotentialFraud\n",
       "0     PRV51001             No\n",
       "1     PRV51003            Yes\n",
       "2     PRV51004             No\n",
       "3     PRV51005            Yes\n",
       "4     PRV51007             No\n",
       "...        ...            ...\n",
       "5405  PRV57759             No\n",
       "5406  PRV57760             No\n",
       "5407  PRV57761             No\n",
       "5408  PRV57762             No\n",
       "5409  PRV57763             No\n",
       "\n",
       "[5410 rows x 2 columns]"
      ]
     },
     "execution_count": 54,
     "metadata": {},
     "output_type": "execute_result"
    }
   ],
   "source": [
    "label_train"
   ]
  },
  {
   "cell_type": "markdown",
   "metadata": {},
   "source": [
    "Get the total number of the provider. We know from the data that among 5410 provider,  506 of them are marked as potential fraud data."
   ]
  },
  {
   "cell_type": "code",
   "execution_count": 55,
   "metadata": {
    "execution": {
     "iopub.execute_input": "2024-03-09T09:08:35.397979Z",
     "iopub.status.busy": "2024-03-09T09:08:35.397078Z",
     "iopub.status.idle": "2024-03-09T09:08:35.407040Z",
     "shell.execute_reply": "2024-03-09T09:08:35.406158Z",
     "shell.execute_reply.started": "2024-03-09T09:08:35.397951Z"
    }
   },
   "outputs": [
    {
     "data": {
      "text/plain": [
       "5410"
      ]
     },
     "execution_count": 55,
     "metadata": {},
     "output_type": "execute_result"
    }
   ],
   "source": [
    "prov_num = len(label_train['Provider'].unique())\n",
    "prov_num"
   ]
  },
  {
   "cell_type": "code",
   "execution_count": 56,
   "metadata": {
    "execution": {
     "iopub.execute_input": "2024-03-09T09:08:35.408446Z",
     "iopub.status.busy": "2024-03-09T09:08:35.408051Z",
     "iopub.status.idle": "2024-03-09T09:08:35.421615Z",
     "shell.execute_reply": "2024-03-09T09:08:35.420827Z",
     "shell.execute_reply.started": "2024-03-09T09:08:35.408421Z"
    }
   },
   "outputs": [
    {
     "data": {
      "text/html": [
       "<div>\n",
       "<style scoped>\n",
       "    .dataframe tbody tr th:only-of-type {\n",
       "        vertical-align: middle;\n",
       "    }\n",
       "\n",
       "    .dataframe tbody tr th {\n",
       "        vertical-align: top;\n",
       "    }\n",
       "\n",
       "    .dataframe thead th {\n",
       "        text-align: right;\n",
       "    }\n",
       "</style>\n",
       "<table border=\"1\" class=\"dataframe\">\n",
       "  <thead>\n",
       "    <tr style=\"text-align: right;\">\n",
       "      <th></th>\n",
       "      <th>Provider</th>\n",
       "    </tr>\n",
       "  </thead>\n",
       "  <tbody>\n",
       "    <tr>\n",
       "      <th>0</th>\n",
       "      <td>PRV51002</td>\n",
       "    </tr>\n",
       "    <tr>\n",
       "      <th>1</th>\n",
       "      <td>PRV51006</td>\n",
       "    </tr>\n",
       "    <tr>\n",
       "      <th>2</th>\n",
       "      <td>PRV51009</td>\n",
       "    </tr>\n",
       "    <tr>\n",
       "      <th>3</th>\n",
       "      <td>PRV51010</td>\n",
       "    </tr>\n",
       "    <tr>\n",
       "      <th>4</th>\n",
       "      <td>PRV51018</td>\n",
       "    </tr>\n",
       "    <tr>\n",
       "      <th>...</th>\n",
       "      <td>...</td>\n",
       "    </tr>\n",
       "    <tr>\n",
       "      <th>1348</th>\n",
       "      <td>PRV57713</td>\n",
       "    </tr>\n",
       "    <tr>\n",
       "      <th>1349</th>\n",
       "      <td>PRV57726</td>\n",
       "    </tr>\n",
       "    <tr>\n",
       "      <th>1350</th>\n",
       "      <td>PRV57745</td>\n",
       "    </tr>\n",
       "    <tr>\n",
       "      <th>1351</th>\n",
       "      <td>PRV57749</td>\n",
       "    </tr>\n",
       "    <tr>\n",
       "      <th>1352</th>\n",
       "      <td>PRV57750</td>\n",
       "    </tr>\n",
       "  </tbody>\n",
       "</table>\n",
       "<p>1353 rows × 1 columns</p>\n",
       "</div>"
      ],
      "text/plain": [
       "      Provider\n",
       "0     PRV51002\n",
       "1     PRV51006\n",
       "2     PRV51009\n",
       "3     PRV51010\n",
       "4     PRV51018\n",
       "...        ...\n",
       "1348  PRV57713\n",
       "1349  PRV57726\n",
       "1350  PRV57745\n",
       "1351  PRV57749\n",
       "1352  PRV57750\n",
       "\n",
       "[1353 rows x 1 columns]"
      ]
     },
     "execution_count": 56,
     "metadata": {},
     "output_type": "execute_result"
    }
   ],
   "source": [
    "label_test"
   ]
  },
  {
   "cell_type": "code",
   "execution_count": 57,
   "metadata": {
    "execution": {
     "iopub.execute_input": "2024-03-09T09:08:35.422980Z",
     "iopub.status.busy": "2024-03-09T09:08:35.422448Z",
     "iopub.status.idle": "2024-03-09T09:08:35.437843Z",
     "shell.execute_reply": "2024-03-09T09:08:35.436742Z",
     "shell.execute_reply.started": "2024-03-09T09:08:35.422950Z"
    }
   },
   "outputs": [
    {
     "data": {
      "text/plain": [
       "506"
      ]
     },
     "execution_count": 57,
     "metadata": {},
     "output_type": "execute_result"
    }
   ],
   "source": [
    "label_train['PotentialFraud'].replace('No',0,inplace=True)\n",
    "label_train['PotentialFraud'].replace('Yes',1,inplace=True)\n",
    "\n",
    "#label_test['PotentialFraud'].replace('No',0,inplace=True)\n",
    "#label_test['PotentialFraud'].replace('Yes',1,inplace=True)\n",
    "\n",
    "\n",
    "fraud = label_train[label_train['PotentialFraud']==1]\n",
    "fraud.shape[0]"
   ]
  },
  {
   "cell_type": "markdown",
   "metadata": {},
   "source": [
    "We can see that it the provider data is pretty imbalance. Only about 10% of the procider are labeled as potential fraud. This may cause some challange for the supervised-learning ML process. I plan to do Random Forest first and try unsupervised learning to see how it goes compare to the RF models."
   ]
  },
  {
   "cell_type": "code",
   "execution_count": 58,
   "metadata": {
    "execution": {
     "iopub.execute_input": "2024-03-09T09:08:35.440635Z",
     "iopub.status.busy": "2024-03-09T09:08:35.439803Z",
     "iopub.status.idle": "2024-03-09T09:08:35.583664Z",
     "shell.execute_reply": "2024-03-09T09:08:35.582782Z",
     "shell.execute_reply.started": "2024-03-09T09:08:35.440605Z"
    }
   },
   "outputs": [
    {
     "data": {
      "image/png": "[encoded data removed]",
      "text/plain": [
       "<Figure size 800x600 with 1 Axes>"
      ]
     },
     "metadata": {},
     "output_type": "display_data"
    }
   ],
   "source": [
    "label_train.groupby('PotentialFraud').count()\n",
    "plt.figure(figsize=(8,6),dpi=100)\n",
    "data=label_train.groupby('PotentialFraud').count()\n",
    "labels=['Prov. without potential fraud','Prov. with potential fraud']\n",
    "fig = plt.bar(x=data.index, height = data.Provider,color=['navy','crimson'])\n",
    "plt.title('the dsitribution between potential fraud and normal provider')\n",
    "x_pos = np.arange(2)\n",
    "plt.xticks(x_pos, labels=labels)\n",
    "\n",
    "cnt = 0\n",
    "for p in fig.patches:\n",
    "    height = p.get_height()\n",
    "    width = p.get_width()\n",
    "    x, y = p.get_xy()\n",
    "    #plt.annotate(label[cnt],(x+width/2,y+height),ha='center')\n",
    "    plt.annotate(f'{str(round((100*height)/(label_train.shape[0]),2))+\"%\"}',(x+width/2,y+height),ha='center')\n",
    "    cnt+=1\n",
    "\n",
    "plt.show()"
   ]
  },
  {
   "cell_type": "markdown",
   "metadata": {},
   "source": [
    "## Merge the dataset"
   ]
  },
  {
   "cell_type": "code",
   "execution_count": 59,
   "metadata": {
    "execution": {
     "iopub.execute_input": "2024-03-09T09:08:35.585280Z",
     "iopub.status.busy": "2024-03-09T09:08:35.584729Z",
     "iopub.status.idle": "2024-03-09T09:08:36.293407Z",
     "shell.execute_reply": "2024-03-09T09:08:36.292162Z",
     "shell.execute_reply.started": "2024-03-09T09:08:35.585251Z"
    }
   },
   "outputs": [],
   "source": [
    "for df in [inp_train,inp_test,outp_test,outp_train]:  \n",
    "    try:\n",
    "        df.drop(['ClaimStartDt','ClaimEndDt'],axis=1,inplace=True)        \n",
    "    except:\n",
    "        continue"
   ]
  },
  {
   "cell_type": "code",
   "execution_count": 60,
   "metadata": {
    "execution": {
     "iopub.execute_input": "2024-03-09T09:08:36.294815Z",
     "iopub.status.busy": "2024-03-09T09:08:36.294541Z",
     "iopub.status.idle": "2024-03-09T09:08:36.428434Z",
     "shell.execute_reply": "2024-03-09T09:08:36.427522Z",
     "shell.execute_reply.started": "2024-03-09T09:08:36.294793Z"
    }
   },
   "outputs": [],
   "source": [
    "delete = ClmProcedureCode+ClmDiagnosisCode\n",
    "for df in [inp_train,inp_test,outp_test,outp_train]: \n",
    "    try:\n",
    "        df.drop(delete,axis=1,inplace=True)\n",
    "    except:\n",
    "        continue\n"
   ]
  },
  {
   "cell_type": "code",
   "execution_count": 61,
   "metadata": {
    "execution": {
     "iopub.execute_input": "2024-03-09T09:08:36.429715Z",
     "iopub.status.busy": "2024-03-09T09:08:36.429454Z",
     "iopub.status.idle": "2024-03-09T09:08:36.434018Z",
     "shell.execute_reply": "2024-03-09T09:08:36.433038Z",
     "shell.execute_reply.started": "2024-03-09T09:08:36.429692Z"
    }
   },
   "outputs": [],
   "source": [
    "common_cols = [col for col in outp_train.columns if col in inp_train.columns]"
   ]
  },
  {
   "cell_type": "code",
   "execution_count": 62,
   "metadata": {
    "execution": {
     "iopub.execute_input": "2024-03-09T09:08:36.436260Z",
     "iopub.status.busy": "2024-03-09T09:08:36.435259Z",
     "iopub.status.idle": "2024-03-09T09:08:36.447608Z",
     "shell.execute_reply": "2024-03-09T09:08:36.446389Z",
     "shell.execute_reply.started": "2024-03-09T09:08:36.436199Z"
    }
   },
   "outputs": [
    {
     "data": {
      "text/plain": [
       "['BeneID',\n",
       " 'ClaimID',\n",
       " 'Provider',\n",
       " 'InscClaimAmtReimbursed',\n",
       " 'AttendingPhysician',\n",
       " 'OperatingPhysician',\n",
       " 'OtherPhysician',\n",
       " 'ClmDiagnosisCode_1',\n",
       " 'DeductibleAmtPaid',\n",
       " 'ClmAdmitDiagnosisCode',\n",
       " 'ClaimPeriod',\n",
       " 'DiagnosisIndex',\n",
       " 'ProcedureIndex',\n",
       " 'SamePhysician']"
      ]
     },
     "execution_count": 62,
     "metadata": {},
     "output_type": "execute_result"
    }
   ],
   "source": [
    "common_cols"
   ]
  },
  {
   "cell_type": "code",
   "execution_count": 63,
   "metadata": {
    "execution": {
     "iopub.execute_input": "2024-03-09T09:08:36.449722Z",
     "iopub.status.busy": "2024-03-09T09:08:36.449273Z",
     "iopub.status.idle": "2024-03-09T09:08:36.458498Z",
     "shell.execute_reply": "2024-03-09T09:08:36.457287Z",
     "shell.execute_reply.started": "2024-03-09T09:08:36.449686Z"
    }
   },
   "outputs": [],
   "source": [
    "inp_train[\"Admitted\"] = 1\n",
    "outp_train[\"Admitted\"] = 0\n",
    "inp_test[\"Admitted\"] = 1\n",
    "outp_test[\"Admitted\"] = 0"
   ]
  },
  {
   "cell_type": "code",
   "execution_count": 64,
   "metadata": {
    "execution": {
     "iopub.execute_input": "2024-03-09T09:08:36.460230Z",
     "iopub.status.busy": "2024-03-09T09:08:36.459843Z",
     "iopub.status.idle": "2024-03-09T09:08:36.470530Z",
     "shell.execute_reply": "2024-03-09T09:08:36.469586Z",
     "shell.execute_reply.started": "2024-03-09T09:08:36.460198Z"
    }
   },
   "outputs": [],
   "source": [
    "inp_train.DeductibleAmtPaid = inp_train.DeductibleAmtPaid.astype(int)\n",
    "inp_test.DeductibleAmtPaid = inp_test.DeductibleAmtPaid.fillna(-9999).astype(int)\n"
   ]
  },
  {
   "cell_type": "code",
   "execution_count": 65,
   "metadata": {
    "execution": {
     "iopub.execute_input": "2024-03-09T09:08:36.472384Z",
     "iopub.status.busy": "2024-03-09T09:08:36.471888Z",
     "iopub.status.idle": "2024-03-09T09:08:37.723276Z",
     "shell.execute_reply": "2024-03-09T09:08:37.722210Z",
     "shell.execute_reply.started": "2024-03-09T09:08:36.472355Z"
    }
   },
   "outputs": [],
   "source": [
    "ip_op_train = pd.merge(left=inp_train, right=outp_train, how='outer')\n",
    "ip_op_test = pd.merge(left=inp_test, right=outp_test, how='outer')"
   ]
  },
  {
   "cell_type": "code",
   "execution_count": 66,
   "metadata": {
    "execution": {
     "iopub.execute_input": "2024-03-09T09:08:37.724898Z",
     "iopub.status.busy": "2024-03-09T09:08:37.724556Z",
     "iopub.status.idle": "2024-03-09T09:08:38.212896Z",
     "shell.execute_reply": "2024-03-09T09:08:38.212015Z",
     "shell.execute_reply.started": "2024-03-09T09:08:37.724860Z"
    }
   },
   "outputs": [],
   "source": [
    "ip_op_train = pd.merge(left=ip_op_train, right=label_train, on='Provider', how='inner')\n",
    "ip_op_test = pd.merge(left=ip_op_test, right=label_test, on='Provider', how='inner')"
   ]
  },
  {
   "cell_type": "code",
   "execution_count": 67,
   "metadata": {
    "execution": {
     "iopub.execute_input": "2024-03-09T09:08:38.214206Z",
     "iopub.status.busy": "2024-03-09T09:08:38.213951Z",
     "iopub.status.idle": "2024-03-09T09:08:38.783358Z",
     "shell.execute_reply": "2024-03-09T09:08:38.782365Z",
     "shell.execute_reply.started": "2024-03-09T09:08:38.214185Z"
    }
   },
   "outputs": [
    {
     "data": {
      "text/plain": [
       "(558211, 33)"
      ]
     },
     "execution_count": 67,
     "metadata": {},
     "output_type": "execute_result"
    }
   ],
   "source": [
    "# Joining the IP_OP dataset with the BENE data\n",
    "train_df = pd.merge(left=ip_op_train, right=bene_train, left_on='BeneID', right_on='BeneID',how='inner')\n",
    "train_df.shape"
   ]
  },
  {
   "cell_type": "code",
   "execution_count": 68,
   "metadata": {
    "execution": {
     "iopub.execute_input": "2024-03-09T09:08:38.785463Z",
     "iopub.status.busy": "2024-03-09T09:08:38.785043Z",
     "iopub.status.idle": "2024-03-09T09:08:38.941141Z",
     "shell.execute_reply": "2024-03-09T09:08:38.940152Z",
     "shell.execute_reply.started": "2024-03-09T09:08:38.785428Z"
    }
   },
   "outputs": [
    {
     "data": {
      "text/plain": [
       "(115531, 32)"
      ]
     },
     "execution_count": 68,
     "metadata": {},
     "output_type": "execute_result"
    }
   ],
   "source": [
    "test_df = pd.merge(left=ip_op_test, right=bene_test, left_on='BeneID', right_on='BeneID',how='inner')\n",
    "test_df.shape"
   ]
  },
  {
   "cell_type": "code",
   "execution_count": 69,
   "metadata": {
    "execution": {
     "iopub.execute_input": "2024-03-09T09:08:38.951836Z",
     "iopub.status.busy": "2024-03-09T09:08:38.950772Z",
     "iopub.status.idle": "2024-03-09T09:08:45.129409Z",
     "shell.execute_reply": "2024-03-09T09:08:45.128476Z",
     "shell.execute_reply.started": "2024-03-09T09:08:38.951806Z"
    }
   },
   "outputs": [],
   "source": [
    "outp_test.shape[0] +inp_test.BeneID.shape[0]\n",
    "test_df.to_csv('test.csv' ,sep='\\t', encoding='utf-8')\n",
    "train_df.to_csv('train.csv' ,sep='\\t', encoding='utf-8')"
   ]
  },
  {
   "cell_type": "markdown",
   "metadata": {},
   "source": [
    "# Machine Learning\n"
   ]
  },
  {
   "cell_type": "code",
   "execution_count": 70,
   "metadata": {
    "execution": {
     "iopub.execute_input": "2024-03-09T09:08:45.130697Z",
     "iopub.status.busy": "2024-03-09T09:08:45.130433Z",
     "iopub.status.idle": "2024-03-09T09:08:45.353176Z",
     "shell.execute_reply": "2024-03-09T09:08:45.352127Z",
     "shell.execute_reply.started": "2024-03-09T09:08:45.130675Z"
    }
   },
   "outputs": [],
   "source": [
    "train_1 = train_df.copy()"
   ]
  },
  {
   "cell_type": "code",
   "execution_count": 71,
   "metadata": {
    "execution": {
     "iopub.execute_input": "2024-03-09T09:08:45.354761Z",
     "iopub.status.busy": "2024-03-09T09:08:45.354490Z",
     "iopub.status.idle": "2024-03-09T09:08:45.362165Z",
     "shell.execute_reply": "2024-03-09T09:08:45.361065Z",
     "shell.execute_reply.started": "2024-03-09T09:08:45.354739Z"
    }
   },
   "outputs": [
    {
     "data": {
      "text/plain": [
       "Index(['BeneID', 'ClaimID', 'Provider', 'InscClaimAmtReimbursed',\n",
       "       'AttendingPhysician', 'OperatingPhysician', 'OtherPhysician',\n",
       "       'ClmAdmitDiagnosisCode', 'DeductibleAmtPaid', 'DiagnosisGroupCode',\n",
       "       'ClmDiagnosisCode_1', 'ClaimPeriod', 'TimeInHptal', 'DiagnosisIndex',\n",
       "       'ProcedureIndex', 'SamePhysician', 'Admitted', 'PotentialFraud', 'DOB',\n",
       "       'Gender', 'Race', 'RenalDiseaseIndicator', 'State', 'County',\n",
       "       'NoOfMonths_PartACov', 'NoOfMonths_PartBCov',\n",
       "       'IPAnnualReimbursementAmt', 'IPAnnualDeductibleAmt',\n",
       "       'OPAnnualReimbursementAmt', 'OPAnnualDeductibleAmt', 'Age', 'Alive',\n",
       "       'ChronicDiseaseIndex'],\n",
       "      dtype='object')"
      ]
     },
     "execution_count": 71,
     "metadata": {},
     "output_type": "execute_result"
    }
   ],
   "source": [
    "train_1.columns"
   ]
  },
  {
   "cell_type": "code",
   "execution_count": 72,
   "metadata": {
    "execution": {
     "iopub.execute_input": "2024-03-09T09:08:45.364143Z",
     "iopub.status.busy": "2024-03-09T09:08:45.363463Z",
     "iopub.status.idle": "2024-03-09T09:08:45.371332Z",
     "shell.execute_reply": "2024-03-09T09:08:45.370756Z",
     "shell.execute_reply.started": "2024-03-09T09:08:45.364116Z"
    }
   },
   "outputs": [],
   "source": [
    "obj_list = ['BeneID', 'ClaimID','Provider','AttendingPhysician', 'ClmAdmitDiagnosisCode','OperatingPhysician', 'OtherPhysician','DiagnosisGroupCode','ClmDiagnosisCode_1','SamePhysician']"
   ]
  },
  {
   "cell_type": "code",
   "execution_count": 73,
   "metadata": {
    "execution": {
     "iopub.execute_input": "2024-03-09T09:08:45.372608Z",
     "iopub.status.busy": "2024-03-09T09:08:45.372169Z",
     "iopub.status.idle": "2024-03-09T09:08:48.967728Z",
     "shell.execute_reply": "2024-03-09T09:08:48.966493Z",
     "shell.execute_reply.started": "2024-03-09T09:08:45.372587Z"
    }
   },
   "outputs": [],
   "source": [
    "labelencoder = LabelEncoder()\n",
    "for col in obj_list:\n",
    "    train_1[col] = labelencoder.fit_transform(train_1[col])"
   ]
  },
  {
   "cell_type": "code",
   "execution_count": 74,
   "metadata": {
    "execution": {
     "iopub.execute_input": "2024-03-09T09:08:48.971342Z",
     "iopub.status.busy": "2024-03-09T09:08:48.968807Z",
     "iopub.status.idle": "2024-03-09T09:08:48.974974Z",
     "shell.execute_reply": "2024-03-09T09:08:48.973853Z",
     "shell.execute_reply.started": "2024-03-09T09:08:48.971299Z"
    }
   },
   "outputs": [],
   "source": [
    "# le = LabelEncoder()\n",
    "# for col in ['ClmDiagnosisCode_1', 'ClmDiagnosisCode_2',\n",
    "#        'ClmDiagnosisCode_3', 'ClmDiagnosisCode_4', 'ClmDiagnosisCode_5',\n",
    "#        'ClmDiagnosisCode_6', 'ClmDiagnosisCode_7', 'ClmDiagnosisCode_8',\n",
    "#        'ClmDiagnosisCode_9', 'ClmDiagnosisCode_10']: \n",
    "#      train_unclean_df[col].fillna('None',inplace=True)\n",
    "\n",
    "# train_unclean_df['DeductibleAmtPaid'].fillna(0,inplace=True)\n",
    "# train_unclean_df['Phy_same'].fillna(-1,inplace=True)\n"
   ]
  },
  {
   "cell_type": "code",
   "execution_count": 75,
   "metadata": {
    "execution": {
     "iopub.execute_input": "2024-03-09T09:08:48.976569Z",
     "iopub.status.busy": "2024-03-09T09:08:48.976320Z",
     "iopub.status.idle": "2024-03-09T09:08:49.014013Z",
     "shell.execute_reply": "2024-03-09T09:08:49.013128Z",
     "shell.execute_reply.started": "2024-03-09T09:08:48.976549Z"
    }
   },
   "outputs": [],
   "source": [
    "X = train_1.drop(['PotentialFraud','DOB'],axis=1)\n",
    "y = train_1['PotentialFraud']"
   ]
  },
  {
   "cell_type": "code",
   "execution_count": 76,
   "metadata": {
    "execution": {
     "iopub.execute_input": "2024-03-09T09:08:49.016771Z",
     "iopub.status.busy": "2024-03-09T09:08:49.015948Z",
     "iopub.status.idle": "2024-03-09T09:08:49.038624Z",
     "shell.execute_reply": "2024-03-09T09:08:49.037782Z",
     "shell.execute_reply.started": "2024-03-09T09:08:49.016742Z"
    }
   },
   "outputs": [
    {
     "name": "stdout",
     "output_type": "stream",
     "text": [
      "<class 'pandas.core.frame.DataFrame'>\n",
      "Int64Index: 558211 entries, 0 to 558210\n",
      "Data columns (total 31 columns):\n",
      " #   Column                    Non-Null Count   Dtype  \n",
      "---  ------                    --------------   -----  \n",
      " 0   BeneID                    558211 non-null  int32  \n",
      " 1   ClaimID                   558211 non-null  int32  \n",
      " 2   Provider                  558211 non-null  int32  \n",
      " 3   InscClaimAmtReimbursed    558211 non-null  int64  \n",
      " 4   AttendingPhysician        558211 non-null  int32  \n",
      " 5   OperatingPhysician        558211 non-null  int32  \n",
      " 6   OtherPhysician            558211 non-null  int32  \n",
      " 7   ClmAdmitDiagnosisCode     558211 non-null  int32  \n",
      " 8   DeductibleAmtPaid         558211 non-null  int64  \n",
      " 9   DiagnosisGroupCode        558211 non-null  int32  \n",
      " 10  ClmDiagnosisCode_1        558211 non-null  int32  \n",
      " 11  ClaimPeriod               558211 non-null  int64  \n",
      " 12  TimeInHptal               40474 non-null   float64\n",
      " 13  DiagnosisIndex            558211 non-null  float64\n",
      " 14  ProcedureIndex            558211 non-null  float64\n",
      " 15  SamePhysician             558211 non-null  int64  \n",
      " 16  Admitted                  558211 non-null  int64  \n",
      " 17  Gender                    558211 non-null  int64  \n",
      " 18  Race                      558211 non-null  int64  \n",
      " 19  RenalDiseaseIndicator     558211 non-null  int32  \n",
      " 20  State                     558211 non-null  int64  \n",
      " 21  County                    558211 non-null  int64  \n",
      " 22  NoOfMonths_PartACov       558211 non-null  int64  \n",
      " 23  NoOfMonths_PartBCov       558211 non-null  int64  \n",
      " 24  IPAnnualReimbursementAmt  558211 non-null  int64  \n",
      " 25  IPAnnualDeductibleAmt     558211 non-null  int64  \n",
      " 26  OPAnnualReimbursementAmt  558211 non-null  int64  \n",
      " 27  OPAnnualDeductibleAmt     558211 non-null  int64  \n",
      " 28  Age                       558211 non-null  float64\n",
      " 29  Alive                     558211 non-null  int64  \n",
      " 30  ChronicDiseaseIndex       558211 non-null  float64\n",
      "dtypes: float64(5), int32(10), int64(16)\n",
      "memory usage: 115.0 MB\n"
     ]
    }
   ],
   "source": [
    "X.info()"
   ]
  },
  {
   "cell_type": "code",
   "execution_count": 77,
   "metadata": {
    "execution": {
     "iopub.execute_input": "2024-03-09T09:08:49.039845Z",
     "iopub.status.busy": "2024-03-09T09:08:49.039597Z",
     "iopub.status.idle": "2024-03-09T09:08:49.068989Z",
     "shell.execute_reply": "2024-03-09T09:08:49.067880Z",
     "shell.execute_reply.started": "2024-03-09T09:08:49.039824Z"
    }
   },
   "outputs": [],
   "source": [
    "X = X.fillna(-9999)"
   ]
  },
  {
   "cell_type": "code",
   "execution_count": 78,
   "metadata": {
    "execution": {
     "iopub.execute_input": "2024-03-09T09:08:49.070503Z",
     "iopub.status.busy": "2024-03-09T09:08:49.070278Z",
     "iopub.status.idle": "2024-03-09T09:08:49.351496Z",
     "shell.execute_reply": "2024-03-09T09:08:49.350663Z",
     "shell.execute_reply.started": "2024-03-09T09:08:49.070483Z"
    }
   },
   "outputs": [
    {
     "data": {
      "text/plain": [
       "((446568, 31), (111643, 31), (446568,), (111643,))"
      ]
     },
     "execution_count": 78,
     "metadata": {},
     "output_type": "execute_result"
    }
   ],
   "source": [
    "X_train, X_val, y_train, y_val = tts(X, y, test_size=0.20, stratify=y, random_state=42)\n",
    "# Checking shape of each set\n",
    "X_train.shape, X_val.shape, y_train.shape, y_val.shape"
   ]
  },
  {
   "cell_type": "markdown",
   "metadata": {},
   "source": []
  },
  {
   "cell_type": "code",
   "execution_count": 79,
   "metadata": {
    "execution": {
     "iopub.execute_input": "2024-03-09T09:08:49.352838Z",
     "iopub.status.busy": "2024-03-09T09:08:49.352615Z",
     "iopub.status.idle": "2024-03-09T09:08:49.363758Z",
     "shell.execute_reply": "2024-03-09T09:08:49.362792Z",
     "shell.execute_reply.started": "2024-03-09T09:08:49.352818Z"
    }
   },
   "outputs": [
    {
     "data": {
      "text/plain": [
       "0    276332\n",
       "1    170236\n",
       "Name: PotentialFraud, dtype: int64"
      ]
     },
     "execution_count": 79,
     "metadata": {},
     "output_type": "execute_result"
    }
   ],
   "source": [
    "# Checking count of tgt labels in y_train\n",
    "y_train.value_counts()"
   ]
  },
  {
   "cell_type": "code",
   "execution_count": 80,
   "metadata": {
    "execution": {
     "iopub.execute_input": "2024-03-09T09:08:49.365240Z",
     "iopub.status.busy": "2024-03-09T09:08:49.364889Z",
     "iopub.status.idle": "2024-03-09T09:08:49.385938Z",
     "shell.execute_reply": "2024-03-09T09:08:49.384879Z",
     "shell.execute_reply.started": "2024-03-09T09:08:49.365212Z"
    }
   },
   "outputs": [
    {
     "data": {
      "text/html": [
       "<div>\n",
       "<style scoped>\n",
       "    .dataframe tbody tr th:only-of-type {\n",
       "        vertical-align: middle;\n",
       "    }\n",
       "\n",
       "    .dataframe tbody tr th {\n",
       "        vertical-align: top;\n",
       "    }\n",
       "\n",
       "    .dataframe thead th {\n",
       "        text-align: right;\n",
       "    }\n",
       "</style>\n",
       "<table border=\"1\" class=\"dataframe\">\n",
       "  <thead>\n",
       "    <tr style=\"text-align: right;\">\n",
       "      <th></th>\n",
       "      <th>BeneID</th>\n",
       "      <th>ClaimID</th>\n",
       "      <th>Provider</th>\n",
       "      <th>InscClaimAmtReimbursed</th>\n",
       "      <th>AttendingPhysician</th>\n",
       "      <th>OperatingPhysician</th>\n",
       "      <th>OtherPhysician</th>\n",
       "      <th>ClmAdmitDiagnosisCode</th>\n",
       "      <th>DeductibleAmtPaid</th>\n",
       "      <th>DiagnosisGroupCode</th>\n",
       "      <th>...</th>\n",
       "      <th>County</th>\n",
       "      <th>NoOfMonths_PartACov</th>\n",
       "      <th>NoOfMonths_PartBCov</th>\n",
       "      <th>IPAnnualReimbursementAmt</th>\n",
       "      <th>IPAnnualDeductibleAmt</th>\n",
       "      <th>OPAnnualReimbursementAmt</th>\n",
       "      <th>OPAnnualDeductibleAmt</th>\n",
       "      <th>Age</th>\n",
       "      <th>Alive</th>\n",
       "      <th>ChronicDiseaseIndex</th>\n",
       "    </tr>\n",
       "  </thead>\n",
       "  <tbody>\n",
       "    <tr>\n",
       "      <th>49668</th>\n",
       "      <td>98075</td>\n",
       "      <td>85879</td>\n",
       "      <td>674</td>\n",
       "      <td>30</td>\n",
       "      <td>13324</td>\n",
       "      <td>0</td>\n",
       "      <td>5291</td>\n",
       "      <td>0</td>\n",
       "      <td>0</td>\n",
       "      <td>736</td>\n",
       "      <td>...</td>\n",
       "      <td>13</td>\n",
       "      <td>12</td>\n",
       "      <td>12</td>\n",
       "      <td>77200</td>\n",
       "      <td>4772</td>\n",
       "      <td>4270</td>\n",
       "      <td>680</td>\n",
       "      <td>57.0</td>\n",
       "      <td>0</td>\n",
       "      <td>5.0</td>\n",
       "    </tr>\n",
       "    <tr>\n",
       "      <th>381763</th>\n",
       "      <td>11651</td>\n",
       "      <td>541129</td>\n",
       "      <td>2487</td>\n",
       "      <td>0</td>\n",
       "      <td>30061</td>\n",
       "      <td>0</td>\n",
       "      <td>17099</td>\n",
       "      <td>0</td>\n",
       "      <td>0</td>\n",
       "      <td>736</td>\n",
       "      <td>...</td>\n",
       "      <td>165</td>\n",
       "      <td>12</td>\n",
       "      <td>12</td>\n",
       "      <td>0</td>\n",
       "      <td>0</td>\n",
       "      <td>3500</td>\n",
       "      <td>220</td>\n",
       "      <td>68.0</td>\n",
       "      <td>0</td>\n",
       "      <td>8.0</td>\n",
       "    </tr>\n",
       "    <tr>\n",
       "      <th>284830</th>\n",
       "      <td>6196</td>\n",
       "      <td>412523</td>\n",
       "      <td>2167</td>\n",
       "      <td>3000</td>\n",
       "      <td>65302</td>\n",
       "      <td>0</td>\n",
       "      <td>0</td>\n",
       "      <td>2928</td>\n",
       "      <td>1068</td>\n",
       "      <td>231</td>\n",
       "      <td>...</td>\n",
       "      <td>12</td>\n",
       "      <td>12</td>\n",
       "      <td>12</td>\n",
       "      <td>3040</td>\n",
       "      <td>1068</td>\n",
       "      <td>1070</td>\n",
       "      <td>690</td>\n",
       "      <td>58.0</td>\n",
       "      <td>0</td>\n",
       "      <td>5.0</td>\n",
       "    </tr>\n",
       "    <tr>\n",
       "      <th>379765</th>\n",
       "      <td>71529</td>\n",
       "      <td>66515</td>\n",
       "      <td>1195</td>\n",
       "      <td>50</td>\n",
       "      <td>64432</td>\n",
       "      <td>0</td>\n",
       "      <td>0</td>\n",
       "      <td>2827</td>\n",
       "      <td>0</td>\n",
       "      <td>736</td>\n",
       "      <td>...</td>\n",
       "      <td>5</td>\n",
       "      <td>12</td>\n",
       "      <td>12</td>\n",
       "      <td>0</td>\n",
       "      <td>0</td>\n",
       "      <td>6800</td>\n",
       "      <td>790</td>\n",
       "      <td>66.0</td>\n",
       "      <td>0</td>\n",
       "      <td>7.0</td>\n",
       "    </tr>\n",
       "    <tr>\n",
       "      <th>513472</th>\n",
       "      <td>42396</td>\n",
       "      <td>251524</td>\n",
       "      <td>1285</td>\n",
       "      <td>10</td>\n",
       "      <td>49339</td>\n",
       "      <td>0</td>\n",
       "      <td>0</td>\n",
       "      <td>4054</td>\n",
       "      <td>0</td>\n",
       "      <td>736</td>\n",
       "      <td>...</td>\n",
       "      <td>68</td>\n",
       "      <td>12</td>\n",
       "      <td>12</td>\n",
       "      <td>9000</td>\n",
       "      <td>1068</td>\n",
       "      <td>1260</td>\n",
       "      <td>270</td>\n",
       "      <td>101.0</td>\n",
       "      <td>0</td>\n",
       "      <td>2.0</td>\n",
       "    </tr>\n",
       "  </tbody>\n",
       "</table>\n",
       "<p>5 rows × 31 columns</p>\n",
       "</div>"
      ],
      "text/plain": [
       "        BeneID  ClaimID  Provider  InscClaimAmtReimbursed  AttendingPhysician  \\\n",
       "49668    98075    85879       674                      30               13324   \n",
       "381763   11651   541129      2487                       0               30061   \n",
       "284830    6196   412523      2167                    3000               65302   \n",
       "379765   71529    66515      1195                      50               64432   \n",
       "513472   42396   251524      1285                      10               49339   \n",
       "\n",
       "        OperatingPhysician  OtherPhysician  ClmAdmitDiagnosisCode  \\\n",
       "49668                    0            5291                      0   \n",
       "381763                   0           17099                      0   \n",
       "284830                   0               0                   2928   \n",
       "379765                   0               0                   2827   \n",
       "513472                   0               0                   4054   \n",
       "\n",
       "        DeductibleAmtPaid  DiagnosisGroupCode  ...  County  \\\n",
       "49668                   0                 736  ...      13   \n",
       "381763                  0                 736  ...     165   \n",
       "284830               1068                 231  ...      12   \n",
       "379765                  0                 736  ...       5   \n",
       "513472                  0                 736  ...      68   \n",
       "\n",
       "        NoOfMonths_PartACov  NoOfMonths_PartBCov  IPAnnualReimbursementAmt  \\\n",
       "49668                    12                   12                     77200   \n",
       "381763                   12                   12                         0   \n",
       "284830                   12                   12                      3040   \n",
       "379765                   12                   12                         0   \n",
       "513472                   12                   12                      9000   \n",
       "\n",
       "        IPAnnualDeductibleAmt  OPAnnualReimbursementAmt  \\\n",
       "49668                    4772                      4270   \n",
       "381763                      0                      3500   \n",
       "284830                   1068                      1070   \n",
       "379765                      0                      6800   \n",
       "513472                   1068                      1260   \n",
       "\n",
       "        OPAnnualDeductibleAmt    Age  Alive  ChronicDiseaseIndex  \n",
       "49668                     680   57.0      0                  5.0  \n",
       "381763                    220   68.0      0                  8.0  \n",
       "284830                    690   58.0      0                  5.0  \n",
       "379765                    790   66.0      0                  7.0  \n",
       "513472                    270  101.0      0                  2.0  \n",
       "\n",
       "[5 rows x 31 columns]"
      ]
     },
     "execution_count": 80,
     "metadata": {},
     "output_type": "execute_result"
    }
   ],
   "source": [
    "X_val.head()"
   ]
  },
  {
   "cell_type": "markdown",
   "metadata": {},
   "source": [
    "### Random Forest"
   ]
  },
  {
   "cell_type": "code",
   "execution_count": 81,
   "metadata": {
    "execution": {
     "iopub.execute_input": "2024-03-09T09:08:49.387987Z",
     "iopub.status.busy": "2024-03-09T09:08:49.387566Z",
     "iopub.status.idle": "2024-03-09T09:12:42.462962Z",
     "shell.execute_reply": "2024-03-09T09:12:42.461969Z",
     "shell.execute_reply.started": "2024-03-09T09:08:49.387949Z"
    }
   },
   "outputs": [
    {
     "data": {
      "text/html": [
       "<style>#sk-container-id-1 {color: black;}#sk-container-id-1 pre{padding: 0;}#sk-container-id-1 div.sk-toggleable {background-color: white;}#sk-container-id-1 label.sk-toggleable__label {cursor: pointer;display: block;width: 100%;margin-bottom: 0;padding: 0.3em;box-sizing: border-box;text-align: center;}#sk-container-id-1 label.sk-toggleable__label-arrow:before {content: \"▸\";float: left;margin-right: 0.25em;color: #696969;}#sk-container-id-1 label.sk-toggleable__label-arrow:hover:before {color: black;}#sk-container-id-1 div.sk-estimator:hover label.sk-toggleable__label-arrow:before {color: black;}#sk-container-id-1 div.sk-toggleable__content {max-height: 0;max-width: 0;overflow: hidden;text-align: left;background-color: #f0f8ff;}#sk-container-id-1 div.sk-toggleable__content pre {margin: 0.2em;color: black;border-radius: 0.25em;background-color: #f0f8ff;}#sk-container-id-1 input.sk-toggleable__control:checked~div.sk-toggleable__content {max-height: 200px;max-width: 100%;overflow: auto;}#sk-container-id-1 input.sk-toggleable__control:checked~label.sk-toggleable__label-arrow:before {content: \"▾\";}#sk-container-id-1 div.sk-estimator input.sk-toggleable__control:checked~label.sk-toggleable__label {background-color: #d4ebff;}#sk-container-id-1 div.sk-label input.sk-toggleable__control:checked~label.sk-toggleable__label {background-color: #d4ebff;}#sk-container-id-1 input.sk-hidden--visually {border: 0;clip: rect(1px 1px 1px 1px);clip: rect(1px, 1px, 1px, 1px);height: 1px;margin: -1px;overflow: hidden;padding: 0;position: absolute;width: 1px;}#sk-container-id-1 div.sk-estimator {font-family: monospace;background-color: #f0f8ff;border: 1px dotted black;border-radius: 0.25em;box-sizing: border-box;margin-bottom: 0.5em;}#sk-container-id-1 div.sk-estimator:hover {background-color: #d4ebff;}#sk-container-id-1 div.sk-parallel-item::after {content: \"\";width: 100%;border-bottom: 1px solid gray;flex-grow: 1;}#sk-container-id-1 div.sk-label:hover label.sk-toggleable__label {background-color: #d4ebff;}#sk-container-id-1 div.sk-serial::before {content: \"\";position: absolute;border-left: 1px solid gray;box-sizing: border-box;top: 0;bottom: 0;left: 50%;z-index: 0;}#sk-container-id-1 div.sk-serial {display: flex;flex-direction: column;align-items: center;background-color: white;padding-right: 0.2em;padding-left: 0.2em;position: relative;}#sk-container-id-1 div.sk-item {position: relative;z-index: 1;}#sk-container-id-1 div.sk-parallel {display: flex;align-items: stretch;justify-content: center;background-color: white;position: relative;}#sk-container-id-1 div.sk-item::before, #sk-container-id-1 div.sk-parallel-item::before {content: \"\";position: absolute;border-left: 1px solid gray;box-sizing: border-box;top: 0;bottom: 0;left: 50%;z-index: -1;}#sk-container-id-1 div.sk-parallel-item {display: flex;flex-direction: column;z-index: 1;position: relative;background-color: white;}#sk-container-id-1 div.sk-parallel-item:first-child::after {align-self: flex-end;width: 50%;}#sk-container-id-1 div.sk-parallel-item:last-child::after {align-self: flex-start;width: 50%;}#sk-container-id-1 div.sk-parallel-item:only-child::after {width: 0;}#sk-container-id-1 div.sk-dashed-wrapped {border: 1px dashed gray;margin: 0 0.4em 0.5em 0.4em;box-sizing: border-box;padding-bottom: 0.4em;background-color: white;}#sk-container-id-1 div.sk-label label {font-family: monospace;font-weight: bold;display: inline-block;line-height: 1.2em;}#sk-container-id-1 div.sk-label-container {text-align: center;}#sk-container-id-1 div.sk-container {/* jupyter's `normalize.less` sets `[hidden] { display: none; }` but bootstrap.min.css set `[hidden] { display: none !important; }` so we also need the `!important` here to be able to override the default hidden behavior on the sphinx rendered scikit-learn.org. See: https://github.com/scikit-learn/scikit-learn/issues/21755 */display: inline-block !important;position: relative;}#sk-container-id-1 div.sk-text-repr-fallback {display: none;}</style><div id=\"sk-container-id-1\" class=\"sk-top-container\"><div class=\"sk-text-repr-fallback\"><pre>RandomForestClassifier(class_weight=&#x27;balanced&#x27;, max_depth=4, n_estimators=500,\n",
       "                       random_state=123)</pre><b>In a Jupyter environment, please rerun this cell to show the HTML representation or trust the notebook. <br />On GitHub, the HTML representation is unable to render, please try loading this page with nbviewer.org.</b></div><div class=\"sk-container\" hidden><div class=\"sk-item\"><div class=\"sk-estimator sk-toggleable\"><input class=\"sk-toggleable__control sk-hidden--visually\" id=\"sk-estimator-id-1\" type=\"checkbox\" checked><label for=\"sk-estimator-id-1\" class=\"sk-toggleable__label sk-toggleable__label-arrow\">RandomForestClassifier</label><div class=\"sk-toggleable__content\"><pre>RandomForestClassifier(class_weight=&#x27;balanced&#x27;, max_depth=4, n_estimators=500,\n",
       "                       random_state=123)</pre></div></div></div></div></div>"
      ],
      "text/plain": [
       "RandomForestClassifier(class_weight='balanced', max_depth=4, n_estimators=500,\n",
       "                       random_state=123)"
      ]
     },
     "execution_count": 81,
     "metadata": {},
     "output_type": "execute_result"
    }
   ],
   "source": [
    "#random forest model creation \n",
    "rfc = RandomForestClassifier(n_estimators=500,class_weight='balanced',random_state=123,max_depth=4) \n",
    "rfc.fit(X_train, y_train) \n",
    "#predictions "
   ]
  },
  {
   "cell_type": "code",
   "execution_count": 82,
   "metadata": {
    "execution": {
     "iopub.execute_input": "2024-03-09T09:12:42.464413Z",
     "iopub.status.busy": "2024-03-09T09:12:42.464101Z",
     "iopub.status.idle": "2024-03-09T09:12:45.500917Z",
     "shell.execute_reply": "2024-03-09T09:12:45.499962Z",
     "shell.execute_reply.started": "2024-03-09T09:12:42.464385Z"
    }
   },
   "outputs": [],
   "source": [
    "y_predict = rfc.predict(X_val)"
   ]
  },
  {
   "cell_type": "code",
   "execution_count": 83,
   "metadata": {
    "execution": {
     "iopub.execute_input": "2024-03-09T09:12:45.502493Z",
     "iopub.status.busy": "2024-03-09T09:12:45.502123Z",
     "iopub.status.idle": "2024-03-09T09:12:48.793722Z",
     "shell.execute_reply": "2024-03-09T09:12:48.792653Z",
     "shell.execute_reply.started": "2024-03-09T09:12:45.502460Z"
    }
   },
   "outputs": [
    {
     "data": {
      "image/png": "[encoded data removed]",
      "text/plain": [
       "<Figure size 640x480 with 1 Axes>"
      ]
     },
     "metadata": {},
     "output_type": "display_data"
    }
   ],
   "source": [
    "from sklearn.metrics import roc_curve, auc\n",
    "fpr, tpr, thresholds = roc_curve(y_val, rfc.predict_proba(X_val)[:,1])\n",
    "roc_auc = auc(fpr, tpr)\n",
    "\n",
    "plt.figure()\n",
    "plt.plot(fpr, tpr, color='darkorange', lw=1, label='ROC curve (AUC = %0.2f)' % roc_auc)\n",
    "\n",
    "for label in range(1,10,1):\n",
    "    plt.text((10-label)/10,(10-label)/10,thresholds[label*15],fontdict={'size': 14})\n",
    "    \n",
    "plt.plot([0, 1], [0, 1], color='navy', lw=1, linestyle='--')\n",
    "plt.xlim([0.0, 1.0])\n",
    "plt.ylim([0.0, 1.05])\n",
    "plt.xlabel('False Positive Rate')\n",
    "plt.ylabel('True Positive Rate')\n",
    "plt.title('Receiver operating characteristic of Model 1')\n",
    "plt.legend(loc=\"lower right\")\n",
    "plt.show()"
   ]
  },
  {
   "cell_type": "code",
   "execution_count": 84,
   "metadata": {
    "execution": {
     "iopub.execute_input": "2024-03-09T09:12:48.795674Z",
     "iopub.status.busy": "2024-03-09T09:12:48.795149Z",
     "iopub.status.idle": "2024-03-09T09:12:48.926499Z",
     "shell.execute_reply": "2024-03-09T09:12:48.925638Z",
     "shell.execute_reply.started": "2024-03-09T09:12:48.795648Z"
    }
   },
   "outputs": [
    {
     "name": "stdout",
     "output_type": "stream",
     "text": [
      "The model used is Random Forest classifier\n",
      "The accuracy is 0.6456114579507896\n",
      "The precision is 0.5545279102792848\n",
      "The recall is 0.3578242481203007\n",
      "The F1-Score is 0.43497136655099033\n",
      "The Matthews correlation coefficient is1.0\n"
     ]
    }
   ],
   "source": [
    "#building all kinds of evaluating parameters\n",
    "from sklearn.metrics import classification_report, accuracy_score  \n",
    "from sklearn.metrics import precision_score, recall_score \n",
    "from sklearn.metrics import f1_score, matthews_corrcoef \n",
    "from sklearn.metrics import confusion_matrix \n",
    "  \n",
    "n_outliers = len(fraud) \n",
    "n_errors = (y_predict != y_val).sum() \n",
    "print(\"The model used is Random Forest classifier\") \n",
    "  \n",
    "acc = accuracy_score(y_val, y_predict) \n",
    "print(\"The accuracy is {}\".format(acc)) \n",
    "  \n",
    "prec = precision_score(y_val, y_predict) \n",
    "print(\"The precision is {}\".format(prec)) \n",
    "  \n",
    "rec = recall_score(y_val,y_predict) \n",
    "print(\"The recall is {}\".format(rec)) \n",
    "  \n",
    "f1 = f1_score(y_val, y_predict) \n",
    "print(\"The F1-Score is {}\".format(f1)) \n",
    "  \n",
    "MCC = matthews_corrcoef(y_val, y_val) \n",
    "print(\"The Matthews correlation coefficient is{}\".format(MCC)) "
   ]
  },
  {
   "cell_type": "code",
   "execution_count": 85,
   "metadata": {
    "execution": {
     "iopub.execute_input": "2024-03-09T09:12:48.928300Z",
     "iopub.status.busy": "2024-03-09T09:12:48.927693Z",
     "iopub.status.idle": "2024-03-09T09:21:35.151685Z",
     "shell.execute_reply": "2024-03-09T09:21:35.150487Z",
     "shell.execute_reply.started": "2024-03-09T09:12:48.928269Z"
    }
   },
   "outputs": [
    {
     "data": {
      "text/html": [
       "<style>#sk-container-id-2 {color: black;}#sk-container-id-2 pre{padding: 0;}#sk-container-id-2 div.sk-toggleable {background-color: white;}#sk-container-id-2 label.sk-toggleable__label {cursor: pointer;display: block;width: 100%;margin-bottom: 0;padding: 0.3em;box-sizing: border-box;text-align: center;}#sk-container-id-2 label.sk-toggleable__label-arrow:before {content: \"▸\";float: left;margin-right: 0.25em;color: #696969;}#sk-container-id-2 label.sk-toggleable__label-arrow:hover:before {color: black;}#sk-container-id-2 div.sk-estimator:hover label.sk-toggleable__label-arrow:before {color: black;}#sk-container-id-2 div.sk-toggleable__content {max-height: 0;max-width: 0;overflow: hidden;text-align: left;background-color: #f0f8ff;}#sk-container-id-2 div.sk-toggleable__content pre {margin: 0.2em;color: black;border-radius: 0.25em;background-color: #f0f8ff;}#sk-container-id-2 input.sk-toggleable__control:checked~div.sk-toggleable__content {max-height: 200px;max-width: 100%;overflow: auto;}#sk-container-id-2 input.sk-toggleable__control:checked~label.sk-toggleable__label-arrow:before {content: \"▾\";}#sk-container-id-2 div.sk-estimator input.sk-toggleable__control:checked~label.sk-toggleable__label {background-color: #d4ebff;}#sk-container-id-2 div.sk-label input.sk-toggleable__control:checked~label.sk-toggleable__label {background-color: #d4ebff;}#sk-container-id-2 input.sk-hidden--visually {border: 0;clip: rect(1px 1px 1px 1px);clip: rect(1px, 1px, 1px, 1px);height: 1px;margin: -1px;overflow: hidden;padding: 0;position: absolute;width: 1px;}#sk-container-id-2 div.sk-estimator {font-family: monospace;background-color: #f0f8ff;border: 1px dotted black;border-radius: 0.25em;box-sizing: border-box;margin-bottom: 0.5em;}#sk-container-id-2 div.sk-estimator:hover {background-color: #d4ebff;}#sk-container-id-2 div.sk-parallel-item::after {content: \"\";width: 100%;border-bottom: 1px solid gray;flex-grow: 1;}#sk-container-id-2 div.sk-label:hover label.sk-toggleable__label {background-color: #d4ebff;}#sk-container-id-2 div.sk-serial::before {content: \"\";position: absolute;border-left: 1px solid gray;box-sizing: border-box;top: 0;bottom: 0;left: 50%;z-index: 0;}#sk-container-id-2 div.sk-serial {display: flex;flex-direction: column;align-items: center;background-color: white;padding-right: 0.2em;padding-left: 0.2em;position: relative;}#sk-container-id-2 div.sk-item {position: relative;z-index: 1;}#sk-container-id-2 div.sk-parallel {display: flex;align-items: stretch;justify-content: center;background-color: white;position: relative;}#sk-container-id-2 div.sk-item::before, #sk-container-id-2 div.sk-parallel-item::before {content: \"\";position: absolute;border-left: 1px solid gray;box-sizing: border-box;top: 0;bottom: 0;left: 50%;z-index: -1;}#sk-container-id-2 div.sk-parallel-item {display: flex;flex-direction: column;z-index: 1;position: relative;background-color: white;}#sk-container-id-2 div.sk-parallel-item:first-child::after {align-self: flex-end;width: 50%;}#sk-container-id-2 div.sk-parallel-item:last-child::after {align-self: flex-start;width: 50%;}#sk-container-id-2 div.sk-parallel-item:only-child::after {width: 0;}#sk-container-id-2 div.sk-dashed-wrapped {border: 1px dashed gray;margin: 0 0.4em 0.5em 0.4em;box-sizing: border-box;padding-bottom: 0.4em;background-color: white;}#sk-container-id-2 div.sk-label label {font-family: monospace;font-weight: bold;display: inline-block;line-height: 1.2em;}#sk-container-id-2 div.sk-label-container {text-align: center;}#sk-container-id-2 div.sk-container {/* jupyter's `normalize.less` sets `[hidden] { display: none; }` but bootstrap.min.css set `[hidden] { display: none !important; }` so we also need the `!important` here to be able to override the default hidden behavior on the sphinx rendered scikit-learn.org. See: https://github.com/scikit-learn/scikit-learn/issues/21755 */display: inline-block !important;position: relative;}#sk-container-id-2 div.sk-text-repr-fallback {display: none;}</style><div id=\"sk-container-id-2\" class=\"sk-top-container\"><div class=\"sk-text-repr-fallback\"><pre>RandomForestClassifier(class_weight=&#x27;balanced&#x27;, max_depth=10, n_estimators=500,\n",
       "                       random_state=123)</pre><b>In a Jupyter environment, please rerun this cell to show the HTML representation or trust the notebook. <br />On GitHub, the HTML representation is unable to render, please try loading this page with nbviewer.org.</b></div><div class=\"sk-container\" hidden><div class=\"sk-item\"><div class=\"sk-estimator sk-toggleable\"><input class=\"sk-toggleable__control sk-hidden--visually\" id=\"sk-estimator-id-2\" type=\"checkbox\" checked><label for=\"sk-estimator-id-2\" class=\"sk-toggleable__label sk-toggleable__label-arrow\">RandomForestClassifier</label><div class=\"sk-toggleable__content\"><pre>RandomForestClassifier(class_weight=&#x27;balanced&#x27;, max_depth=10, n_estimators=500,\n",
       "                       random_state=123)</pre></div></div></div></div></div>"
      ],
      "text/plain": [
       "RandomForestClassifier(class_weight='balanced', max_depth=10, n_estimators=500,\n",
       "                       random_state=123)"
      ]
     },
     "execution_count": 85,
     "metadata": {},
     "output_type": "execute_result"
    }
   ],
   "source": [
    "#random forest model creation \n",
    "rfc2 = RandomForestClassifier(n_estimators=500,class_weight='balanced',random_state=123,max_depth=10) \n",
    "rfc2.fit(X_train, y_train) \n",
    "#predictions "
   ]
  },
  {
   "cell_type": "code",
   "execution_count": 86,
   "metadata": {
    "execution": {
     "iopub.execute_input": "2024-03-09T09:21:35.153623Z",
     "iopub.status.busy": "2024-03-09T09:21:35.153062Z",
     "iopub.status.idle": "2024-03-09T09:21:40.171259Z",
     "shell.execute_reply": "2024-03-09T09:21:40.170234Z",
     "shell.execute_reply.started": "2024-03-09T09:21:35.153596Z"
    }
   },
   "outputs": [],
   "source": [
    "y_predict2 = rfc2.predict(X_val)"
   ]
  },
  {
   "cell_type": "code",
   "execution_count": 87,
   "metadata": {
    "execution": {
     "iopub.execute_input": "2024-03-09T09:21:40.172616Z",
     "iopub.status.busy": "2024-03-09T09:21:40.172367Z",
     "iopub.status.idle": "2024-03-09T09:21:45.290935Z",
     "shell.execute_reply": "2024-03-09T09:21:45.290080Z",
     "shell.execute_reply.started": "2024-03-09T09:21:40.172594Z"
    }
   },
   "outputs": [
    {
     "data": {
      "image/png": "[encoded data removed]",
      "text/plain": [
       "<Figure size 640x480 with 1 Axes>"
      ]
     },
     "metadata": {},
     "output_type": "display_data"
    }
   ],
   "source": [
    "fpr, tpr, thresholds = roc_curve(y_val, rfc2.predict_proba(X_val)[:,1])\n",
    "roc_auc = auc(fpr, tpr)\n",
    "\n",
    "plt.figure()\n",
    "plt.plot(fpr, tpr, color='darkorange', lw=1, label='ROC curve (AUC = %0.2f)' % roc_auc)\n",
    "\n",
    "for label in range(1,10,1):\n",
    "    plt.text((10-label)/10,(10-label)/10,thresholds[label*15],fontdict={'size': 14})\n",
    "    \n",
    "plt.plot([0, 1], [0, 1], color='navy', lw=1, linestyle='--')\n",
    "plt.xlim([0.0, 1.0])\n",
    "plt.ylim([0.0, 1.05])\n",
    "plt.xlabel('False Positive Rate')\n",
    "plt.ylabel('True Positive Rate')\n",
    "plt.title('Receiver operating characteristic of Model 2')\n",
    "plt.legend(loc=\"lower right\")\n",
    "plt.show()"
   ]
  },
  {
   "cell_type": "code",
   "execution_count": 88,
   "metadata": {
    "execution": {
     "iopub.execute_input": "2024-03-09T09:21:45.292325Z",
     "iopub.status.busy": "2024-03-09T09:21:45.292018Z",
     "iopub.status.idle": "2024-03-09T09:21:45.397150Z",
     "shell.execute_reply": "2024-03-09T09:21:45.395790Z",
     "shell.execute_reply.started": "2024-03-09T09:21:45.292297Z"
    }
   },
   "outputs": [
    {
     "name": "stdout",
     "output_type": "stream",
     "text": [
      "The model used is Random Forest classifier with depth of 10\n",
      "The accuracy is 0.7235473786981719\n",
      "The precision is 0.6619675400210492\n",
      "The recall is 0.5615836466165414\n",
      "The F1-Score is 0.6076576920143392\n"
     ]
    }
   ],
   "source": [
    "print(\"The model used is Random Forest classifier with depth of 10\") \n",
    "  \n",
    "acc = accuracy_score(y_val, y_predict2) \n",
    "print(\"The accuracy is {}\".format(acc)) \n",
    "  \n",
    "prec = precision_score(y_val, y_predict2) \n",
    "print(\"The precision is {}\".format(prec)) \n",
    "  \n",
    "rec = recall_score(y_val,y_predict2) \n",
    "print(\"The recall is {}\".format(rec)) \n",
    "  \n",
    "f1 = f1_score(y_val, y_predict2) \n",
    "print(\"The F1-Score is {}\".format(f1)) "
   ]
  },
  {
   "cell_type": "code",
   "execution_count": 89,
   "metadata": {
    "execution": {
     "iopub.execute_input": "2024-03-09T09:21:45.398985Z",
     "iopub.status.busy": "2024-03-09T09:21:45.398584Z",
     "iopub.status.idle": "2024-03-09T09:33:15.877631Z",
     "shell.execute_reply": "2024-03-09T09:33:15.876388Z",
     "shell.execute_reply.started": "2024-03-09T09:21:45.398950Z"
    }
   },
   "outputs": [],
   "source": [
    "#random forest model creation \n",
    "rfc3 = RandomForestClassifier(n_estimators=500,class_weight='balanced',random_state=123,max_depth=15) \n",
    "rfc3.fit(X_train, y_train) \n",
    "#predictions \n",
    "y_predict3 = rfc3.predict(X_val)"
   ]
  },
  {
   "cell_type": "code",
   "execution_count": 90,
   "metadata": {
    "execution": {
     "iopub.execute_input": "2024-03-09T09:33:15.879542Z",
     "iopub.status.busy": "2024-03-09T09:33:15.879224Z",
     "iopub.status.idle": "2024-03-09T09:33:23.797351Z",
     "shell.execute_reply": "2024-03-09T09:33:23.796541Z",
     "shell.execute_reply.started": "2024-03-09T09:33:15.879519Z"
    }
   },
   "outputs": [
    {
     "data": {
      "image/png": "[encoded data removed]",
      "text/plain": [
       "<Figure size 640x480 with 1 Axes>"
      ]
     },
     "metadata": {},
     "output_type": "display_data"
    }
   ],
   "source": [
    "fpr, tpr, thresholds = roc_curve(y_val, rfc3.predict_proba(X_val)[:,1])\n",
    "roc_auc = auc(fpr, tpr)\n",
    "\n",
    "plt.figure()\n",
    "plt.plot(fpr, tpr, color='darkorange', lw=1, label='ROC curve (AUC = %0.2f)' % roc_auc)\n",
    "\n",
    "for label in range(1,10,1):\n",
    "    plt.text((10-label)/10,(10-label)/10,thresholds[label*15],fontdict={'size': 14})\n",
    "    \n",
    "plt.plot([0, 1], [0, 1], color='navy', lw=1, linestyle='--')\n",
    "plt.xlim([0.0, 1.0])\n",
    "plt.ylim([0.0, 1.05])\n",
    "plt.xlabel('False Positive Rate')\n",
    "plt.ylabel('True Positive Rate')\n",
    "plt.title('Receiver operating characteristic of Model3')\n",
    "plt.legend(loc=\"lower right\")\n",
    "plt.show()"
   ]
  },
  {
   "cell_type": "code",
   "execution_count": 91,
   "metadata": {
    "execution": {
     "iopub.execute_input": "2024-03-09T09:33:23.799051Z",
     "iopub.status.busy": "2024-03-09T09:33:23.798548Z",
     "iopub.status.idle": "2024-03-09T09:33:23.901492Z",
     "shell.execute_reply": "2024-03-09T09:33:23.900481Z",
     "shell.execute_reply.started": "2024-03-09T09:33:23.799022Z"
    }
   },
   "outputs": [
    {
     "name": "stdout",
     "output_type": "stream",
     "text": [
      "The model used is Random Forest classifier with depth of 15\n",
      "The accuracy is 0.7790457081948712\n",
      "The precision is 0.7344708287466583\n",
      "The recall is 0.6584351503759398\n",
      "The F1-Score is 0.6943776792130238\n"
     ]
    }
   ],
   "source": [
    "print(\"The model used is Random Forest classifier with depth of 15\") \n",
    "  \n",
    "acc = accuracy_score(y_val, y_predict3) \n",
    "print(\"The accuracy is {}\".format(acc)) \n",
    "  \n",
    "prec = precision_score(y_val, y_predict3) \n",
    "print(\"The precision is {}\".format(prec)) \n",
    "  \n",
    "rec = recall_score(y_val,y_predict3) \n",
    "print(\"The recall is {}\".format(rec)) \n",
    "  \n",
    "f1 = f1_score(y_val, y_predict3) \n",
    "print(\"The F1-Score is {}\".format(f1)) "
   ]
  },
  {
   "cell_type": "code",
   "execution_count": null,
   "metadata": {
    "execution": {
     "iopub.execute_input": "2024-03-09T09:33:23.902911Z",
     "iopub.status.busy": "2024-03-09T09:33:23.902624Z",
     "iopub.status.idle": "2024-03-09T09:49:57.559641Z",
     "shell.execute_reply": "2024-03-09T09:49:57.558383Z",
     "shell.execute_reply.started": "2024-03-09T09:33:23.902886Z"
    }
   },
   "outputs": [],
   "source": [
    "#random forest model creation \n",
    "rfc4 = RandomForestClassifier(n_estimators=500,class_weight='balanced',random_state=123,max_depth=25) \n",
    "rfc4.fit(X_train, y_train) \n",
    "#predictions \n",
    "y_predict4 = rfc4.predict(X_val)"
   ]
  },
  {
   "cell_type": "code",
   "execution_count": null,
   "metadata": {
    "execution": {
     "iopub.execute_input": "2024-03-09T09:49:57.561163Z",
     "iopub.status.busy": "2024-03-09T09:49:57.560896Z",
     "iopub.status.idle": "2024-03-09T09:49:57.670979Z",
     "shell.execute_reply": "2024-03-09T09:49:57.670275Z",
     "shell.execute_reply.started": "2024-03-09T09:49:57.561137Z"
    }
   },
   "outputs": [],
   "source": [
    "print(\"The model used is Random Forest classifier with depth of 25\") \n",
    "  \n",
    "acc = accuracy_score(y_val, y_predict4) \n",
    "print(\"The accuracy is {}\".format(acc)) \n",
    "  \n",
    "prec = precision_score(y_val, y_predict4) \n",
    "print(\"The precision is {}\".format(prec)) \n",
    "  \n",
    "rec = recall_score(y_val,y_predict4) \n",
    "print(\"The recall is {}\".format(rec)) \n",
    "  \n",
    "f1 = f1_score(y_val, y_predict4) \n",
    "print(\"The F1-Score is {}\".format(f1)) "
   ]
  },
  {
   "cell_type": "code",
   "execution_count": null,
   "metadata": {
    "execution": {
     "iopub.execute_input": "2024-03-09T09:49:57.672833Z",
     "iopub.status.busy": "2024-03-09T09:49:57.671877Z",
     "iopub.status.idle": "2024-03-09T09:50:12.421338Z",
     "shell.execute_reply": "2024-03-09T09:50:12.420457Z",
     "shell.execute_reply.started": "2024-03-09T09:49:57.672780Z"
    }
   },
   "outputs": [],
   "source": [
    "fpr, tpr, thresholds = roc_curve(y_val, rfc4.predict_proba(X_val)[:,1])\n",
    "roc_auc = auc(fpr, tpr)\n",
    "\n",
    "plt.figure()\n",
    "plt.plot(fpr, tpr, color='darkorange', lw=1, label='ROC curve (AUC = %0.2f)' % roc_auc)\n",
    "\n",
    "for label in range(1,10,1):\n",
    "    plt.text((10-label)/10,(10-label)/10,thresholds[label*15],fontdict={'size': 14})\n",
    "    \n",
    "plt.plot([0, 1], [0, 1], color='navy', lw=1, linestyle='--')\n",
    "plt.xlim([0.0, 1.0])\n",
    "plt.ylim([0.0, 1.05])\n",
    "plt.xlabel('False Positive Rate')\n",
    "plt.ylabel('True Positive Rate')\n",
    "plt.title('Receiver operating characteristic of Model 4')\n",
    "plt.legend(loc=\"lower right\")\n",
    "plt.show()"
   ]
  },
  {
   "cell_type": "code",
   "execution_count": null,
   "metadata": {
    "execution": {
     "iopub.execute_input": "2024-03-09T09:50:12.423290Z",
     "iopub.status.busy": "2024-03-09T09:50:12.422478Z"
    }
   },
   "outputs": [],
   "source": [
    "#random forest model creation \n",
    "rfc5 = RandomForestClassifier(n_estimators=1000,class_weight='balanced',random_state=123,max_depth=25) \n",
    "rfc5.fit(X_train, y_train) \n",
    "#predictions \n",
    "y_predict5 = rfc5.predict(X_val)\n",
    "\n",
    "\n",
    "print(\"The model used is Random Forest classifier with depth of 25 and estimators of 1000\") \n",
    "  \n",
    "acc = accuracy_score(y_val, y_predict5) \n",
    "print(\"The accuracy is {}\".format(acc)) \n",
    "  \n",
    "prec = precision_score(y_val, y_predict5) \n",
    "print(\"The precision is {}\".format(prec)) \n",
    "  \n",
    "rec = recall_score(y_val,y_predict5) \n",
    "print(\"The recall is {}\".format(rec)) \n",
    "  \n",
    "f1 = f1_score(y_val, y_predict5) \n",
    "print(\"The F1-Score is {}\".format(f1)) "
   ]
  },
  {
   "cell_type": "code",
   "execution_count": null,
   "metadata": {},
   "outputs": [],
   "source": [
    "fpr, tpr, thresholds = roc_curve(y_val, rfc5.predict_proba(X_val)[:,1])\n",
    "roc_auc = auc(fpr, tpr)\n",
    "\n",
    "plt.figure()\n",
    "plt.plot(fpr, tpr, color='darkorange', lw=1, label='ROC curve (AUC = %0.2f)' % roc_auc)\n",
    "\n",
    "for label in range(1,10,1):\n",
    "    plt.text((10-label)/10,(10-label)/10,thresholds[label*15],fontdict={'size': 14})\n",
    "    \n",
    "plt.plot([0, 1], [0, 1], color='navy', lw=1, linestyle='--')\n",
    "plt.xlim([0.0, 1.0])\n",
    "plt.ylim([0.0, 1.05])\n",
    "plt.xlabel('False Positive Rate')\n",
    "plt.ylabel('True Positive Rate')\n",
    "plt.title('Receiver operating characteristic of Model 5')\n",
    "plt.legend(loc=\"lower right\")\n",
    "plt.show()"
   ]
  },
  {
   "cell_type": "code",
   "execution_count": null,
   "metadata": {},
   "outputs": [],
   "source": [
    "#random forest model creation \n",
    "rfc6 = RandomForestClassifier(n_estimators=500,class_weight='balanced',random_state=123,max_depth=25,oob_score=True) \n",
    "rfc6.fit(X_train, y_train) \n",
    "#predictions \n",
    "y_predict6 = rfc6.predict(X_val)\n",
    "\n",
    "\n",
    "print(\"The model used is Random Forest classifier with depth of 25 and estimators of 1000\") \n",
    "  \n",
    "acc = accuracy_score(y_val, y_predict6) \n",
    "print(\"The accuracy is {}\".format(acc)) \n",
    "  \n",
    "prec = precision_score(y_val, y_predict6) \n",
    "print(\"The precision is {}\".format(prec)) \n",
    "  \n",
    "rec = recall_score(y_val,y_predict6) \n",
    "print(\"The recall is {}\".format(rec)) \n",
    "  \n",
    "f1 = f1_score(y_val, y_predict6) \n",
    "print(\"The F1-Score is {}\".format(f1)) "
   ]
  },
  {
   "cell_type": "code",
   "execution_count": null,
   "metadata": {},
   "outputs": [],
   "source": [
    "cnt=0\n",
    "for model in [rfc,rfc2,rfc4,rfc4,rfc5]:\n",
    "    cnt+=1\n",
    "    print(\"model\",cnt)\n",
    "    #print(\"used estimators:\",model.estimators_[-1])\n",
    "    print(\"feature_importances_\",model.feature_importances_)\n",
    "    print(\"num of feature seen during fitting :\",model.n_features_in_,\"\\n\")"
   ]
  },
  {
   "cell_type": "markdown",
   "metadata": {},
   "source": [
    "## SVM"
   ]
  },
  {
   "cell_type": "code",
   "execution_count": null,
   "metadata": {},
   "outputs": [],
   "source": [
    "from sklearn import svm"
   ]
  },
  {
   "cell_type": "code",
   "execution_count": null,
   "metadata": {},
   "outputs": [],
   "source": [
    "svm_model = svm.SVC()\n",
    "svm_model.fit(X_train, y_train) \n",
    "#predictions \n",
    "y_predict_svm = svm_model.predict(X_val)\n",
    "\n",
    "\n",
    "print(\"The model used is SVM (Support Vector Machines)\") \n",
    "  \n",
    "acc = accuracy_score(y_val, y_predict_svm) \n",
    "print(\"The accuracy is {}\".format(acc)) \n",
    "  \n",
    "prec = precision_score(y_val, y_predict_svm) \n",
    "print(\"The precision is {}\".format(prec)) \n",
    "  \n",
    "rec = recall_score(y_val,y_predict_svm) \n",
    "print(\"The recall is {}\".format(rec)) \n",
    "  \n",
    "f1 = f1_score(y_val, y_predict_svm) \n",
    "print(\"The F1-Score is {}\".format(f1)) "
   ]
  },
  {
   "cell_type": "markdown",
   "metadata": {},
   "source": [
    "## KNN"
   ]
  },
  {
   "cell_type": "code",
   "execution_count": null,
   "metadata": {},
   "outputs": [],
   "source": [
    "from sklearn.neighbors import KNeighborsClassifier"
   ]
  },
  {
   "cell_type": "code",
   "execution_count": null,
   "metadata": {},
   "outputs": [],
   "source": [
    "knn_model = KNeighborsClassifier(n_neighbors = 3)\n",
    "knn_model.fit(X_train, y_train) \n",
    "#predictions \n",
    "y_predict_knn = knn_model.predict(X_val)\n",
    "\n",
    "\n",
    "print(\"The model used is SVM (Support Vector Machines)\") \n",
    "  \n",
    "acc = accuracy_score(y_val, y_predict_knn) \n",
    "print(\"The accuracy is {}\".format(acc)) \n",
    "  \n",
    "prec = precision_score(y_val, y_predict_knn) \n",
    "print(\"The precision is {}\".format(prec)) \n",
    "  \n",
    "rec = recall_score(y_val,y_predict_knn) \n",
    "print(\"The recall is {}\".format(rec)) \n",
    "  \n",
    "f1 = f1_score(y_val, y_predict_knn) \n",
    "print(\"The F1-Score is {}\".format(f1)) "
   ]
  },
  {
   "cell_type": "code",
   "execution_count": null,
   "metadata": {},
   "outputs": [],
   "source": []
  },
  {
   "cell_type": "code",
   "execution_count": null,
   "metadata": {},
   "outputs": [],
   "source": []
  }
 ],
 "metadata": {
  "kaggle": {
   "accelerator": "gpu",
   "dataSources": [
    {
     "datasetId": 188596,
     "sourceId": 421248,
     "sourceType": "datasetVersion"
    }
   ],
   "dockerImageVersionId": 30558,
   "isGpuEnabled": true,
   "isInternetEnabled": true,
   "language": "python",
   "sourceType": "notebook"
  },
  "kernelspec": {
   "display_name": "Python 3 (ipykernel)",
   "language": "python",
   "name": "python3"
  },
  "language_info": {
   "codemirror_mode": {
    "name": "ipython",
    "version": 3
   },
   "file_extension": ".py",
   "mimetype": "text/x-python",
   "name": "python",
   "nbconvert_exporter": "python",
   "pygments_lexer": "ipython3",
   "version": "3.11.4"
  }
 },
 "nbformat": 4,
 "nbformat_minor": 4
}
